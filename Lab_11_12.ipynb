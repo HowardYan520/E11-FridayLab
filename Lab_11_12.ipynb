{
 "cells": [
  {
   "cell_type": "markdown",
   "id": "6c9e4f71",
   "metadata": {},
   "source": [
    "## E-11 Lab November 12th"
   ]
  },
  {
   "cell_type": "code",
   "execution_count": 1,
   "id": "f19e9e7a",
   "metadata": {},
   "outputs": [],
   "source": [
    "import pandas as pd\n",
    "import numpy as np\n",
    "import seaborn as sns\n",
    "import matplotlib.pyplot as plt"
   ]
  },
  {
   "cell_type": "code",
   "execution_count": 2,
   "id": "18f24a47",
   "metadata": {},
   "outputs": [],
   "source": [
    "## This is the thorium data from our code\n",
    "thorium_our=pd.read_csv(\"/Users/howardyan/Desktop/E11 Lab/GPIO_data_thorium.csv\")"
   ]
  },
  {
   "cell_type": "code",
   "execution_count": 3,
   "id": "354ac89c",
   "metadata": {},
   "outputs": [
    {
     "data": {
      "text/html": [
       "<div>\n",
       "<style scoped>\n",
       "    .dataframe tbody tr th:only-of-type {\n",
       "        vertical-align: middle;\n",
       "    }\n",
       "\n",
       "    .dataframe tbody tr th {\n",
       "        vertical-align: top;\n",
       "    }\n",
       "\n",
       "    .dataframe thead th {\n",
       "        text-align: right;\n",
       "    }\n",
       "</style>\n",
       "<table border=\"1\" class=\"dataframe\">\n",
       "  <thead>\n",
       "    <tr style=\"text-align: right;\">\n",
       "      <th></th>\n",
       "      <th>1635554641.1352348</th>\n",
       "      <th>0</th>\n",
       "    </tr>\n",
       "  </thead>\n",
       "  <tbody>\n",
       "    <tr>\n",
       "      <th>0</th>\n",
       "      <td>1.635555e+09</td>\n",
       "      <td>8</td>\n",
       "    </tr>\n",
       "    <tr>\n",
       "      <th>1</th>\n",
       "      <td>1.635555e+09</td>\n",
       "      <td>1</td>\n",
       "    </tr>\n",
       "    <tr>\n",
       "      <th>2</th>\n",
       "      <td>1.635555e+09</td>\n",
       "      <td>1</td>\n",
       "    </tr>\n",
       "    <tr>\n",
       "      <th>3</th>\n",
       "      <td>1.635555e+09</td>\n",
       "      <td>4</td>\n",
       "    </tr>\n",
       "    <tr>\n",
       "      <th>4</th>\n",
       "      <td>1.635555e+09</td>\n",
       "      <td>2</td>\n",
       "    </tr>\n",
       "  </tbody>\n",
       "</table>\n",
       "</div>"
      ],
      "text/plain": [
       "   1635554641.1352348  0\n",
       "0        1.635555e+09  8\n",
       "1        1.635555e+09  1\n",
       "2        1.635555e+09  1\n",
       "3        1.635555e+09  4\n",
       "4        1.635555e+09  2"
      ]
     },
     "execution_count": 3,
     "metadata": {},
     "output_type": "execute_result"
    }
   ],
   "source": [
    "thorium_our.head(5)"
   ]
  },
  {
   "cell_type": "code",
   "execution_count": 4,
   "id": "da421684",
   "metadata": {},
   "outputs": [],
   "source": [
    "## This is the thorium data from the detector\n",
    "thorium_d=pd.read_csv(\"/Users/howardyan/Desktop/E11 Lab/Inside_p1_g1_2021-10-29_D3S.csv\")"
   ]
  },
  {
   "cell_type": "code",
   "execution_count": 5,
   "id": "b2dfec52",
   "metadata": {},
   "outputs": [],
   "source": [
    "## 4096 columns"
   ]
  },
  {
   "cell_type": "code",
   "execution_count": 6,
   "id": "b82be866",
   "metadata": {
    "scrolled": false
   },
   "outputs": [],
   "source": [
    "thorium_d=thorium_d.sum(axis=1)"
   ]
  },
  {
   "cell_type": "code",
   "execution_count": 7,
   "id": "b5738873",
   "metadata": {},
   "outputs": [],
   "source": [
    "## This is the unknown data from our code\n",
    "unknown_our=pd.read_csv(\"/Users/howardyan/Desktop/E11 Lab/GPIO_data_previous_lab.csv\")"
   ]
  },
  {
   "cell_type": "code",
   "execution_count": 8,
   "id": "dd6c2c32",
   "metadata": {},
   "outputs": [
    {
     "data": {
      "text/html": [
       "<div>\n",
       "<style scoped>\n",
       "    .dataframe tbody tr th:only-of-type {\n",
       "        vertical-align: middle;\n",
       "    }\n",
       "\n",
       "    .dataframe tbody tr th {\n",
       "        vertical-align: top;\n",
       "    }\n",
       "\n",
       "    .dataframe thead th {\n",
       "        text-align: right;\n",
       "    }\n",
       "</style>\n",
       "<table border=\"1\" class=\"dataframe\">\n",
       "  <thead>\n",
       "    <tr style=\"text-align: right;\">\n",
       "      <th></th>\n",
       "      <th>1635553465.365014</th>\n",
       "      <th>0</th>\n",
       "    </tr>\n",
       "  </thead>\n",
       "  <tbody>\n",
       "    <tr>\n",
       "      <th>0</th>\n",
       "      <td>1.635553e+09</td>\n",
       "      <td>3</td>\n",
       "    </tr>\n",
       "    <tr>\n",
       "      <th>1</th>\n",
       "      <td>1.635553e+09</td>\n",
       "      <td>2</td>\n",
       "    </tr>\n",
       "    <tr>\n",
       "      <th>2</th>\n",
       "      <td>1.635553e+09</td>\n",
       "      <td>2</td>\n",
       "    </tr>\n",
       "    <tr>\n",
       "      <th>3</th>\n",
       "      <td>1.635553e+09</td>\n",
       "      <td>2</td>\n",
       "    </tr>\n",
       "    <tr>\n",
       "      <th>4</th>\n",
       "      <td>1.635553e+09</td>\n",
       "      <td>1</td>\n",
       "    </tr>\n",
       "  </tbody>\n",
       "</table>\n",
       "</div>"
      ],
      "text/plain": [
       "   1635553465.365014  0\n",
       "0       1.635553e+09  3\n",
       "1       1.635553e+09  2\n",
       "2       1.635553e+09  2\n",
       "3       1.635553e+09  2\n",
       "4       1.635553e+09  1"
      ]
     },
     "execution_count": 8,
     "metadata": {},
     "output_type": "execute_result"
    }
   ],
   "source": [
    "unknown_our.head(5)"
   ]
  },
  {
   "cell_type": "code",
   "execution_count": 9,
   "id": "7c5061eb",
   "metadata": {},
   "outputs": [],
   "source": [
    "## This is the thorium data from the detector\n",
    "unknown_d=pd.read_csv(\"/Users/howardyan/Desktop/E11 Lab/Thorium_data_2021-10-29_D3S.csv\")"
   ]
  },
  {
   "cell_type": "code",
   "execution_count": 10,
   "id": "4eafe1f4",
   "metadata": {},
   "outputs": [],
   "source": [
    "unknown_d=unknown_d.sum(axis=1)"
   ]
  },
  {
   "cell_type": "code",
   "execution_count": 11,
   "id": "39ea7b2f",
   "metadata": {
    "scrolled": true
   },
   "outputs": [
    {
     "data": {
      "text/plain": [
       "0    1929\n",
       "1    1885\n",
       "2    1858\n",
       "3    1902\n",
       "4    1918\n",
       "dtype: int64"
      ]
     },
     "execution_count": 11,
     "metadata": {},
     "output_type": "execute_result"
    }
   ],
   "source": [
    "unknown_d.head(5)"
   ]
  },
  {
   "cell_type": "markdown",
   "id": "ac0bd225",
   "metadata": {},
   "source": [
    "## PART 2"
   ]
  },
  {
   "cell_type": "code",
   "execution_count": 58,
   "id": "b99f8840",
   "metadata": {},
   "outputs": [],
   "source": [
    "## All of these figures were over the 5 second data collection intervals"
   ]
  },
  {
   "cell_type": "code",
   "execution_count": 12,
   "id": "d0f12904",
   "metadata": {},
   "outputs": [],
   "source": [
    "thorium_our=thorium_our.rename(columns={'0':'Counts','1635554641.1352348':'Timestamp'})"
   ]
  },
  {
   "cell_type": "code",
   "execution_count": 125,
   "id": "4871df20",
   "metadata": {
    "scrolled": false
   },
   "outputs": [
    {
     "name": "stdout",
     "output_type": "stream",
     "text": [
      "The mean of this distribution is 2.87 counts.\n",
      "The standard deviation of this distribution is 1.77 counts.\n",
      "The standard deviation seems somewhat large compared to the mean, indicating some variation.There seems to be a slight rightwards skew in the distribution.\n",
      "The theoretical uncertainty is 1.59, which is close to the standard deviation.\n",
      "The relative/percent uncertainty is 0.62.\n"
     ]
    },
    {
     "data": {
      "image/png": "[encoded data removed]",
      "text/plain": [
       "<Figure size 864x432 with 1 Axes>"
      ]
     },
     "metadata": {
      "needs_background": "light"
     },
     "output_type": "display_data"
    }
   ],
   "source": [
    "plt.figure(figsize=(12,6))\n",
    "sns.histplot(thorium_our['Counts']);\n",
    "print(\"The mean of this distribution is {} counts.\".format(round(thorium_our['Counts'].mean(),2)))\n",
    "print(\"The standard deviation of this distribution is {} counts.\".format(round(thorium_our['Counts'].std(),2)))\n",
    "print(\"The standard deviation seems somewhat large compared to the mean, indicating some variation.There seems to be a slight rightwards skew in the distribution.\")\n",
    "print(\"The theoretical uncertainty is {}, which is close to the standard deviation.\".format(round(np.sum(thorium_our['Counts']**0.5)/len(thorium_our),2)))\n",
    "print(\"The relative/percent uncertainty is {}.\".format(round(thorium_our['Counts'].std()/thorium_our['Counts'].mean(),2)))\n",
    "plt.title(\"Thorium Data From Our Sensor\");\n",
    "plt.scatter(np.mean(thorium_our['Counts']), 0.25, marker='o', s=500,color='blue');"
   ]
  },
  {
   "cell_type": "code",
   "execution_count": 121,
   "id": "6aabf41d",
   "metadata": {
    "scrolled": false
   },
   "outputs": [
    {
     "name": "stdout",
     "output_type": "stream",
     "text": [
      "The mean of this distribution is 1107.57 counts.\n",
      "The standard deviation of this distribution is 32.36 counts.\n",
      "The standard deviation seems small compared to the mean, indicating less variation, which we see from the values clusteirng around the 1150 mark.\n",
      "The theoretical uncertainty is 33.28, which is close to the standard deviation.\n",
      "The relative/percent uncertainty is 0.03.\n"
     ]
    },
    {
     "data": {
      "image/png": "[encoded data removed]",
      "text/plain": [
       "<Figure size 864x432 with 1 Axes>"
      ]
     },
     "metadata": {
      "needs_background": "light"
     },
     "output_type": "display_data"
    }
   ],
   "source": [
    "plt.figure(figsize=(12,6))\n",
    "sns.histplot(thorium_d);\n",
    "print(\"The mean of this distribution is {} counts.\".format(round(thorium_d.mean(),2)))\n",
    "print(\"The standard deviation of this distribution is {} counts.\".format(round(thorium_d.std(),2)))\n",
    "print(\"The standard deviation seems small compared to the mean, indicating less variation, which we see from the values clusteirng around the 1150 mark.\")\n",
    "print(\"The theoretical uncertainty is {}, which is close to the standard deviation.\".format(round(np.sum(thorium_d**0.5)/len(thorium_d),2)))\n",
    "print(\"The relative/percent uncertainty is {}.\".format(round(thorium_d.std()/thorium_d.mean(),2)))\n",
    "plt.title(\"Thorium Data From Spectrometer\");\n",
    "plt.scatter(np.mean(thorium_d), 0.25, marker='o', s=500,color='blue');"
   ]
  },
  {
   "cell_type": "code",
   "execution_count": 15,
   "id": "4583e042",
   "metadata": {},
   "outputs": [],
   "source": [
    "unknown_our=unknown_our.rename(columns={'1635553465.365014':'Timestamp','0':'Counts'})"
   ]
  },
  {
   "cell_type": "code",
   "execution_count": 124,
   "id": "c8d69d0a",
   "metadata": {
    "scrolled": false
   },
   "outputs": [
    {
     "name": "stdout",
     "output_type": "stream",
     "text": [
      "The mean of this distribution is 2.5 counts.\n",
      "The standard deviation of this distribution is 1.72 counts.\n",
      "The standard deviation seems somewhat large compared to the mean, indicating some variation. This is shown by the rightward skew of the distribution.\n",
      "The theoretical uncertainty is 1.45, which is close to the standard deviation.\n",
      "The relative/percent uncertainty is 0.69.\n"
     ]
    },
    {
     "data": {
      "image/png": "[encoded data removed]",
      "text/plain": [
       "<Figure size 864x432 with 1 Axes>"
      ]
     },
     "metadata": {
      "needs_background": "light"
     },
     "output_type": "display_data"
    }
   ],
   "source": [
    "plt.figure(figsize=(12,6))\n",
    "sns.histplot(unknown_our['Counts']);\n",
    "print(\"The mean of this distribution is {} counts.\".format(round(unknown_our['Counts'].mean(),2)))\n",
    "print(\"The standard deviation of this distribution is {} counts.\".format(round(unknown_our['Counts'].std(),2)))\n",
    "print(\"The standard deviation seems somewhat large compared to the mean, indicating some variation. This is shown by the rightward skew of the distribution.\")\n",
    "print(\"The theoretical uncertainty is {}, which is close to the standard deviation.\".format(round(np.sum(unknown_our['Counts']**0.5)/len(unknown_our),2)))\n",
    "print(\"The relative/percent uncertainty is {}.\".format(round(unknown_our['Counts'].std()/unknown_our['Counts'].mean(),2)))\n",
    "plt.title(\"Unknown Data From Our Sensor\");\n",
    "plt.scatter(np.mean(unknown_our['Counts']), 0.25, marker='o', s=500,color='blue');"
   ]
  },
  {
   "cell_type": "code",
   "execution_count": 123,
   "id": "be2804de",
   "metadata": {
    "scrolled": false
   },
   "outputs": [
    {
     "name": "stdout",
     "output_type": "stream",
     "text": [
      "The mean of this distribution is 1897.88 counts.\n",
      "The standard deviation of this distribution is 39.81 counts.\n",
      "The standard deviation seems somewhat small compared to the mean, indicating less variation. This distribution seems more uniformly distributed than the previous three.\n",
      "The theoretical uncertainty is 43.56, which is close to the standard deviation.\n",
      "The relative/percent uncertainty is 0.02.\n"
     ]
    },
    {
     "data": {
      "image/png": "[encoded data removed]",
      "text/plain": [
       "<Figure size 864x432 with 1 Axes>"
      ]
     },
     "metadata": {
      "needs_background": "light"
     },
     "output_type": "display_data"
    }
   ],
   "source": [
    "plt.figure(figsize=(12,6))\n",
    "sns.histplot(unknown_d);\n",
    "plt.xlabel('Counts')\n",
    "print(\"The mean of this distribution is {} counts.\".format(round(unknown_d.mean(),2)))\n",
    "print(\"The standard deviation of this distribution is {} counts.\".format(round(unknown_d.std(),2)))\n",
    "print(\"The standard deviation seems somewhat small compared to the mean, indicating less variation. This distribution seems more uniformly distributed than the previous three.\")\n",
    "print(\"The theoretical uncertainty is {}, which is close to the standard deviation.\".format(round(np.sum(unknown_d**0.5)/len(unknown_d),2)))\n",
    "print(\"The relative/percent uncertainty is {}.\".format(round(unknown_d.std()/unknown_d.mean(),2)))\n",
    "plt.title(\"Unknown Data From Spectrometer\");\n",
    "plt.scatter(np.mean(unknown_d), 0.25, marker='o', s=500,color='blue');"
   ]
  },
  {
   "cell_type": "markdown",
   "id": "da014698",
   "metadata": {},
   "source": [
    "## PART 3"
   ]
  },
  {
   "cell_type": "code",
   "execution_count": 80,
   "id": "8b8fb240",
   "metadata": {},
   "outputs": [],
   "source": [
    "## We collected data over 5 second intervals"
   ]
  },
  {
   "cell_type": "code",
   "execution_count": 30,
   "id": "32fa5eb7",
   "metadata": {},
   "outputs": [],
   "source": [
    "## The activity cited is for a 0.25 kg rock. Ours was 0.1 kg, so we divide by 2.5.\n",
    "activity=30593/2.5"
   ]
  },
  {
   "cell_type": "code",
   "execution_count": 81,
   "id": "7c2d4d83",
   "metadata": {},
   "outputs": [],
   "source": [
    "## Divide by 5 because the measurements were over 5 second intervals\n",
    "CPS_detector=np.mean(thorium_d)/5"
   ]
  },
  {
   "cell_type": "code",
   "execution_count": 108,
   "id": "81b41978",
   "metadata": {
    "scrolled": true
   },
   "outputs": [
    {
     "name": "stdout",
     "output_type": "stream",
     "text": [
      "The efficiency is 1.8101643581523625%.\n"
     ]
    }
   ],
   "source": [
    "efficiency=CPS_detector/activity\n",
    "print(\"The efficiency is {}%.\".format(efficiency*100))"
   ]
  },
  {
   "cell_type": "code",
   "execution_count": 126,
   "id": "650ebd3b",
   "metadata": {},
   "outputs": [
    {
     "name": "stdout",
     "output_type": "stream",
     "text": [
      "The efficiency is 0.00468516763093954%.\n"
     ]
    }
   ],
   "source": [
    "CPS_detector_our_code=np.mean(thorium_our['Counts'])/5\n",
    "efficiency_our_code=CPS_detector_our_code/activity\n",
    "print(\"The efficiency is {}%.\".format(efficiency_our_code*100))"
   ]
  },
  {
   "cell_type": "markdown",
   "id": "f2b28cfe",
   "metadata": {},
   "source": [
    "## PART 4"
   ]
  },
  {
   "cell_type": "code",
   "execution_count": 39,
   "id": "006f6834",
   "metadata": {},
   "outputs": [],
   "source": [
    "## Propagate uncertainty"
   ]
  },
  {
   "cell_type": "code",
   "execution_count": 40,
   "id": "51dccd33",
   "metadata": {},
   "outputs": [],
   "source": [
    "## Efficiency = CPS / Activity"
   ]
  },
  {
   "cell_type": "code",
   "execution_count": 127,
   "id": "d34f2146",
   "metadata": {
    "scrolled": true
   },
   "outputs": [],
   "source": [
    "## We took these measurements over a 5 second interval\n",
    "CPS_detector_unc=CPS_detector**0.5\n",
    "CPS_detector_our_code_unc=CPS_detector_our_code**0.5"
   ]
  },
  {
   "cell_type": "code",
   "execution_count": 128,
   "id": "bb04c5a8",
   "metadata": {},
   "outputs": [
    {
     "data": {
      "text/plain": [
       "0.06779466757222474"
      ]
     },
     "execution_count": 128,
     "metadata": {},
     "output_type": "execute_result"
    }
   ],
   "source": [
    "uncertainty_detector=((CPS_detector_unc/CPS_detector)**2+(activity**0.5/activity)**2)**0.5\n",
    "uncertainty_detector"
   ]
  },
  {
   "cell_type": "code",
   "execution_count": 129,
   "id": "9cce5eb1",
   "metadata": {},
   "outputs": [
    {
     "data": {
      "text/plain": [
       "1.3207072970767224"
      ]
     },
     "execution_count": 129,
     "metadata": {},
     "output_type": "execute_result"
    }
   ],
   "source": [
    "uncertainty_our_code=((CPS_detector_our_code_unc/CPS_detector_our_code)**2+(activity**0.5/activity)**2)**0.5\n",
    "uncertainty_our_code"
   ]
  },
  {
   "cell_type": "markdown",
   "id": "ec79480d",
   "metadata": {},
   "source": [
    "## PART 5"
   ]
  },
  {
   "cell_type": "markdown",
   "id": "aa998cf7",
   "metadata": {},
   "source": [
    "The efficiencies are very different. The efficiency of the spectrometer is larger than the efficiency of our detector. Therefore, the spectrometer is more sensitive to radiation since it is able to measure larger percentages of radiation from the overall yield emmitted from the source."
   ]
  },
  {
   "cell_type": "markdown",
   "id": "556c6a30",
   "metadata": {},
   "source": [
    "## Part 6"
   ]
  },
  {
   "cell_type": "code",
   "execution_count": 113,
   "id": "03203979",
   "metadata": {},
   "outputs": [
    {
     "data": {
      "text/plain": [
       "12237.2"
      ]
     },
     "execution_count": 113,
     "metadata": {},
     "output_type": "execute_result"
    }
   ],
   "source": [
    "# Activity = CPS / Efficiency \n",
    "#Activity based on\n",
    "#Efficiency of the spectrometer \n",
    "#CPS of the spectromter\n",
    "Activity_spectrometer = CPS_detector / efficiency\n",
    "Activity_spectrometer"
   ]
  },
  {
   "cell_type": "code",
   "execution_count": 118,
   "id": "fd266ac9",
   "metadata": {},
   "outputs": [
    {
     "data": {
      "text/plain": [
       "7.432907691777429"
      ]
     },
     "execution_count": 118,
     "metadata": {},
     "output_type": "execute_result"
    }
   ],
   "source": [
    "## Uncertainty in counts\n",
    "((CPS_detector**0.5/CPS_detector)**2+(efficiency**0.5/efficiency)**2)**0.5"
   ]
  },
  {
   "cell_type": "code",
   "execution_count": 114,
   "id": "0a977e69",
   "metadata": {},
   "outputs": [
    {
     "data": {
      "text/plain": [
       "12237.2"
      ]
     },
     "execution_count": 114,
     "metadata": {},
     "output_type": "execute_result"
    }
   ],
   "source": [
    "#Activity based on \n",
    "#Efficiency of our detector\n",
    "#CPS of our detector \n",
    "Activity_detector = CPS_detector_our_code / efficiency_our_code\n",
    "Activity_detector"
   ]
  },
  {
   "cell_type": "code",
   "execution_count": 119,
   "id": "92c7b0bb",
   "metadata": {},
   "outputs": [
    {
     "data": {
      "text/plain": [
       "146.09912213415964"
      ]
     },
     "execution_count": 119,
     "metadata": {},
     "output_type": "execute_result"
    }
   ],
   "source": [
    "## Uncertainty in counts\n",
    "((CPS_detector_our_code/CPS_detector_our_code)**2+(efficiency_our_code**0.5/efficiency_our_code)**2)**0.5"
   ]
  },
  {
   "cell_type": "code",
   "execution_count": 130,
   "id": "45456334",
   "metadata": {},
   "outputs": [],
   "source": [
    "## The activity appears to be 12,237.2 Bq"
   ]
  },
  {
   "cell_type": "markdown",
   "id": "3d95311a",
   "metadata": {},
   "source": [
    "## PART 7"
   ]
  },
  {
   "cell_type": "markdown",
   "id": "6d7f3731",
   "metadata": {},
   "source": [
    "If we combine all our data, this will decrese our uncertainty on the efficiency as well as the uncertainty on the activity of the unknown source since we would have more data and therefore less variation."
   ]
  }
 ],
 "metadata": {
  "kernelspec": {
   "display_name": "Python 3 (ipykernel)",
   "language": "python",
   "name": "python3"
  },
  "language_info": {
   "codemirror_mode": {
    "name": "ipython",
    "version": 3
   },
   "file_extension": ".py",
   "mimetype": "text/x-python",
   "name": "python",
   "nbconvert_exporter": "python",
   "pygments_lexer": "ipython3",
   "version": "3.8.12"
  }
 },
 "nbformat": 4,
 "nbformat_minor": 5
}
