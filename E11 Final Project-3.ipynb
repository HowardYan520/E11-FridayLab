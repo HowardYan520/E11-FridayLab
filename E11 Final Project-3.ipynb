{
 "cells": [
  {
   "cell_type": "markdown",
   "id": "cd52fdf8",
   "metadata": {},
   "source": [
    "# E11 Final Project"
   ]
  },
  {
   "cell_type": "code",
   "execution_count": 1,
   "id": "e7eab409",
   "metadata": {},
   "outputs": [],
   "source": [
    "import pandas as pd\n",
    "import numpy as np\n",
    "import seaborn as sns\n",
    "import matplotlib.pyplot as plt\n",
    "import scipy.stats as ss \n",
    "import statsmodels.formula.api as smf"
   ]
  },
  {
   "cell_type": "markdown",
   "id": "c357ffca",
   "metadata": {},
   "source": [
    "## HOWARD'S FILES"
   ]
  },
  {
   "cell_type": "code",
   "execution_count": 2,
   "id": "d154ba8e",
   "metadata": {},
   "outputs": [],
   "source": [
    "## Eucalyptus Grove\n",
    "grove_AQ=pd.read_csv(\"/Users/howardyan/Desktop/E11 Final Project/Grove/grove_2021-10-29_AQ.csv\")\n",
    "grove_P=pd.read_csv(\"/Users/howardyan/Desktop/E11 Final Project/Grove/grove_2021-10-29_PTH.csv\")\n",
    "grove_rad=pd.read_csv(\"/Users/howardyan/Desktop/E11 Final Project/Grove/grove_2021-10-29_D3S.csv\")\n",
    "grove_rad=grove_rad.sum(axis=1)\n",
    "\n",
    "## Hill near Berkeley National Lab\n",
    "hill_AQ=pd.read_csv(\"/Users/howardyan/Desktop/E11 Final Project/Hill/hill_2021-10-29_AQ.csv\")\n",
    "hill_P=pd.read_csv(\"/Users/howardyan/Desktop/E11 Final Project/Hill/hill_2021-10-29_PTH.csv\")\n",
    "hill_rad=pd.read_csv(\"/Users/howardyan/Desktop/E11 Final Project/Hill/hill_2021-10-29_D3S.csv\")\n",
    "hill_rad=hill_rad.sum(axis=1)\n",
    "\n",
    "## Lika Shing\n",
    "lika_AQ=pd.read_csv(\"/Users/howardyan/Desktop/E11 Final Project/Lika/lika_2021-10-29_AQ.csv\")\n",
    "lika_P=pd.read_csv(\"/Users/howardyan/Desktop/E11 Final Project/Lika/lika_2021-10-29_PTH.csv\")\n",
    "lika_rad=pd.read_csv(\"/Users/howardyan/Desktop/E11 Final Project/Lika/lika_2021-10-29_D3S.csv\")\n",
    "lika_rad=lika_rad.sum(axis=1)"
   ]
  },
  {
   "cell_type": "code",
   "execution_count": 3,
   "id": "c5470848",
   "metadata": {},
   "outputs": [],
   "source": [
    "## Eucalyptus Grove\n",
    "grove_AQ=pd.read_csv(\"/Users/howardyan/Desktop/E11 Final Project/Grove/grove_2021-10-29_AQ.csv\")\n",
    "grove_P=pd.read_csv(\"/Users/howardyan/Desktop/E11 Final Project/Grove/grove_2021-10-29_PTH.csv\")\n",
    "grove_rad=pd.read_csv(\"/Users/howardyan/Desktop/E11 Final Project/Grove/grove_2021-10-29_D3S.csv\")\n",
    "grove_rad=grove_rad.sum(axis=1)"
   ]
  },
  {
   "cell_type": "code",
   "execution_count": 4,
   "id": "86396173",
   "metadata": {},
   "outputs": [],
   "source": [
    "## Hill near Berkeley National Lab\n",
    "hill_AQ=pd.read_csv(\"/Users/howardyan/Desktop/E11 Final Project/Hill/hill_2021-10-29_AQ.csv\")\n",
    "hill_P=pd.read_csv(\"/Users/howardyan/Desktop/E11 Final Project/Hill/hill_2021-10-29_PTH.csv\")\n",
    "hill_rad=pd.read_csv(\"/Users/howardyan/Desktop/E11 Final Project/Hill/hill_2021-10-29_D3S.csv\")\n",
    "hill_rad=hill_rad.sum(axis=1)"
   ]
  },
  {
   "cell_type": "code",
   "execution_count": 5,
   "id": "8dd6fcac",
   "metadata": {},
   "outputs": [],
   "source": [
    "## Lika Shing\n",
    "lika_AQ=pd.read_csv(\"/Users/howardyan/Desktop/E11 Final Project/Lika/lika_2021-10-29_AQ.csv\")\n",
    "lika_P=pd.read_csv(\"/Users/howardyan/Desktop/E11 Final Project/Lika/lika_2021-10-29_PTH.csv\")\n",
    "lika_rad=pd.read_csv(\"/Users/howardyan/Desktop/E11 Final Project/Lika/lika_2021-10-29_D3S.csv\")\n",
    "lika_rad=lika_rad.sum(axis=1)"
   ]
  },
  {
   "cell_type": "markdown",
   "id": "b6e069c0",
   "metadata": {},
   "source": [
    "## Difference in average radiation counts between locations"
   ]
  },
  {
   "cell_type": "code",
   "execution_count": 6,
   "id": "e5eb468a",
   "metadata": {},
   "outputs": [],
   "source": [
    "## We now remove outliers from the data"
   ]
  },
  {
   "cell_type": "code",
   "execution_count": 7,
   "id": "5a0eda96",
   "metadata": {
    "scrolled": true
   },
   "outputs": [
    {
     "data": {
      "image/png": "[encoded data removed]",
      "text/plain": [
       "<Figure size 432x288 with 1 Axes>"
      ]
     },
     "metadata": {
      "needs_background": "light"
     },
     "output_type": "display_data"
    }
   ],
   "source": [
    "## Before outliers, we compare boxplots side by side\n",
    "my_dict = {'Grove': grove_rad, 'Hill': hill_rad, 'Li Ka Shing':lika_rad}\n",
    "\n",
    "\n",
    "fig, ax = plt.subplots()\n",
    "plt.title('Radiation Counts by Location');\n",
    "ax.boxplot(my_dict.values())\n",
    "ax.set_xticklabels(my_dict.keys());\n"
   ]
  },
  {
   "cell_type": "code",
   "execution_count": 8,
   "id": "57066262",
   "metadata": {
    "scrolled": true
   },
   "outputs": [],
   "source": [
    "## Hill radiation after removing outliers\n",
    "hill_rad_no_outliers=hill_rad[(hill_rad<np.mean(hill_rad)+2*np.std(hill_rad))&(hill_rad>(np.mean(hill_rad)-2*np.std(hill_rad)))]"
   ]
  },
  {
   "cell_type": "code",
   "execution_count": 9,
   "id": "7928fd45",
   "metadata": {},
   "outputs": [],
   "source": [
    "## Grove radiation after removing outliers\n",
    "grove_rad_no_outliers=grove_rad[(grove_rad<np.mean(grove_rad)+2*np.std(grove_rad))&(grove_rad>(np.mean(grove_rad)-2*np.std(grove_rad)))]"
   ]
  },
  {
   "cell_type": "code",
   "execution_count": 10,
   "id": "793206d9",
   "metadata": {},
   "outputs": [],
   "source": [
    "## Li Ka Shing radiation after removing outliers\n",
    "lika_rad_no_outliers=lika_rad[(lika_rad<np.mean(lika_rad)+2*np.std(lika_rad))&(lika_rad>(np.mean(lika_rad)-2*np.std(lika_rad)))]"
   ]
  },
  {
   "cell_type": "code",
   "execution_count": 11,
   "id": "c3be6c29",
   "metadata": {
    "scrolled": true
   },
   "outputs": [
    {
     "data": {
      "image/png": "[encoded data removed]",
      "text/plain": [
       "<Figure size 432x288 with 1 Axes>"
      ]
     },
     "metadata": {
      "needs_background": "light"
     },
     "output_type": "display_data"
    }
   ],
   "source": [
    "## After removing outliers, we compare boxplots side by side\n",
    "my_dict = {'Grove': grove_rad_no_outliers, 'Hill': hill_rad_no_outliers, 'Li Ka Shing':lika_rad_no_outliers}\n",
    "\n",
    "fig, ax = plt.subplots()\n",
    "plt.title('Radiation Counts by Location-No Outliers');\n",
    "ax.boxplot(my_dict.values())\n",
    "ax.set_xticklabels(my_dict.keys());"
   ]
  },
  {
   "cell_type": "markdown",
   "id": "3a14812d",
   "metadata": {},
   "source": [
    "## Hill vs Grove"
   ]
  },
  {
   "cell_type": "code",
   "execution_count": 12,
   "id": "ea84c370",
   "metadata": {
    "scrolled": true
   },
   "outputs": [
    {
     "data": {
      "text/plain": [
       "(17.563820653972172, 5.041551716312028e-45)"
      ]
     },
     "execution_count": 12,
     "metadata": {},
     "output_type": "execute_result"
    }
   ],
   "source": [
    "## Comparing Hill and Grove radiation\n",
    "t_stat, p_val= ss.ttest_ind(hill_rad_no_outliers,grove_rad_no_outliers)\n",
    "t_stat , p_val"
   ]
  },
  {
   "cell_type": "code",
   "execution_count": 13,
   "id": "dfada922",
   "metadata": {
    "scrolled": true
   },
   "outputs": [
    {
     "name": "stdout",
     "output_type": "stream",
     "text": [
      "We measured on average, -38.35134401303284 counts in the Eucalyptus Grove compared to the Hill over a 5 second interval.\n",
      "Since our p-value <0.01, we reject the null hypothesis at the 99% level and conclude there is, on average, less radiaton activiy in the Eucalyptus Grove compared to the Hill\n"
     ]
    }
   ],
   "source": [
    "print(\"We measured on average, {} counts in the Eucalyptus Grove compared to the Hill over a 5 second interval.\".format(grove_rad_no_outliers.mean()-hill_rad_no_outliers.mean()))\n",
    "print(\"Since our p-value <0.01, we reject the null hypothesis at the 99% level and conclude there is, on average, less radiaton activiy in the Eucalyptus Grove compared to the Hill\")"
   ]
  },
  {
   "cell_type": "code",
   "execution_count": 14,
   "id": "c07c8060",
   "metadata": {
    "scrolled": true
   },
   "outputs": [
    {
     "data": {
      "image/png": "[encoded data removed]",
      "text/plain": [
       "<Figure size 864x432 with 1 Axes>"
      ]
     },
     "metadata": {
      "needs_background": "light"
     },
     "output_type": "display_data"
    }
   ],
   "source": [
    "plt.figure(figsize=(12,6))\n",
    "sns.histplot(hill_rad_no_outliers,label='Hill',color='blue')\n",
    "sns.histplot(grove_rad_no_outliers,label='Grove',color='green')\n",
    "plt.legend(loc='upper right');\n",
    "plt.xlabel('Counts (Radiation)',size=14)\n",
    "plt.ylabel('Count',size=14)\n",
    "plt.title('Counts (Radiation) By Location',size=16);"
   ]
  },
  {
   "cell_type": "code",
   "execution_count": 15,
   "id": "3dd4e1c6",
   "metadata": {},
   "outputs": [
    {
     "data": {
      "text/plain": [
       "2.809881326829683"
      ]
     },
     "execution_count": 15,
     "metadata": {},
     "output_type": "execute_result"
    }
   ],
   "source": [
    "np.mean(hill_rad_no_outliers)**0.5\n",
    "np.mean(hill_rad_no_outliers)**0.5/5"
   ]
  },
  {
   "cell_type": "code",
   "execution_count": 16,
   "id": "9d990506",
   "metadata": {},
   "outputs": [
    {
     "data": {
      "text/plain": [
       "pandas.core.series.Series"
      ]
     },
     "execution_count": 16,
     "metadata": {},
     "output_type": "execute_result"
    }
   ],
   "source": [
    "type(hill_rad_no_outliers)"
   ]
  },
  {
   "cell_type": "code",
   "execution_count": 17,
   "id": "190221e7",
   "metadata": {},
   "outputs": [
    {
     "data": {
      "text/html": [
       "<div>\n",
       "<style scoped>\n",
       "    .dataframe tbody tr th:only-of-type {\n",
       "        vertical-align: middle;\n",
       "    }\n",
       "\n",
       "    .dataframe tbody tr th {\n",
       "        vertical-align: top;\n",
       "    }\n",
       "\n",
       "    .dataframe thead th {\n",
       "        text-align: right;\n",
       "    }\n",
       "</style>\n",
       "<table border=\"1\" class=\"dataframe\">\n",
       "  <thead>\n",
       "    <tr style=\"text-align: right;\">\n",
       "      <th></th>\n",
       "      <th>0</th>\n",
       "    </tr>\n",
       "  </thead>\n",
       "  <tbody>\n",
       "    <tr>\n",
       "      <th>0</th>\n",
       "      <td>181</td>\n",
       "    </tr>\n",
       "    <tr>\n",
       "      <th>1</th>\n",
       "      <td>170</td>\n",
       "    </tr>\n",
       "    <tr>\n",
       "      <th>2</th>\n",
       "      <td>204</td>\n",
       "    </tr>\n",
       "    <tr>\n",
       "      <th>3</th>\n",
       "      <td>183</td>\n",
       "    </tr>\n",
       "    <tr>\n",
       "      <th>4</th>\n",
       "      <td>198</td>\n",
       "    </tr>\n",
       "    <tr>\n",
       "      <th>...</th>\n",
       "      <td>...</td>\n",
       "    </tr>\n",
       "    <tr>\n",
       "      <th>130</th>\n",
       "      <td>209</td>\n",
       "    </tr>\n",
       "    <tr>\n",
       "      <th>132</th>\n",
       "      <td>169</td>\n",
       "    </tr>\n",
       "    <tr>\n",
       "      <th>133</th>\n",
       "      <td>198</td>\n",
       "    </tr>\n",
       "    <tr>\n",
       "      <th>134</th>\n",
       "      <td>168</td>\n",
       "    </tr>\n",
       "    <tr>\n",
       "      <th>135</th>\n",
       "      <td>164</td>\n",
       "    </tr>\n",
       "  </tbody>\n",
       "</table>\n",
       "<p>127 rows × 1 columns</p>\n",
       "</div>"
      ],
      "text/plain": [
       "       0\n",
       "0    181\n",
       "1    170\n",
       "2    204\n",
       "3    183\n",
       "4    198\n",
       "..   ...\n",
       "130  209\n",
       "132  169\n",
       "133  198\n",
       "134  168\n",
       "135  164\n",
       "\n",
       "[127 rows x 1 columns]"
      ]
     },
     "execution_count": 17,
     "metadata": {},
     "output_type": "execute_result"
    }
   ],
   "source": [
    "dfhill = hill_rad_no_outliers.to_frame()\n",
    "dfhill"
   ]
  },
  {
   "cell_type": "code",
   "execution_count": 18,
   "id": "5216e004",
   "metadata": {},
   "outputs": [
    {
     "data": {
      "text/plain": [
       "0    0.881538\n",
       "dtype: float64"
      ]
     },
     "execution_count": 18,
     "metadata": {},
     "output_type": "execute_result"
    }
   ],
   "source": [
    "## uncertainity on STD\n",
    "hill_unc=np.sqrt(np.mean(dfhill))/np.sqrt(2*(len(dfhill)))\n",
    "hill_unc"
   ]
  },
  {
   "cell_type": "code",
   "execution_count": 19,
   "id": "2ec8246e",
   "metadata": {},
   "outputs": [
    {
     "data": {
      "text/plain": [
       "0    14.049407\n",
       "dtype: float64"
      ]
     },
     "execution_count": 19,
     "metadata": {},
     "output_type": "execute_result"
    }
   ],
   "source": [
    "##counting stats - dataset varies by this many counts\n",
    "np.sqrt(np.mean(dfhill))"
   ]
  },
  {
   "cell_type": "code",
   "execution_count": 20,
   "id": "4b48dd82",
   "metadata": {},
   "outputs": [
    {
     "data": {
      "text/plain": [
       "0    13.744604\n",
       "dtype: float64"
      ]
     },
     "execution_count": 20,
     "metadata": {},
     "output_type": "execute_result"
    }
   ],
   "source": [
    "np.std(dfhill)"
   ]
  },
  {
   "cell_type": "code",
   "execution_count": 21,
   "id": "ec76486a",
   "metadata": {},
   "outputs": [
    {
     "data": {
      "text/plain": [
       "0    197.385827\n",
       "dtype: float64"
      ]
     },
     "execution_count": 21,
     "metadata": {},
     "output_type": "execute_result"
    }
   ],
   "source": [
    "np.mean(dfhill)"
   ]
  },
  {
   "cell_type": "code",
   "execution_count": 22,
   "id": "4a04946b",
   "metadata": {},
   "outputs": [
    {
     "data": {
      "text/plain": [
       "16.80029600734035"
      ]
     },
     "execution_count": 22,
     "metadata": {},
     "output_type": "execute_result"
    }
   ],
   "source": [
    "##STD\n",
    "std_hill = np.std(hill_rad)\n",
    "std_hill"
   ]
  },
  {
   "cell_type": "code",
   "execution_count": 23,
   "id": "275f190f",
   "metadata": {},
   "outputs": [],
   "source": [
    "#grove"
   ]
  },
  {
   "cell_type": "code",
   "execution_count": 24,
   "id": "64c6aa7d",
   "metadata": {
    "scrolled": true
   },
   "outputs": [
    {
     "data": {
      "text/html": [
       "<div>\n",
       "<style scoped>\n",
       "    .dataframe tbody tr th:only-of-type {\n",
       "        vertical-align: middle;\n",
       "    }\n",
       "\n",
       "    .dataframe tbody tr th {\n",
       "        vertical-align: top;\n",
       "    }\n",
       "\n",
       "    .dataframe thead th {\n",
       "        text-align: right;\n",
       "    }\n",
       "</style>\n",
       "<table border=\"1\" class=\"dataframe\">\n",
       "  <thead>\n",
       "    <tr style=\"text-align: right;\">\n",
       "      <th></th>\n",
       "      <th>0</th>\n",
       "    </tr>\n",
       "  </thead>\n",
       "  <tbody>\n",
       "    <tr>\n",
       "      <th>0</th>\n",
       "      <td>132</td>\n",
       "    </tr>\n",
       "    <tr>\n",
       "      <th>1</th>\n",
       "      <td>137</td>\n",
       "    </tr>\n",
       "    <tr>\n",
       "      <th>2</th>\n",
       "      <td>138</td>\n",
       "    </tr>\n",
       "    <tr>\n",
       "      <th>3</th>\n",
       "      <td>133</td>\n",
       "    </tr>\n",
       "    <tr>\n",
       "      <th>4</th>\n",
       "      <td>123</td>\n",
       "    </tr>\n",
       "    <tr>\n",
       "      <th>...</th>\n",
       "      <td>...</td>\n",
       "    </tr>\n",
       "    <tr>\n",
       "      <th>113</th>\n",
       "      <td>200</td>\n",
       "    </tr>\n",
       "    <tr>\n",
       "      <th>114</th>\n",
       "      <td>172</td>\n",
       "    </tr>\n",
       "    <tr>\n",
       "      <th>116</th>\n",
       "      <td>179</td>\n",
       "    </tr>\n",
       "    <tr>\n",
       "      <th>117</th>\n",
       "      <td>171</td>\n",
       "    </tr>\n",
       "    <tr>\n",
       "      <th>118</th>\n",
       "      <td>173</td>\n",
       "    </tr>\n",
       "  </tbody>\n",
       "</table>\n",
       "<p>116 rows × 1 columns</p>\n",
       "</div>"
      ],
      "text/plain": [
       "       0\n",
       "0    132\n",
       "1    137\n",
       "2    138\n",
       "3    133\n",
       "4    123\n",
       "..   ...\n",
       "113  200\n",
       "114  172\n",
       "116  179\n",
       "117  171\n",
       "118  173\n",
       "\n",
       "[116 rows x 1 columns]"
      ]
     },
     "execution_count": 24,
     "metadata": {},
     "output_type": "execute_result"
    }
   ],
   "source": [
    "dfgrove = grove_rad_no_outliers.to_frame()\n",
    "dfgrove"
   ]
  },
  {
   "cell_type": "code",
   "execution_count": 25,
   "id": "8f6ffd94",
   "metadata": {},
   "outputs": [
    {
     "data": {
      "text/plain": [
       "0    0.827945\n",
       "dtype: float64"
      ]
     },
     "execution_count": 25,
     "metadata": {},
     "output_type": "execute_result"
    }
   ],
   "source": [
    "## uncertainity on STD Grove\n",
    "grove_unc=np.sqrt(np.mean(dfgrove))/np.sqrt(2*(len(dfgrove)))\n",
    "grove_unc"
   ]
  },
  {
   "cell_type": "code",
   "execution_count": 26,
   "id": "2b64b7b1",
   "metadata": {},
   "outputs": [
    {
     "data": {
      "text/plain": [
       "0    12.610887\n",
       "dtype: float64"
      ]
     },
     "execution_count": 26,
     "metadata": {},
     "output_type": "execute_result"
    }
   ],
   "source": [
    "##counting stats - dataset varies by this many counts (grove)\n",
    "np.sqrt(np.mean(dfgrove))"
   ]
  },
  {
   "cell_type": "code",
   "execution_count": 27,
   "id": "fa31f361",
   "metadata": {},
   "outputs": [
    {
     "data": {
      "text/plain": [
       "0    19.842019\n",
       "dtype: float64"
      ]
     },
     "execution_count": 27,
     "metadata": {},
     "output_type": "execute_result"
    }
   ],
   "source": [
    "np.std(dfgrove)"
   ]
  },
  {
   "cell_type": "code",
   "execution_count": 28,
   "id": "c13fa663",
   "metadata": {},
   "outputs": [
    {
     "data": {
      "text/plain": [
       "0    159.034483\n",
       "dtype: float64"
      ]
     },
     "execution_count": 28,
     "metadata": {},
     "output_type": "execute_result"
    }
   ],
   "source": [
    "np.mean(dfgrove)"
   ]
  },
  {
   "cell_type": "markdown",
   "id": "98c21ee6",
   "metadata": {},
   "source": [
    "## Hill vs Li Ka Shing"
   ]
  },
  {
   "cell_type": "code",
   "execution_count": 29,
   "id": "f0ad1f4b",
   "metadata": {},
   "outputs": [
    {
     "data": {
      "text/plain": [
       "(18.16551107334247, 3.6635546813319597e-47)"
      ]
     },
     "execution_count": 29,
     "metadata": {},
     "output_type": "execute_result"
    }
   ],
   "source": [
    "## Comparing Hill and Li Ka Shing radiation\n",
    "t_stat, p_val= ss.ttest_ind(hill_rad_no_outliers,lika_rad_no_outliers)\n",
    "t_stat , p_val"
   ]
  },
  {
   "cell_type": "code",
   "execution_count": 30,
   "id": "3d9e02c0",
   "metadata": {
    "scrolled": true
   },
   "outputs": [
    {
     "name": "stdout",
     "output_type": "stream",
     "text": [
      "We measured on average, -39.36040304283998 counts in the Li Ka Shing area compared to the Hill over a 5 second interval.\n",
      "Since our p-value <0.01, we reject the null hypothesis at the 99% level and conclude there is, on average, less radiaton activiy in the Li Ka Shing area compared to the Hill\n"
     ]
    }
   ],
   "source": [
    "print(\"We measured on average, {} counts in the Li Ka Shing area compared to the Hill over a 5 second interval.\".format(lika_rad_no_outliers.mean()-hill_rad_no_outliers.mean()))\n",
    "print(\"Since our p-value <0.01, we reject the null hypothesis at the 99% level and conclude there is, on average, less radiaton activiy in the Li Ka Shing area compared to the Hill\")"
   ]
  },
  {
   "cell_type": "code",
   "execution_count": 31,
   "id": "55dcbd3e",
   "metadata": {
    "scrolled": true
   },
   "outputs": [
    {
     "data": {
      "image/png": "[encoded data removed]",
      "text/plain": [
       "<Figure size 864x432 with 1 Axes>"
      ]
     },
     "metadata": {
      "needs_background": "light"
     },
     "output_type": "display_data"
    }
   ],
   "source": [
    "plt.figure(figsize=(12,6))\n",
    "sns.histplot(hill_rad_no_outliers,label='Hill',color='blue')\n",
    "sns.histplot(lika_rad_no_outliers,label='Lika',color='red')\n",
    "plt.legend(loc='upper right');\n",
    "plt.xlabel('Counts (Radiation)',size=14)\n",
    "plt.ylabel('Count',size=14)\n",
    "plt.title('Counts (Radiation) By Location',size=16);"
   ]
  },
  {
   "cell_type": "code",
   "execution_count": 32,
   "id": "befde6d2",
   "metadata": {},
   "outputs": [
    {
     "data": {
      "text/html": [
       "<div>\n",
       "<style scoped>\n",
       "    .dataframe tbody tr th:only-of-type {\n",
       "        vertical-align: middle;\n",
       "    }\n",
       "\n",
       "    .dataframe tbody tr th {\n",
       "        vertical-align: top;\n",
       "    }\n",
       "\n",
       "    .dataframe thead th {\n",
       "        text-align: right;\n",
       "    }\n",
       "</style>\n",
       "<table border=\"1\" class=\"dataframe\">\n",
       "  <thead>\n",
       "    <tr style=\"text-align: right;\">\n",
       "      <th></th>\n",
       "      <th>0</th>\n",
       "    </tr>\n",
       "  </thead>\n",
       "  <tbody>\n",
       "    <tr>\n",
       "      <th>0</th>\n",
       "      <td>171</td>\n",
       "    </tr>\n",
       "    <tr>\n",
       "      <th>1</th>\n",
       "      <td>142</td>\n",
       "    </tr>\n",
       "    <tr>\n",
       "      <th>2</th>\n",
       "      <td>146</td>\n",
       "    </tr>\n",
       "    <tr>\n",
       "      <th>3</th>\n",
       "      <td>186</td>\n",
       "    </tr>\n",
       "    <tr>\n",
       "      <th>4</th>\n",
       "      <td>159</td>\n",
       "    </tr>\n",
       "    <tr>\n",
       "      <th>...</th>\n",
       "      <td>...</td>\n",
       "    </tr>\n",
       "    <tr>\n",
       "      <th>116</th>\n",
       "      <td>153</td>\n",
       "    </tr>\n",
       "    <tr>\n",
       "      <th>117</th>\n",
       "      <td>171</td>\n",
       "    </tr>\n",
       "    <tr>\n",
       "      <th>118</th>\n",
       "      <td>129</td>\n",
       "    </tr>\n",
       "    <tr>\n",
       "      <th>119</th>\n",
       "      <td>147</td>\n",
       "    </tr>\n",
       "    <tr>\n",
       "      <th>120</th>\n",
       "      <td>135</td>\n",
       "    </tr>\n",
       "  </tbody>\n",
       "</table>\n",
       "<p>118 rows × 1 columns</p>\n",
       "</div>"
      ],
      "text/plain": [
       "       0\n",
       "0    171\n",
       "1    142\n",
       "2    146\n",
       "3    186\n",
       "4    159\n",
       "..   ...\n",
       "116  153\n",
       "117  171\n",
       "118  129\n",
       "119  147\n",
       "120  135\n",
       "\n",
       "[118 rows x 1 columns]"
      ]
     },
     "execution_count": 32,
     "metadata": {},
     "output_type": "execute_result"
    }
   ],
   "source": [
    "dfli = lika_rad_no_outliers.to_frame()\n",
    "dfli"
   ]
  },
  {
   "cell_type": "code",
   "execution_count": 33,
   "id": "8ae91216",
   "metadata": {},
   "outputs": [
    {
     "data": {
      "text/plain": [
       "0    0.81829\n",
       "dtype: float64"
      ]
     },
     "execution_count": 33,
     "metadata": {},
     "output_type": "execute_result"
    }
   ],
   "source": [
    "## uncertainity on STD li\n",
    "grove_unc=np.sqrt(np.mean(dfli))/np.sqrt(2*(len(dfli)))\n",
    "grove_unc "
   ]
  },
  {
   "cell_type": "code",
   "execution_count": 34,
   "id": "2df11d3d",
   "metadata": {},
   "outputs": [
    {
     "data": {
      "text/plain": [
       "0    12.570816\n",
       "dtype: float64"
      ]
     },
     "execution_count": 34,
     "metadata": {},
     "output_type": "execute_result"
    }
   ],
   "source": [
    "##counting stats - dataset varies by this many counts (li)\n",
    "np.sqrt(np.mean(dfli))"
   ]
  },
  {
   "cell_type": "code",
   "execution_count": 35,
   "id": "e629241a",
   "metadata": {},
   "outputs": [
    {
     "data": {
      "text/plain": [
       "0    19.699205\n",
       "dtype: float64"
      ]
     },
     "execution_count": 35,
     "metadata": {},
     "output_type": "execute_result"
    }
   ],
   "source": [
    "np.std(dfli)"
   ]
  },
  {
   "cell_type": "code",
   "execution_count": 36,
   "id": "303e48e9",
   "metadata": {},
   "outputs": [
    {
     "data": {
      "text/plain": [
       "0    158.025424\n",
       "dtype: float64"
      ]
     },
     "execution_count": 36,
     "metadata": {},
     "output_type": "execute_result"
    }
   ],
   "source": [
    "np.mean(dfli)"
   ]
  },
  {
   "cell_type": "markdown",
   "id": "27043aca",
   "metadata": {},
   "source": [
    "## Eucalyptus Grove vs Li Ka Shing"
   ]
  },
  {
   "cell_type": "code",
   "execution_count": 37,
   "id": "44de869a",
   "metadata": {},
   "outputs": [
    {
     "data": {
      "text/plain": [
       "(0.38869161410550146, 0.6978607627224133)"
      ]
     },
     "execution_count": 37,
     "metadata": {},
     "output_type": "execute_result"
    }
   ],
   "source": [
    "## Comparing Hill and Li Ka Shing radiation\n",
    "t_stat, p_val= ss.ttest_ind(grove_rad_no_outliers,lika_rad_no_outliers)\n",
    "t_stat , p_val"
   ]
  },
  {
   "cell_type": "code",
   "execution_count": 38,
   "id": "6a9ce7bd",
   "metadata": {
    "scrolled": true
   },
   "outputs": [
    {
     "name": "stdout",
     "output_type": "stream",
     "text": [
      "Since our p-value >0.05, we fail to reject the null hypothesis at the 95% level. There is no statistically significant difference in radiation levels between the Eucalyptus Grove and Li Ka Shing areas.\n"
     ]
    }
   ],
   "source": [
    "print(\"Since our p-value >0.05, we fail to reject the null hypothesis at the 95% level. There is no statistically significant difference in radiation levels between the Eucalyptus Grove and Li Ka Shing areas.\")"
   ]
  },
  {
   "cell_type": "code",
   "execution_count": 39,
   "id": "2a74e2af",
   "metadata": {
    "scrolled": false
   },
   "outputs": [
    {
     "data": {
      "image/png": "[encoded data removed]",
      "text/plain": [
       "<Figure size 864x432 with 1 Axes>"
      ]
     },
     "metadata": {
      "needs_background": "light"
     },
     "output_type": "display_data"
    }
   ],
   "source": [
    "plt.figure(figsize=(12,6))\n",
    "sns.histplot(grove_rad_no_outliers,label='Grove',color='green')\n",
    "sns.histplot(lika_rad_no_outliers,label='Lika',color='red')\n",
    "plt.legend(loc='upper right');\n",
    "plt.xlabel('Counts (Radiation)',size=14)\n",
    "plt.ylabel('Count',size=14)\n",
    "plt.title('Counts (Radiation) By Location',size=16);"
   ]
  },
  {
   "cell_type": "markdown",
   "id": "4af13bdd",
   "metadata": {},
   "source": [
    "## Correlation Analysis"
   ]
  },
  {
   "cell_type": "markdown",
   "id": "28828336",
   "metadata": {},
   "source": [
    "## Information from the Grove"
   ]
  },
  {
   "cell_type": "code",
   "execution_count": 40,
   "id": "6563e171",
   "metadata": {},
   "outputs": [],
   "source": [
    "## Humidity and Radiation"
   ]
  },
  {
   "cell_type": "code",
   "execution_count": 41,
   "id": "064557a5",
   "metadata": {
    "scrolled": false
   },
   "outputs": [
    {
     "data": {
      "text/html": [
       "<div>\n",
       "<style scoped>\n",
       "    .dataframe tbody tr th:only-of-type {\n",
       "        vertical-align: middle;\n",
       "    }\n",
       "\n",
       "    .dataframe tbody tr th {\n",
       "        vertical-align: top;\n",
       "    }\n",
       "\n",
       "    .dataframe thead th {\n",
       "        text-align: right;\n",
       "    }\n",
       "</style>\n",
       "<table border=\"1\" class=\"dataframe\">\n",
       "  <thead>\n",
       "    <tr style=\"text-align: right;\">\n",
       "      <th></th>\n",
       "      <th>Time</th>\n",
       "      <th>Temperature</th>\n",
       "      <th>T Unc.</th>\n",
       "      <th>Humidity</th>\n",
       "      <th>H Unc.</th>\n",
       "      <th>Pressure</th>\n",
       "      <th>P Unc.</th>\n",
       "    </tr>\n",
       "  </thead>\n",
       "  <tbody>\n",
       "    <tr>\n",
       "      <th>0</th>\n",
       "      <td>1.635567e+09</td>\n",
       "      <td>17.226133</td>\n",
       "      <td>0.041765</td>\n",
       "      <td>62.463346</td>\n",
       "      <td>0.234179</td>\n",
       "      <td>0.999220</td>\n",
       "      <td>0.000024</td>\n",
       "    </tr>\n",
       "    <tr>\n",
       "      <th>1</th>\n",
       "      <td>1.635567e+09</td>\n",
       "      <td>17.300391</td>\n",
       "      <td>0.031111</td>\n",
       "      <td>62.566592</td>\n",
       "      <td>0.082023</td>\n",
       "      <td>0.999242</td>\n",
       "      <td>0.000022</td>\n",
       "    </tr>\n",
       "    <tr>\n",
       "      <th>2</th>\n",
       "      <td>1.635567e+09</td>\n",
       "      <td>17.393945</td>\n",
       "      <td>0.041869</td>\n",
       "      <td>62.086623</td>\n",
       "      <td>0.240370</td>\n",
       "      <td>0.999178</td>\n",
       "      <td>0.000068</td>\n",
       "    </tr>\n",
       "    <tr>\n",
       "      <th>3</th>\n",
       "      <td>1.635567e+09</td>\n",
       "      <td>17.490586</td>\n",
       "      <td>0.031787</td>\n",
       "      <td>61.548221</td>\n",
       "      <td>0.135119</td>\n",
       "      <td>0.999197</td>\n",
       "      <td>0.000015</td>\n",
       "    </tr>\n",
       "    <tr>\n",
       "      <th>4</th>\n",
       "      <td>1.635567e+09</td>\n",
       "      <td>17.556680</td>\n",
       "      <td>0.023026</td>\n",
       "      <td>61.197376</td>\n",
       "      <td>0.157931</td>\n",
       "      <td>0.999198</td>\n",
       "      <td>0.000010</td>\n",
       "    </tr>\n",
       "    <tr>\n",
       "      <th>...</th>\n",
       "      <td>...</td>\n",
       "      <td>...</td>\n",
       "      <td>...</td>\n",
       "      <td>...</td>\n",
       "      <td>...</td>\n",
       "      <td>...</td>\n",
       "      <td>...</td>\n",
       "    </tr>\n",
       "    <tr>\n",
       "      <th>69</th>\n",
       "      <td>1.635567e+09</td>\n",
       "      <td>18.134531</td>\n",
       "      <td>0.032341</td>\n",
       "      <td>58.420484</td>\n",
       "      <td>0.139295</td>\n",
       "      <td>0.999066</td>\n",
       "      <td>0.000024</td>\n",
       "    </tr>\n",
       "    <tr>\n",
       "      <th>70</th>\n",
       "      <td>1.635567e+09</td>\n",
       "      <td>18.240273</td>\n",
       "      <td>0.029962</td>\n",
       "      <td>58.119218</td>\n",
       "      <td>0.082066</td>\n",
       "      <td>0.999085</td>\n",
       "      <td>0.000026</td>\n",
       "    </tr>\n",
       "    <tr>\n",
       "      <th>71</th>\n",
       "      <td>1.635567e+09</td>\n",
       "      <td>18.268789</td>\n",
       "      <td>0.013006</td>\n",
       "      <td>58.152310</td>\n",
       "      <td>0.086751</td>\n",
       "      <td>0.999095</td>\n",
       "      <td>0.000014</td>\n",
       "    </tr>\n",
       "    <tr>\n",
       "      <th>72</th>\n",
       "      <td>1.635567e+09</td>\n",
       "      <td>18.237266</td>\n",
       "      <td>0.012924</td>\n",
       "      <td>57.996559</td>\n",
       "      <td>0.188307</td>\n",
       "      <td>0.999079</td>\n",
       "      <td>0.000010</td>\n",
       "    </tr>\n",
       "    <tr>\n",
       "      <th>73</th>\n",
       "      <td>1.635567e+09</td>\n",
       "      <td>18.153828</td>\n",
       "      <td>0.022390</td>\n",
       "      <td>57.656249</td>\n",
       "      <td>0.156570</td>\n",
       "      <td>0.999042</td>\n",
       "      <td>0.000009</td>\n",
       "    </tr>\n",
       "  </tbody>\n",
       "</table>\n",
       "<p>74 rows × 7 columns</p>\n",
       "</div>"
      ],
      "text/plain": [
       "            Time  Temperature    T Unc.   Humidity    H Unc.  Pressure  \\\n",
       "0   1.635567e+09    17.226133  0.041765  62.463346  0.234179  0.999220   \n",
       "1   1.635567e+09    17.300391  0.031111  62.566592  0.082023  0.999242   \n",
       "2   1.635567e+09    17.393945  0.041869  62.086623  0.240370  0.999178   \n",
       "3   1.635567e+09    17.490586  0.031787  61.548221  0.135119  0.999197   \n",
       "4   1.635567e+09    17.556680  0.023026  61.197376  0.157931  0.999198   \n",
       "..           ...          ...       ...        ...       ...       ...   \n",
       "69  1.635567e+09    18.134531  0.032341  58.420484  0.139295  0.999066   \n",
       "70  1.635567e+09    18.240273  0.029962  58.119218  0.082066  0.999085   \n",
       "71  1.635567e+09    18.268789  0.013006  58.152310  0.086751  0.999095   \n",
       "72  1.635567e+09    18.237266  0.012924  57.996559  0.188307  0.999079   \n",
       "73  1.635567e+09    18.153828  0.022390  57.656249  0.156570  0.999042   \n",
       "\n",
       "      P Unc.  \n",
       "0   0.000024  \n",
       "1   0.000022  \n",
       "2   0.000068  \n",
       "3   0.000015  \n",
       "4   0.000010  \n",
       "..       ...  \n",
       "69  0.000024  \n",
       "70  0.000026  \n",
       "71  0.000014  \n",
       "72  0.000010  \n",
       "73  0.000009  \n",
       "\n",
       "[74 rows x 7 columns]"
      ]
     },
     "execution_count": 41,
     "metadata": {},
     "output_type": "execute_result"
    }
   ],
   "source": [
    "grove_P"
   ]
  },
  {
   "cell_type": "code",
   "execution_count": 42,
   "id": "6688aee3",
   "metadata": {
    "scrolled": false
   },
   "outputs": [
    {
     "name": "stderr",
     "output_type": "stream",
     "text": [
      "/opt/anaconda3/lib/python3.8/site-packages/seaborn/_decorators.py:36: FutureWarning: Pass the following variables as keyword args: x, y. From version 0.12, the only valid positional argument will be `data`, and passing other arguments without an explicit keyword will result in an error or misinterpretation.\n",
      "  warnings.warn(\n"
     ]
    },
    {
     "data": {
      "image/png": "[encoded data removed]",
      "text/plain": [
       "<Figure size 432x288 with 1 Axes>"
      ]
     },
     "metadata": {
      "needs_background": "light"
     },
     "output_type": "display_data"
    }
   ],
   "source": [
    "sns.regplot(grove_P['Humidity'],grove_rad[0:len(grove_P)]);\n",
    "plt.title(\"Humidity vs Radiation\");\n",
    "plt.xlabel('Humidity')\n",
    "plt.ylabel('Radiation Counts');"
   ]
  },
  {
   "cell_type": "code",
   "execution_count": 43,
   "id": "05273040",
   "metadata": {},
   "outputs": [
    {
     "name": "stderr",
     "output_type": "stream",
     "text": [
      "/opt/anaconda3/lib/python3.8/site-packages/seaborn/_decorators.py:36: FutureWarning: Pass the following variables as keyword args: x, y. From version 0.12, the only valid positional argument will be `data`, and passing other arguments without an explicit keyword will result in an error or misinterpretation.\n",
      "  warnings.warn(\n"
     ]
    },
    {
     "data": {
      "image/png": "[encoded data removed]",
      "text/plain": [
       "<Figure size 432x288 with 1 Axes>"
      ]
     },
     "metadata": {
      "needs_background": "light"
     },
     "output_type": "display_data"
    }
   ],
   "source": [
    "sns.residplot(grove_P['Humidity'],grove_rad[0:len(grove_P)]);\n",
    "plt.title(\"Humidity vs Radiation Residuals Plot\");\n",
    "plt.xlabel('Humidity')\n",
    "plt.ylabel('Radiation Counts');"
   ]
  },
  {
   "cell_type": "code",
   "execution_count": 44,
   "id": "bf73081c",
   "metadata": {},
   "outputs": [],
   "source": [
    "## I make a new dataframe with the arrays from plt.scatter so I can use the smf.ols package to calculate correlation\n",
    "humidity_grove=pd.DataFrame()\n",
    "humidity_grove['Humidity']=grove_P['Humidity']\n",
    "humidity_grove['Radiation']=grove_rad[0:74]"
   ]
  },
  {
   "cell_type": "code",
   "execution_count": 45,
   "id": "0ddb960b",
   "metadata": {
    "scrolled": false
   },
   "outputs": [
    {
     "name": "stdout",
     "output_type": "stream",
     "text": [
      "                            OLS Regression Results                            \n",
      "==============================================================================\n",
      "Dep. Variable:              Radiation   R-squared:                       0.022\n",
      "Model:                            OLS   Adj. R-squared:                  0.009\n",
      "Method:                 Least Squares   F-statistic:                     1.655\n",
      "Date:                Wed, 15 Dec 2021   Prob (F-statistic):              0.202\n",
      "Time:                        16:34:45   Log-Likelihood:                -327.07\n",
      "No. Observations:                  74   AIC:                             658.1\n",
      "Df Residuals:                      72   BIC:                             662.8\n",
      "Df Model:                           1                                         \n",
      "Covariance Type:            nonrobust                                         \n",
      "==============================================================================\n",
      "                 coef    std err          t      P>|t|      [0.025      0.975]\n",
      "------------------------------------------------------------------------------\n",
      "Intercept    322.0886    128.073      2.515      0.014      66.780     577.397\n",
      "Humidity      -2.7973      2.175     -1.286      0.202      -7.133       1.538\n",
      "==============================================================================\n",
      "Omnibus:                       18.152   Durbin-Watson:                   0.821\n",
      "Prob(Omnibus):                  0.000   Jarque-Bera (JB):               21.997\n",
      "Skew:                           1.168   Prob(JB):                     1.67e-05\n",
      "Kurtosis:                       4.295   Cond. No.                     3.18e+03\n",
      "==============================================================================\n",
      "\n",
      "Notes:\n",
      "[1] Standard Errors assume that the covariance matrix of the errors is correctly specified.\n",
      "[2] The condition number is large, 3.18e+03. This might indicate that there are\n",
      "strong multicollinearity or other numerical problems.\n"
     ]
    }
   ],
   "source": [
    "## I use this package to determine correlation (R-squared)\n",
    "print(smf.ols('Radiation~Humidity',data=humidity_grove).fit().summary())"
   ]
  },
  {
   "cell_type": "code",
   "execution_count": 46,
   "id": "2cac9f1c",
   "metadata": {},
   "outputs": [],
   "source": [
    "## Radiation and Air Quality"
   ]
  },
  {
   "cell_type": "code",
   "execution_count": 47,
   "id": "b89e53f8",
   "metadata": {
    "scrolled": true
   },
   "outputs": [
    {
     "data": {
      "text/html": [
       "<div>\n",
       "<style scoped>\n",
       "    .dataframe tbody tr th:only-of-type {\n",
       "        vertical-align: middle;\n",
       "    }\n",
       "\n",
       "    .dataframe tbody tr th {\n",
       "        vertical-align: top;\n",
       "    }\n",
       "\n",
       "    .dataframe thead th {\n",
       "        text-align: right;\n",
       "    }\n",
       "</style>\n",
       "<table border=\"1\" class=\"dataframe\">\n",
       "  <thead>\n",
       "    <tr style=\"text-align: right;\">\n",
       "      <th></th>\n",
       "      <th>Time</th>\n",
       "      <th>PM 1.0</th>\n",
       "      <th>Unc 1.0</th>\n",
       "      <th>PM 2.5</th>\n",
       "      <th>Unc 2.5</th>\n",
       "      <th>PM 10</th>\n",
       "      <th>Unc. 10</th>\n",
       "    </tr>\n",
       "  </thead>\n",
       "  <tbody>\n",
       "    <tr>\n",
       "      <th>0</th>\n",
       "      <td>1.635567e+09</td>\n",
       "      <td>8.0</td>\n",
       "      <td>0.000000</td>\n",
       "      <td>11.0</td>\n",
       "      <td>0.000000</td>\n",
       "      <td>14.0</td>\n",
       "      <td>0.000000</td>\n",
       "    </tr>\n",
       "    <tr>\n",
       "      <th>1</th>\n",
       "      <td>1.635567e+09</td>\n",
       "      <td>8.2</td>\n",
       "      <td>0.400000</td>\n",
       "      <td>11.2</td>\n",
       "      <td>0.400000</td>\n",
       "      <td>14.6</td>\n",
       "      <td>0.489898</td>\n",
       "    </tr>\n",
       "    <tr>\n",
       "      <th>2</th>\n",
       "      <td>1.635567e+09</td>\n",
       "      <td>9.0</td>\n",
       "      <td>0.000000</td>\n",
       "      <td>12.0</td>\n",
       "      <td>0.000000</td>\n",
       "      <td>15.0</td>\n",
       "      <td>0.000000</td>\n",
       "    </tr>\n",
       "    <tr>\n",
       "      <th>3</th>\n",
       "      <td>1.635567e+09</td>\n",
       "      <td>9.0</td>\n",
       "      <td>0.000000</td>\n",
       "      <td>12.0</td>\n",
       "      <td>0.000000</td>\n",
       "      <td>15.0</td>\n",
       "      <td>0.000000</td>\n",
       "    </tr>\n",
       "    <tr>\n",
       "      <th>4</th>\n",
       "      <td>1.635567e+09</td>\n",
       "      <td>8.0</td>\n",
       "      <td>0.000000</td>\n",
       "      <td>11.0</td>\n",
       "      <td>0.000000</td>\n",
       "      <td>15.0</td>\n",
       "      <td>0.000000</td>\n",
       "    </tr>\n",
       "    <tr>\n",
       "      <th>...</th>\n",
       "      <td>...</td>\n",
       "      <td>...</td>\n",
       "      <td>...</td>\n",
       "      <td>...</td>\n",
       "      <td>...</td>\n",
       "      <td>...</td>\n",
       "      <td>...</td>\n",
       "    </tr>\n",
       "    <tr>\n",
       "      <th>106</th>\n",
       "      <td>1.635567e+09</td>\n",
       "      <td>9.0</td>\n",
       "      <td>0.000000</td>\n",
       "      <td>13.0</td>\n",
       "      <td>0.000000</td>\n",
       "      <td>14.0</td>\n",
       "      <td>0.000000</td>\n",
       "    </tr>\n",
       "    <tr>\n",
       "      <th>107</th>\n",
       "      <td>1.635567e+09</td>\n",
       "      <td>9.0</td>\n",
       "      <td>0.000000</td>\n",
       "      <td>13.0</td>\n",
       "      <td>0.000000</td>\n",
       "      <td>14.0</td>\n",
       "      <td>0.000000</td>\n",
       "    </tr>\n",
       "    <tr>\n",
       "      <th>108</th>\n",
       "      <td>1.635567e+09</td>\n",
       "      <td>9.0</td>\n",
       "      <td>0.000000</td>\n",
       "      <td>13.0</td>\n",
       "      <td>0.000000</td>\n",
       "      <td>14.0</td>\n",
       "      <td>0.000000</td>\n",
       "    </tr>\n",
       "    <tr>\n",
       "      <th>109</th>\n",
       "      <td>1.635567e+09</td>\n",
       "      <td>9.0</td>\n",
       "      <td>0.000000</td>\n",
       "      <td>12.6</td>\n",
       "      <td>0.489898</td>\n",
       "      <td>13.8</td>\n",
       "      <td>0.400000</td>\n",
       "    </tr>\n",
       "    <tr>\n",
       "      <th>110</th>\n",
       "      <td>1.635567e+09</td>\n",
       "      <td>8.0</td>\n",
       "      <td>0.632456</td>\n",
       "      <td>11.2</td>\n",
       "      <td>0.400000</td>\n",
       "      <td>11.2</td>\n",
       "      <td>0.400000</td>\n",
       "    </tr>\n",
       "  </tbody>\n",
       "</table>\n",
       "<p>111 rows × 7 columns</p>\n",
       "</div>"
      ],
      "text/plain": [
       "             Time  PM 1.0   Unc 1.0  PM 2.5   Unc 2.5  PM 10   Unc. 10\n",
       "0    1.635567e+09     8.0  0.000000    11.0  0.000000   14.0  0.000000\n",
       "1    1.635567e+09     8.2  0.400000    11.2  0.400000   14.6  0.489898\n",
       "2    1.635567e+09     9.0  0.000000    12.0  0.000000   15.0  0.000000\n",
       "3    1.635567e+09     9.0  0.000000    12.0  0.000000   15.0  0.000000\n",
       "4    1.635567e+09     8.0  0.000000    11.0  0.000000   15.0  0.000000\n",
       "..            ...     ...       ...     ...       ...    ...       ...\n",
       "106  1.635567e+09     9.0  0.000000    13.0  0.000000   14.0  0.000000\n",
       "107  1.635567e+09     9.0  0.000000    13.0  0.000000   14.0  0.000000\n",
       "108  1.635567e+09     9.0  0.000000    13.0  0.000000   14.0  0.000000\n",
       "109  1.635567e+09     9.0  0.000000    12.6  0.489898   13.8  0.400000\n",
       "110  1.635567e+09     8.0  0.632456    11.2  0.400000   11.2  0.400000\n",
       "\n",
       "[111 rows x 7 columns]"
      ]
     },
     "execution_count": 47,
     "metadata": {},
     "output_type": "execute_result"
    }
   ],
   "source": [
    "grove_AQ"
   ]
  },
  {
   "cell_type": "code",
   "execution_count": 48,
   "id": "a66527f4",
   "metadata": {
    "scrolled": true
   },
   "outputs": [
    {
     "name": "stderr",
     "output_type": "stream",
     "text": [
      "/opt/anaconda3/lib/python3.8/site-packages/seaborn/_decorators.py:36: FutureWarning: Pass the following variables as keyword args: x, y. From version 0.12, the only valid positional argument will be `data`, and passing other arguments without an explicit keyword will result in an error or misinterpretation.\n",
      "  warnings.warn(\n"
     ]
    },
    {
     "data": {
      "image/png": "[encoded data removed]",
      "text/plain": [
       "<Figure size 432x288 with 1 Axes>"
      ]
     },
     "metadata": {
      "needs_background": "light"
     },
     "output_type": "display_data"
    }
   ],
   "source": [
    "sns.regplot(grove_AQ['PM 2.5'],grove_rad[0:len(grove_AQ)]);\n",
    "plt.title(\"PM 2.5 vs Radiation\");\n",
    "plt.xlabel('PM 2.5')\n",
    "plt.ylabel('Radiation');"
   ]
  },
  {
   "cell_type": "code",
   "execution_count": 49,
   "id": "cfd83fa3",
   "metadata": {
    "scrolled": true
   },
   "outputs": [
    {
     "name": "stderr",
     "output_type": "stream",
     "text": [
      "/opt/anaconda3/lib/python3.8/site-packages/seaborn/_decorators.py:36: FutureWarning: Pass the following variables as keyword args: x, y. From version 0.12, the only valid positional argument will be `data`, and passing other arguments without an explicit keyword will result in an error or misinterpretation.\n",
      "  warnings.warn(\n"
     ]
    },
    {
     "data": {
      "image/png": "[encoded data removed]",
      "text/plain": [
       "<Figure size 432x288 with 1 Axes>"
      ]
     },
     "metadata": {
      "needs_background": "light"
     },
     "output_type": "display_data"
    }
   ],
   "source": [
    "sns.residplot(grove_AQ['PM 2.5'],grove_rad[0:len(grove_AQ)]);\n",
    "plt.title(\"PM 2.5 vs Radiation Residuals Plot\");\n",
    "plt.xlabel('PM 2.5')\n",
    "plt.ylabel('Radiation');"
   ]
  },
  {
   "cell_type": "code",
   "execution_count": 50,
   "id": "ac346138",
   "metadata": {},
   "outputs": [],
   "source": [
    "AQ_grove=pd.DataFrame()\n",
    "AQ_grove['AQ']=grove_AQ['PM 2.5']\n",
    "AQ_grove['Radiation']=grove_rad[0:len(grove_AQ)]"
   ]
  },
  {
   "cell_type": "code",
   "execution_count": 51,
   "id": "8cc5b6ee",
   "metadata": {
    "scrolled": true
   },
   "outputs": [
    {
     "name": "stdout",
     "output_type": "stream",
     "text": [
      "                            OLS Regression Results                            \n",
      "==============================================================================\n",
      "Dep. Variable:              Radiation   R-squared:                       0.011\n",
      "Model:                            OLS   Adj. R-squared:                  0.002\n",
      "Method:                 Least Squares   F-statistic:                     1.248\n",
      "Date:                Wed, 15 Dec 2021   Prob (F-statistic):              0.266\n",
      "Time:                        16:34:45   Log-Likelihood:                -495.14\n",
      "No. Observations:                 111   AIC:                             994.3\n",
      "Df Residuals:                     109   BIC:                             999.7\n",
      "Df Model:                           1                                         \n",
      "Covariance Type:            nonrobust                                         \n",
      "==============================================================================\n",
      "                 coef    std err          t      P>|t|      [0.025      0.975]\n",
      "------------------------------------------------------------------------------\n",
      "Intercept    125.8904     29.512      4.266      0.000      67.398     184.383\n",
      "AQ             2.8713      2.570      1.117      0.266      -2.223       7.965\n",
      "==============================================================================\n",
      "Omnibus:                        6.953   Durbin-Watson:                   0.764\n",
      "Prob(Omnibus):                  0.031   Jarque-Bera (JB):                6.956\n",
      "Skew:                           0.613   Prob(JB):                       0.0309\n",
      "Kurtosis:                       3.027   Cond. No.                         170.\n",
      "==============================================================================\n",
      "\n",
      "Notes:\n",
      "[1] Standard Errors assume that the covariance matrix of the errors is correctly specified.\n"
     ]
    }
   ],
   "source": [
    "print(smf.ols('Radiation~AQ',data=AQ_grove).fit().summary())"
   ]
  },
  {
   "cell_type": "code",
   "execution_count": 52,
   "id": "040a97e5",
   "metadata": {},
   "outputs": [
    {
     "data": {
      "text/html": [
       "<div>\n",
       "<style scoped>\n",
       "    .dataframe tbody tr th:only-of-type {\n",
       "        vertical-align: middle;\n",
       "    }\n",
       "\n",
       "    .dataframe tbody tr th {\n",
       "        vertical-align: top;\n",
       "    }\n",
       "\n",
       "    .dataframe thead th {\n",
       "        text-align: right;\n",
       "    }\n",
       "</style>\n",
       "<table border=\"1\" class=\"dataframe\">\n",
       "  <thead>\n",
       "    <tr style=\"text-align: right;\">\n",
       "      <th></th>\n",
       "      <th>Time</th>\n",
       "      <th>Temperature</th>\n",
       "      <th>T Unc.</th>\n",
       "      <th>Humidity</th>\n",
       "      <th>H Unc.</th>\n",
       "      <th>Pressure</th>\n",
       "      <th>P Unc.</th>\n",
       "    </tr>\n",
       "  </thead>\n",
       "  <tbody>\n",
       "    <tr>\n",
       "      <th>0</th>\n",
       "      <td>1.635567e+09</td>\n",
       "      <td>17.226133</td>\n",
       "      <td>0.041765</td>\n",
       "      <td>62.463346</td>\n",
       "      <td>0.234179</td>\n",
       "      <td>0.999220</td>\n",
       "      <td>0.000024</td>\n",
       "    </tr>\n",
       "    <tr>\n",
       "      <th>1</th>\n",
       "      <td>1.635567e+09</td>\n",
       "      <td>17.300391</td>\n",
       "      <td>0.031111</td>\n",
       "      <td>62.566592</td>\n",
       "      <td>0.082023</td>\n",
       "      <td>0.999242</td>\n",
       "      <td>0.000022</td>\n",
       "    </tr>\n",
       "    <tr>\n",
       "      <th>2</th>\n",
       "      <td>1.635567e+09</td>\n",
       "      <td>17.393945</td>\n",
       "      <td>0.041869</td>\n",
       "      <td>62.086623</td>\n",
       "      <td>0.240370</td>\n",
       "      <td>0.999178</td>\n",
       "      <td>0.000068</td>\n",
       "    </tr>\n",
       "    <tr>\n",
       "      <th>3</th>\n",
       "      <td>1.635567e+09</td>\n",
       "      <td>17.490586</td>\n",
       "      <td>0.031787</td>\n",
       "      <td>61.548221</td>\n",
       "      <td>0.135119</td>\n",
       "      <td>0.999197</td>\n",
       "      <td>0.000015</td>\n",
       "    </tr>\n",
       "    <tr>\n",
       "      <th>4</th>\n",
       "      <td>1.635567e+09</td>\n",
       "      <td>17.556680</td>\n",
       "      <td>0.023026</td>\n",
       "      <td>61.197376</td>\n",
       "      <td>0.157931</td>\n",
       "      <td>0.999198</td>\n",
       "      <td>0.000010</td>\n",
       "    </tr>\n",
       "    <tr>\n",
       "      <th>...</th>\n",
       "      <td>...</td>\n",
       "      <td>...</td>\n",
       "      <td>...</td>\n",
       "      <td>...</td>\n",
       "      <td>...</td>\n",
       "      <td>...</td>\n",
       "      <td>...</td>\n",
       "    </tr>\n",
       "    <tr>\n",
       "      <th>69</th>\n",
       "      <td>1.635567e+09</td>\n",
       "      <td>18.134531</td>\n",
       "      <td>0.032341</td>\n",
       "      <td>58.420484</td>\n",
       "      <td>0.139295</td>\n",
       "      <td>0.999066</td>\n",
       "      <td>0.000024</td>\n",
       "    </tr>\n",
       "    <tr>\n",
       "      <th>70</th>\n",
       "      <td>1.635567e+09</td>\n",
       "      <td>18.240273</td>\n",
       "      <td>0.029962</td>\n",
       "      <td>58.119218</td>\n",
       "      <td>0.082066</td>\n",
       "      <td>0.999085</td>\n",
       "      <td>0.000026</td>\n",
       "    </tr>\n",
       "    <tr>\n",
       "      <th>71</th>\n",
       "      <td>1.635567e+09</td>\n",
       "      <td>18.268789</td>\n",
       "      <td>0.013006</td>\n",
       "      <td>58.152310</td>\n",
       "      <td>0.086751</td>\n",
       "      <td>0.999095</td>\n",
       "      <td>0.000014</td>\n",
       "    </tr>\n",
       "    <tr>\n",
       "      <th>72</th>\n",
       "      <td>1.635567e+09</td>\n",
       "      <td>18.237266</td>\n",
       "      <td>0.012924</td>\n",
       "      <td>57.996559</td>\n",
       "      <td>0.188307</td>\n",
       "      <td>0.999079</td>\n",
       "      <td>0.000010</td>\n",
       "    </tr>\n",
       "    <tr>\n",
       "      <th>73</th>\n",
       "      <td>1.635567e+09</td>\n",
       "      <td>18.153828</td>\n",
       "      <td>0.022390</td>\n",
       "      <td>57.656249</td>\n",
       "      <td>0.156570</td>\n",
       "      <td>0.999042</td>\n",
       "      <td>0.000009</td>\n",
       "    </tr>\n",
       "  </tbody>\n",
       "</table>\n",
       "<p>74 rows × 7 columns</p>\n",
       "</div>"
      ],
      "text/plain": [
       "            Time  Temperature    T Unc.   Humidity    H Unc.  Pressure  \\\n",
       "0   1.635567e+09    17.226133  0.041765  62.463346  0.234179  0.999220   \n",
       "1   1.635567e+09    17.300391  0.031111  62.566592  0.082023  0.999242   \n",
       "2   1.635567e+09    17.393945  0.041869  62.086623  0.240370  0.999178   \n",
       "3   1.635567e+09    17.490586  0.031787  61.548221  0.135119  0.999197   \n",
       "4   1.635567e+09    17.556680  0.023026  61.197376  0.157931  0.999198   \n",
       "..           ...          ...       ...        ...       ...       ...   \n",
       "69  1.635567e+09    18.134531  0.032341  58.420484  0.139295  0.999066   \n",
       "70  1.635567e+09    18.240273  0.029962  58.119218  0.082066  0.999085   \n",
       "71  1.635567e+09    18.268789  0.013006  58.152310  0.086751  0.999095   \n",
       "72  1.635567e+09    18.237266  0.012924  57.996559  0.188307  0.999079   \n",
       "73  1.635567e+09    18.153828  0.022390  57.656249  0.156570  0.999042   \n",
       "\n",
       "      P Unc.  \n",
       "0   0.000024  \n",
       "1   0.000022  \n",
       "2   0.000068  \n",
       "3   0.000015  \n",
       "4   0.000010  \n",
       "..       ...  \n",
       "69  0.000024  \n",
       "70  0.000026  \n",
       "71  0.000014  \n",
       "72  0.000010  \n",
       "73  0.000009  \n",
       "\n",
       "[74 rows x 7 columns]"
      ]
     },
     "execution_count": 52,
     "metadata": {},
     "output_type": "execute_result"
    }
   ],
   "source": [
    "grove_P"
   ]
  },
  {
   "cell_type": "code",
   "execution_count": 53,
   "id": "b8adbb31",
   "metadata": {},
   "outputs": [],
   "source": [
    "## Radiation and Temperature"
   ]
  },
  {
   "cell_type": "code",
   "execution_count": 54,
   "id": "894911af",
   "metadata": {
    "scrolled": true
   },
   "outputs": [
    {
     "data": {
      "text/html": [
       "<div>\n",
       "<style scoped>\n",
       "    .dataframe tbody tr th:only-of-type {\n",
       "        vertical-align: middle;\n",
       "    }\n",
       "\n",
       "    .dataframe tbody tr th {\n",
       "        vertical-align: top;\n",
       "    }\n",
       "\n",
       "    .dataframe thead th {\n",
       "        text-align: right;\n",
       "    }\n",
       "</style>\n",
       "<table border=\"1\" class=\"dataframe\">\n",
       "  <thead>\n",
       "    <tr style=\"text-align: right;\">\n",
       "      <th></th>\n",
       "      <th>Time</th>\n",
       "      <th>Temperature</th>\n",
       "      <th>T Unc.</th>\n",
       "      <th>Humidity</th>\n",
       "      <th>H Unc.</th>\n",
       "      <th>Pressure</th>\n",
       "      <th>P Unc.</th>\n",
       "    </tr>\n",
       "  </thead>\n",
       "  <tbody>\n",
       "    <tr>\n",
       "      <th>0</th>\n",
       "      <td>1.635567e+09</td>\n",
       "      <td>17.226133</td>\n",
       "      <td>0.041765</td>\n",
       "      <td>62.463346</td>\n",
       "      <td>0.234179</td>\n",
       "      <td>0.999220</td>\n",
       "      <td>0.000024</td>\n",
       "    </tr>\n",
       "    <tr>\n",
       "      <th>1</th>\n",
       "      <td>1.635567e+09</td>\n",
       "      <td>17.300391</td>\n",
       "      <td>0.031111</td>\n",
       "      <td>62.566592</td>\n",
       "      <td>0.082023</td>\n",
       "      <td>0.999242</td>\n",
       "      <td>0.000022</td>\n",
       "    </tr>\n",
       "    <tr>\n",
       "      <th>2</th>\n",
       "      <td>1.635567e+09</td>\n",
       "      <td>17.393945</td>\n",
       "      <td>0.041869</td>\n",
       "      <td>62.086623</td>\n",
       "      <td>0.240370</td>\n",
       "      <td>0.999178</td>\n",
       "      <td>0.000068</td>\n",
       "    </tr>\n",
       "    <tr>\n",
       "      <th>3</th>\n",
       "      <td>1.635567e+09</td>\n",
       "      <td>17.490586</td>\n",
       "      <td>0.031787</td>\n",
       "      <td>61.548221</td>\n",
       "      <td>0.135119</td>\n",
       "      <td>0.999197</td>\n",
       "      <td>0.000015</td>\n",
       "    </tr>\n",
       "    <tr>\n",
       "      <th>4</th>\n",
       "      <td>1.635567e+09</td>\n",
       "      <td>17.556680</td>\n",
       "      <td>0.023026</td>\n",
       "      <td>61.197376</td>\n",
       "      <td>0.157931</td>\n",
       "      <td>0.999198</td>\n",
       "      <td>0.000010</td>\n",
       "    </tr>\n",
       "    <tr>\n",
       "      <th>...</th>\n",
       "      <td>...</td>\n",
       "      <td>...</td>\n",
       "      <td>...</td>\n",
       "      <td>...</td>\n",
       "      <td>...</td>\n",
       "      <td>...</td>\n",
       "      <td>...</td>\n",
       "    </tr>\n",
       "    <tr>\n",
       "      <th>69</th>\n",
       "      <td>1.635567e+09</td>\n",
       "      <td>18.134531</td>\n",
       "      <td>0.032341</td>\n",
       "      <td>58.420484</td>\n",
       "      <td>0.139295</td>\n",
       "      <td>0.999066</td>\n",
       "      <td>0.000024</td>\n",
       "    </tr>\n",
       "    <tr>\n",
       "      <th>70</th>\n",
       "      <td>1.635567e+09</td>\n",
       "      <td>18.240273</td>\n",
       "      <td>0.029962</td>\n",
       "      <td>58.119218</td>\n",
       "      <td>0.082066</td>\n",
       "      <td>0.999085</td>\n",
       "      <td>0.000026</td>\n",
       "    </tr>\n",
       "    <tr>\n",
       "      <th>71</th>\n",
       "      <td>1.635567e+09</td>\n",
       "      <td>18.268789</td>\n",
       "      <td>0.013006</td>\n",
       "      <td>58.152310</td>\n",
       "      <td>0.086751</td>\n",
       "      <td>0.999095</td>\n",
       "      <td>0.000014</td>\n",
       "    </tr>\n",
       "    <tr>\n",
       "      <th>72</th>\n",
       "      <td>1.635567e+09</td>\n",
       "      <td>18.237266</td>\n",
       "      <td>0.012924</td>\n",
       "      <td>57.996559</td>\n",
       "      <td>0.188307</td>\n",
       "      <td>0.999079</td>\n",
       "      <td>0.000010</td>\n",
       "    </tr>\n",
       "    <tr>\n",
       "      <th>73</th>\n",
       "      <td>1.635567e+09</td>\n",
       "      <td>18.153828</td>\n",
       "      <td>0.022390</td>\n",
       "      <td>57.656249</td>\n",
       "      <td>0.156570</td>\n",
       "      <td>0.999042</td>\n",
       "      <td>0.000009</td>\n",
       "    </tr>\n",
       "  </tbody>\n",
       "</table>\n",
       "<p>74 rows × 7 columns</p>\n",
       "</div>"
      ],
      "text/plain": [
       "            Time  Temperature    T Unc.   Humidity    H Unc.  Pressure  \\\n",
       "0   1.635567e+09    17.226133  0.041765  62.463346  0.234179  0.999220   \n",
       "1   1.635567e+09    17.300391  0.031111  62.566592  0.082023  0.999242   \n",
       "2   1.635567e+09    17.393945  0.041869  62.086623  0.240370  0.999178   \n",
       "3   1.635567e+09    17.490586  0.031787  61.548221  0.135119  0.999197   \n",
       "4   1.635567e+09    17.556680  0.023026  61.197376  0.157931  0.999198   \n",
       "..           ...          ...       ...        ...       ...       ...   \n",
       "69  1.635567e+09    18.134531  0.032341  58.420484  0.139295  0.999066   \n",
       "70  1.635567e+09    18.240273  0.029962  58.119218  0.082066  0.999085   \n",
       "71  1.635567e+09    18.268789  0.013006  58.152310  0.086751  0.999095   \n",
       "72  1.635567e+09    18.237266  0.012924  57.996559  0.188307  0.999079   \n",
       "73  1.635567e+09    18.153828  0.022390  57.656249  0.156570  0.999042   \n",
       "\n",
       "      P Unc.  \n",
       "0   0.000024  \n",
       "1   0.000022  \n",
       "2   0.000068  \n",
       "3   0.000015  \n",
       "4   0.000010  \n",
       "..       ...  \n",
       "69  0.000024  \n",
       "70  0.000026  \n",
       "71  0.000014  \n",
       "72  0.000010  \n",
       "73  0.000009  \n",
       "\n",
       "[74 rows x 7 columns]"
      ]
     },
     "execution_count": 54,
     "metadata": {},
     "output_type": "execute_result"
    }
   ],
   "source": [
    "grove_P"
   ]
  },
  {
   "cell_type": "code",
   "execution_count": 55,
   "id": "5e3e2e77",
   "metadata": {
    "scrolled": true
   },
   "outputs": [
    {
     "name": "stderr",
     "output_type": "stream",
     "text": [
      "/opt/anaconda3/lib/python3.8/site-packages/seaborn/_decorators.py:36: FutureWarning: Pass the following variables as keyword args: x, y. From version 0.12, the only valid positional argument will be `data`, and passing other arguments without an explicit keyword will result in an error or misinterpretation.\n",
      "  warnings.warn(\n"
     ]
    },
    {
     "data": {
      "image/png": "[encoded data removed]",
      "text/plain": [
       "<Figure size 432x288 with 1 Axes>"
      ]
     },
     "metadata": {
      "needs_background": "light"
     },
     "output_type": "display_data"
    }
   ],
   "source": [
    "sns.regplot(grove_P['Temperature'],grove_rad[0:len(grove_P)]);\n",
    "plt.title(\"Temperature vs Radiation\");\n",
    "plt.xlabel('Temperature')\n",
    "plt.ylabel('Radiation');"
   ]
  },
  {
   "cell_type": "code",
   "execution_count": 56,
   "id": "74ddf4be",
   "metadata": {
    "scrolled": true
   },
   "outputs": [
    {
     "name": "stderr",
     "output_type": "stream",
     "text": [
      "/opt/anaconda3/lib/python3.8/site-packages/seaborn/_decorators.py:36: FutureWarning: Pass the following variables as keyword args: x, y. From version 0.12, the only valid positional argument will be `data`, and passing other arguments without an explicit keyword will result in an error or misinterpretation.\n",
      "  warnings.warn(\n"
     ]
    },
    {
     "data": {
      "image/png": "[encoded data removed]",
      "text/plain": [
       "<Figure size 432x288 with 1 Axes>"
      ]
     },
     "metadata": {
      "needs_background": "light"
     },
     "output_type": "display_data"
    }
   ],
   "source": [
    "sns.residplot(grove_P['Temperature'],grove_rad[0:len(grove_P)]);\n",
    "plt.title(\"Temperature vs Radiation Residuals Plot\");\n",
    "plt.xlabel('Temperature')\n",
    "plt.ylabel('Radiation');"
   ]
  },
  {
   "cell_type": "code",
   "execution_count": 57,
   "id": "79a38c5b",
   "metadata": {},
   "outputs": [],
   "source": [
    "Temp_grove=pd.DataFrame()\n",
    "Temp_grove['Temp']=grove_P['Temperature']\n",
    "Temp_grove['Radiation']=grove_rad[0:len(grove_P)]"
   ]
  },
  {
   "cell_type": "code",
   "execution_count": 58,
   "id": "4d5b27e0",
   "metadata": {
    "scrolled": true
   },
   "outputs": [
    {
     "name": "stdout",
     "output_type": "stream",
     "text": [
      "                            OLS Regression Results                            \n",
      "==============================================================================\n",
      "Dep. Variable:              Radiation   R-squared:                       0.083\n",
      "Model:                            OLS   Adj. R-squared:                  0.070\n",
      "Method:                 Least Squares   F-statistic:                     6.496\n",
      "Date:                Wed, 15 Dec 2021   Prob (F-statistic):             0.0129\n",
      "Time:                        16:34:46   Log-Likelihood:                -324.72\n",
      "No. Observations:                  74   AIC:                             653.4\n",
      "Df Residuals:                      72   BIC:                             658.0\n",
      "Df Model:                           1                                         \n",
      "Covariance Type:            nonrobust                                         \n",
      "==============================================================================\n",
      "                 coef    std err          t      P>|t|      [0.025      0.975]\n",
      "------------------------------------------------------------------------------\n",
      "Intercept   -273.9217    169.233     -1.619      0.110    -611.282      63.438\n",
      "Temp          23.8230      9.347      2.549      0.013       5.191      42.456\n",
      "==============================================================================\n",
      "Omnibus:                       14.721   Durbin-Watson:                   0.870\n",
      "Prob(Omnibus):                  0.001   Jarque-Bera (JB):               16.355\n",
      "Skew:                           1.026   Prob(JB):                     0.000281\n",
      "Kurtosis:                       4.047   Cond. No.                     1.34e+03\n",
      "==============================================================================\n",
      "\n",
      "Notes:\n",
      "[1] Standard Errors assume that the covariance matrix of the errors is correctly specified.\n",
      "[2] The condition number is large, 1.34e+03. This might indicate that there are\n",
      "strong multicollinearity or other numerical problems.\n"
     ]
    }
   ],
   "source": [
    "print(smf.ols('Radiation~Temp',data=Temp_grove).fit().summary())"
   ]
  },
  {
   "cell_type": "code",
   "execution_count": 59,
   "id": "c6bb779b",
   "metadata": {},
   "outputs": [
    {
     "name": "stdout",
     "output_type": "stream",
     "text": [
      "                            OLS Regression Results                            \n",
      "==============================================================================\n",
      "Dep. Variable:                    Rad   R-squared:                       0.186\n",
      "Model:                            OLS   Adj. R-squared:                  0.151\n",
      "Method:                 Least Squares   F-statistic:                     5.331\n",
      "Date:                Wed, 15 Dec 2021   Prob (F-statistic):            0.00229\n",
      "Time:                        16:34:46   Log-Likelihood:                -320.30\n",
      "No. Observations:                  74   AIC:                             648.6\n",
      "Df Residuals:                      70   BIC:                             657.8\n",
      "Df Model:                           3                                         \n",
      "Covariance Type:            nonrobust                                         \n",
      "==============================================================================\n",
      "                 coef    std err          t      P>|t|      [0.025      0.975]\n",
      "------------------------------------------------------------------------------\n",
      "Intercept  -1897.2923    661.028     -2.870      0.005   -3215.671    -578.914\n",
      "Temp          73.7207     21.549      3.421      0.001      30.742     116.699\n",
      "AQ             4.6662      2.890      1.615      0.111      -1.098      10.430\n",
      "Humidity      11.3330      4.882      2.321      0.023       1.596      21.070\n",
      "==============================================================================\n",
      "Omnibus:                        4.304   Durbin-Watson:                   1.020\n",
      "Prob(Omnibus):                  0.116   Jarque-Bera (JB):                4.264\n",
      "Skew:                           0.574   Prob(JB):                        0.119\n",
      "Kurtosis:                       2.742   Cond. No.                     1.89e+04\n",
      "==============================================================================\n",
      "\n",
      "Notes:\n",
      "[1] Standard Errors assume that the covariance matrix of the errors is correctly specified.\n",
      "[2] The condition number is large, 1.89e+04. This might indicate that there are\n",
      "strong multicollinearity or other numerical problems.\n"
     ]
    }
   ],
   "source": [
    "all_grove=pd.DataFrame()\n",
    "all_grove['Temp']=grove_P['Temperature']\n",
    "all_grove['Humidity']=grove_P['Humidity']\n",
    "all_grove['AQ']=grove_AQ['PM 2.5'][0:74]\n",
    "all_grove['Rad']=grove_rad[0:74]\n",
    "print(smf.ols('Rad~Temp+AQ+Humidity+Temp',data=all_grove).fit().summary())"
   ]
  },
  {
   "cell_type": "markdown",
   "id": "35cdbe0e",
   "metadata": {},
   "source": [
    "## Information from the Hill"
   ]
  },
  {
   "cell_type": "code",
   "execution_count": 60,
   "id": "9ed3abdd",
   "metadata": {},
   "outputs": [],
   "source": [
    "## Humidity and Radiation"
   ]
  },
  {
   "cell_type": "code",
   "execution_count": 61,
   "id": "39f77f1d",
   "metadata": {
    "scrolled": true
   },
   "outputs": [
    {
     "data": {
      "text/html": [
       "<div>\n",
       "<style scoped>\n",
       "    .dataframe tbody tr th:only-of-type {\n",
       "        vertical-align: middle;\n",
       "    }\n",
       "\n",
       "    .dataframe tbody tr th {\n",
       "        vertical-align: top;\n",
       "    }\n",
       "\n",
       "    .dataframe thead th {\n",
       "        text-align: right;\n",
       "    }\n",
       "</style>\n",
       "<table border=\"1\" class=\"dataframe\">\n",
       "  <thead>\n",
       "    <tr style=\"text-align: right;\">\n",
       "      <th></th>\n",
       "      <th>Time</th>\n",
       "      <th>Temperature</th>\n",
       "      <th>T Unc.</th>\n",
       "      <th>Humidity</th>\n",
       "      <th>H Unc.</th>\n",
       "      <th>Pressure</th>\n",
       "      <th>P Unc.</th>\n",
       "    </tr>\n",
       "  </thead>\n",
       "  <tbody>\n",
       "    <tr>\n",
       "      <th>0</th>\n",
       "      <td>1.635565e+09</td>\n",
       "      <td>19.383672</td>\n",
       "      <td>0.017473</td>\n",
       "      <td>55.679554</td>\n",
       "      <td>0.664360</td>\n",
       "      <td>0.988981</td>\n",
       "      <td>0.000021</td>\n",
       "    </tr>\n",
       "    <tr>\n",
       "      <th>1</th>\n",
       "      <td>1.635565e+09</td>\n",
       "      <td>19.448789</td>\n",
       "      <td>0.021972</td>\n",
       "      <td>56.215866</td>\n",
       "      <td>0.144584</td>\n",
       "      <td>0.988965</td>\n",
       "      <td>0.000013</td>\n",
       "    </tr>\n",
       "    <tr>\n",
       "      <th>2</th>\n",
       "      <td>1.635565e+09</td>\n",
       "      <td>19.490508</td>\n",
       "      <td>0.012272</td>\n",
       "      <td>56.269130</td>\n",
       "      <td>0.272613</td>\n",
       "      <td>0.988940</td>\n",
       "      <td>0.000014</td>\n",
       "    </tr>\n",
       "    <tr>\n",
       "      <th>3</th>\n",
       "      <td>1.635565e+09</td>\n",
       "      <td>19.468125</td>\n",
       "      <td>0.038863</td>\n",
       "      <td>55.576979</td>\n",
       "      <td>0.714143</td>\n",
       "      <td>0.988862</td>\n",
       "      <td>0.000023</td>\n",
       "    </tr>\n",
       "    <tr>\n",
       "      <th>4</th>\n",
       "      <td>1.635565e+09</td>\n",
       "      <td>19.444727</td>\n",
       "      <td>0.021768</td>\n",
       "      <td>54.225954</td>\n",
       "      <td>0.232121</td>\n",
       "      <td>0.988818</td>\n",
       "      <td>0.000024</td>\n",
       "    </tr>\n",
       "    <tr>\n",
       "      <th>...</th>\n",
       "      <td>...</td>\n",
       "      <td>...</td>\n",
       "      <td>...</td>\n",
       "      <td>...</td>\n",
       "      <td>...</td>\n",
       "      <td>...</td>\n",
       "      <td>...</td>\n",
       "    </tr>\n",
       "    <tr>\n",
       "      <th>69</th>\n",
       "      <td>1.635566e+09</td>\n",
       "      <td>19.802773</td>\n",
       "      <td>0.013477</td>\n",
       "      <td>58.196000</td>\n",
       "      <td>1.043999</td>\n",
       "      <td>0.987480</td>\n",
       "      <td>0.000050</td>\n",
       "    </tr>\n",
       "    <tr>\n",
       "      <th>70</th>\n",
       "      <td>1.635566e+09</td>\n",
       "      <td>19.866875</td>\n",
       "      <td>0.021924</td>\n",
       "      <td>59.260608</td>\n",
       "      <td>0.209106</td>\n",
       "      <td>0.987574</td>\n",
       "      <td>0.000014</td>\n",
       "    </tr>\n",
       "    <tr>\n",
       "      <th>71</th>\n",
       "      <td>1.635566e+09</td>\n",
       "      <td>19.937070</td>\n",
       "      <td>0.023767</td>\n",
       "      <td>58.884413</td>\n",
       "      <td>0.113010</td>\n",
       "      <td>0.987612</td>\n",
       "      <td>0.000016</td>\n",
       "    </tr>\n",
       "    <tr>\n",
       "      <th>72</th>\n",
       "      <td>1.635566e+09</td>\n",
       "      <td>19.996055</td>\n",
       "      <td>0.015200</td>\n",
       "      <td>59.062041</td>\n",
       "      <td>0.594477</td>\n",
       "      <td>0.987664</td>\n",
       "      <td>0.000023</td>\n",
       "    </tr>\n",
       "    <tr>\n",
       "      <th>73</th>\n",
       "      <td>1.635566e+09</td>\n",
       "      <td>20.068359</td>\n",
       "      <td>0.014363</td>\n",
       "      <td>56.425706</td>\n",
       "      <td>0.648023</td>\n",
       "      <td>0.987695</td>\n",
       "      <td>0.000024</td>\n",
       "    </tr>\n",
       "  </tbody>\n",
       "</table>\n",
       "<p>74 rows × 7 columns</p>\n",
       "</div>"
      ],
      "text/plain": [
       "            Time  Temperature    T Unc.   Humidity    H Unc.  Pressure  \\\n",
       "0   1.635565e+09    19.383672  0.017473  55.679554  0.664360  0.988981   \n",
       "1   1.635565e+09    19.448789  0.021972  56.215866  0.144584  0.988965   \n",
       "2   1.635565e+09    19.490508  0.012272  56.269130  0.272613  0.988940   \n",
       "3   1.635565e+09    19.468125  0.038863  55.576979  0.714143  0.988862   \n",
       "4   1.635565e+09    19.444727  0.021768  54.225954  0.232121  0.988818   \n",
       "..           ...          ...       ...        ...       ...       ...   \n",
       "69  1.635566e+09    19.802773  0.013477  58.196000  1.043999  0.987480   \n",
       "70  1.635566e+09    19.866875  0.021924  59.260608  0.209106  0.987574   \n",
       "71  1.635566e+09    19.937070  0.023767  58.884413  0.113010  0.987612   \n",
       "72  1.635566e+09    19.996055  0.015200  59.062041  0.594477  0.987664   \n",
       "73  1.635566e+09    20.068359  0.014363  56.425706  0.648023  0.987695   \n",
       "\n",
       "      P Unc.  \n",
       "0   0.000021  \n",
       "1   0.000013  \n",
       "2   0.000014  \n",
       "3   0.000023  \n",
       "4   0.000024  \n",
       "..       ...  \n",
       "69  0.000050  \n",
       "70  0.000014  \n",
       "71  0.000016  \n",
       "72  0.000023  \n",
       "73  0.000024  \n",
       "\n",
       "[74 rows x 7 columns]"
      ]
     },
     "execution_count": 61,
     "metadata": {},
     "output_type": "execute_result"
    }
   ],
   "source": [
    "hill_P"
   ]
  },
  {
   "cell_type": "code",
   "execution_count": 62,
   "id": "8b9db501",
   "metadata": {
    "scrolled": false
   },
   "outputs": [
    {
     "name": "stderr",
     "output_type": "stream",
     "text": [
      "/opt/anaconda3/lib/python3.8/site-packages/seaborn/_decorators.py:36: FutureWarning: Pass the following variables as keyword args: x, y. From version 0.12, the only valid positional argument will be `data`, and passing other arguments without an explicit keyword will result in an error or misinterpretation.\n",
      "  warnings.warn(\n"
     ]
    },
    {
     "data": {
      "image/png": "[encoded data removed]",
      "text/plain": [
       "<Figure size 432x288 with 1 Axes>"
      ]
     },
     "metadata": {
      "needs_background": "light"
     },
     "output_type": "display_data"
    }
   ],
   "source": [
    "sns.regplot(hill_P['Humidity'],hill_rad[0:len(hill_P)]);\n",
    "plt.title(\"Humidity vs Radiation\");\n",
    "plt.xlabel('Humidity')\n",
    "plt.ylabel('Radiation Counts');"
   ]
  },
  {
   "cell_type": "code",
   "execution_count": 63,
   "id": "5c945886",
   "metadata": {},
   "outputs": [
    {
     "name": "stderr",
     "output_type": "stream",
     "text": [
      "/opt/anaconda3/lib/python3.8/site-packages/seaborn/_decorators.py:36: FutureWarning: Pass the following variables as keyword args: x, y. From version 0.12, the only valid positional argument will be `data`, and passing other arguments without an explicit keyword will result in an error or misinterpretation.\n",
      "  warnings.warn(\n"
     ]
    },
    {
     "data": {
      "image/png": "[encoded data removed]",
      "text/plain": [
       "<Figure size 432x288 with 1 Axes>"
      ]
     },
     "metadata": {
      "needs_background": "light"
     },
     "output_type": "display_data"
    }
   ],
   "source": [
    "sns.residplot(hill_P['Humidity'],hill_rad[0:len(hill_P)]);\n",
    "plt.title(\"Humidity vs Radiation Residuals Plot\");\n",
    "plt.xlabel('Humidity')\n",
    "plt.ylabel('Radiation Counts');"
   ]
  },
  {
   "cell_type": "code",
   "execution_count": 64,
   "id": "d75fb041",
   "metadata": {},
   "outputs": [],
   "source": [
    "## I make a new dataframe with the arrays from plt.scatter so I can use the smf.ols package to calculate correlation\n",
    "humidity_hill=pd.DataFrame()\n",
    "humidity_hill['Humidity']=hill_P['Humidity']\n",
    "humidity_hill['Radiation']=hill_rad[0:74]"
   ]
  },
  {
   "cell_type": "code",
   "execution_count": 65,
   "id": "3c72d83e",
   "metadata": {
    "scrolled": false
   },
   "outputs": [
    {
     "name": "stdout",
     "output_type": "stream",
     "text": [
      "                            OLS Regression Results                            \n",
      "==============================================================================\n",
      "Dep. Variable:              Radiation   R-squared:                       0.039\n",
      "Model:                            OLS   Adj. R-squared:                  0.025\n",
      "Method:                 Least Squares   F-statistic:                     2.899\n",
      "Date:                Wed, 15 Dec 2021   Prob (F-statistic):             0.0930\n",
      "Time:                        16:34:46   Log-Likelihood:                -302.06\n",
      "No. Observations:                  74   AIC:                             608.1\n",
      "Df Residuals:                      72   BIC:                             612.7\n",
      "Df Model:                           1                                         \n",
      "Covariance Type:            nonrobust                                         \n",
      "==============================================================================\n",
      "                 coef    std err          t      P>|t|      [0.025      0.975]\n",
      "------------------------------------------------------------------------------\n",
      "Intercept    297.6233     57.038      5.218      0.000     183.921     411.326\n",
      "Humidity      -1.8077      1.062     -1.703      0.093      -3.924       0.309\n",
      "==============================================================================\n",
      "Omnibus:                        3.633   Durbin-Watson:                   1.796\n",
      "Prob(Omnibus):                  0.163   Jarque-Bera (JB):                3.418\n",
      "Skew:                           0.204   Prob(JB):                        0.181\n",
      "Kurtosis:                       3.971   Cond. No.                     1.81e+03\n",
      "==============================================================================\n",
      "\n",
      "Notes:\n",
      "[1] Standard Errors assume that the covariance matrix of the errors is correctly specified.\n",
      "[2] The condition number is large, 1.81e+03. This might indicate that there are\n",
      "strong multicollinearity or other numerical problems.\n"
     ]
    }
   ],
   "source": [
    "## I use this package to determine correlation (R-squared)\n",
    "print(smf.ols('Radiation~Humidity',data=humidity_hill).fit().summary())"
   ]
  },
  {
   "cell_type": "code",
   "execution_count": 66,
   "id": "d035cffc",
   "metadata": {},
   "outputs": [],
   "source": [
    "## Radiation and Air Quality"
   ]
  },
  {
   "cell_type": "code",
   "execution_count": 67,
   "id": "96a56c9d",
   "metadata": {
    "scrolled": true
   },
   "outputs": [
    {
     "data": {
      "text/html": [
       "<div>\n",
       "<style scoped>\n",
       "    .dataframe tbody tr th:only-of-type {\n",
       "        vertical-align: middle;\n",
       "    }\n",
       "\n",
       "    .dataframe tbody tr th {\n",
       "        vertical-align: top;\n",
       "    }\n",
       "\n",
       "    .dataframe thead th {\n",
       "        text-align: right;\n",
       "    }\n",
       "</style>\n",
       "<table border=\"1\" class=\"dataframe\">\n",
       "  <thead>\n",
       "    <tr style=\"text-align: right;\">\n",
       "      <th></th>\n",
       "      <th>Time</th>\n",
       "      <th>PM 1.0</th>\n",
       "      <th>Unc 1.0</th>\n",
       "      <th>PM 2.5</th>\n",
       "      <th>Unc 2.5</th>\n",
       "      <th>PM 10</th>\n",
       "      <th>Unc. 10</th>\n",
       "    </tr>\n",
       "  </thead>\n",
       "  <tbody>\n",
       "    <tr>\n",
       "      <th>0</th>\n",
       "      <td>1.635565e+09</td>\n",
       "      <td>9.0</td>\n",
       "      <td>0.0</td>\n",
       "      <td>13.0</td>\n",
       "      <td>0.0</td>\n",
       "      <td>16.0</td>\n",
       "      <td>0.000000</td>\n",
       "    </tr>\n",
       "    <tr>\n",
       "      <th>1</th>\n",
       "      <td>1.635565e+09</td>\n",
       "      <td>9.0</td>\n",
       "      <td>0.0</td>\n",
       "      <td>13.0</td>\n",
       "      <td>0.0</td>\n",
       "      <td>16.2</td>\n",
       "      <td>0.400000</td>\n",
       "    </tr>\n",
       "    <tr>\n",
       "      <th>2</th>\n",
       "      <td>1.635565e+09</td>\n",
       "      <td>9.0</td>\n",
       "      <td>0.0</td>\n",
       "      <td>13.0</td>\n",
       "      <td>0.0</td>\n",
       "      <td>16.0</td>\n",
       "      <td>0.000000</td>\n",
       "    </tr>\n",
       "    <tr>\n",
       "      <th>3</th>\n",
       "      <td>1.635565e+09</td>\n",
       "      <td>9.0</td>\n",
       "      <td>0.0</td>\n",
       "      <td>13.0</td>\n",
       "      <td>0.0</td>\n",
       "      <td>16.6</td>\n",
       "      <td>0.489898</td>\n",
       "    </tr>\n",
       "    <tr>\n",
       "      <th>4</th>\n",
       "      <td>1.635565e+09</td>\n",
       "      <td>9.0</td>\n",
       "      <td>0.0</td>\n",
       "      <td>13.0</td>\n",
       "      <td>0.0</td>\n",
       "      <td>16.0</td>\n",
       "      <td>0.632456</td>\n",
       "    </tr>\n",
       "    <tr>\n",
       "      <th>...</th>\n",
       "      <td>...</td>\n",
       "      <td>...</td>\n",
       "      <td>...</td>\n",
       "      <td>...</td>\n",
       "      <td>...</td>\n",
       "      <td>...</td>\n",
       "      <td>...</td>\n",
       "    </tr>\n",
       "    <tr>\n",
       "      <th>109</th>\n",
       "      <td>1.635566e+09</td>\n",
       "      <td>9.0</td>\n",
       "      <td>0.0</td>\n",
       "      <td>13.0</td>\n",
       "      <td>0.0</td>\n",
       "      <td>16.0</td>\n",
       "      <td>0.000000</td>\n",
       "    </tr>\n",
       "    <tr>\n",
       "      <th>110</th>\n",
       "      <td>1.635566e+09</td>\n",
       "      <td>9.0</td>\n",
       "      <td>0.0</td>\n",
       "      <td>12.0</td>\n",
       "      <td>0.0</td>\n",
       "      <td>16.0</td>\n",
       "      <td>0.000000</td>\n",
       "    </tr>\n",
       "    <tr>\n",
       "      <th>111</th>\n",
       "      <td>1.635566e+09</td>\n",
       "      <td>9.0</td>\n",
       "      <td>0.0</td>\n",
       "      <td>12.0</td>\n",
       "      <td>0.0</td>\n",
       "      <td>15.4</td>\n",
       "      <td>0.489898</td>\n",
       "    </tr>\n",
       "    <tr>\n",
       "      <th>112</th>\n",
       "      <td>1.635566e+09</td>\n",
       "      <td>9.0</td>\n",
       "      <td>0.0</td>\n",
       "      <td>12.0</td>\n",
       "      <td>0.0</td>\n",
       "      <td>16.0</td>\n",
       "      <td>0.000000</td>\n",
       "    </tr>\n",
       "    <tr>\n",
       "      <th>113</th>\n",
       "      <td>1.635566e+09</td>\n",
       "      <td>9.0</td>\n",
       "      <td>0.0</td>\n",
       "      <td>12.0</td>\n",
       "      <td>0.0</td>\n",
       "      <td>16.4</td>\n",
       "      <td>0.489898</td>\n",
       "    </tr>\n",
       "  </tbody>\n",
       "</table>\n",
       "<p>114 rows × 7 columns</p>\n",
       "</div>"
      ],
      "text/plain": [
       "             Time  PM 1.0  Unc 1.0  PM 2.5  Unc 2.5  PM 10   Unc. 10\n",
       "0    1.635565e+09     9.0      0.0    13.0      0.0   16.0  0.000000\n",
       "1    1.635565e+09     9.0      0.0    13.0      0.0   16.2  0.400000\n",
       "2    1.635565e+09     9.0      0.0    13.0      0.0   16.0  0.000000\n",
       "3    1.635565e+09     9.0      0.0    13.0      0.0   16.6  0.489898\n",
       "4    1.635565e+09     9.0      0.0    13.0      0.0   16.0  0.632456\n",
       "..            ...     ...      ...     ...      ...    ...       ...\n",
       "109  1.635566e+09     9.0      0.0    13.0      0.0   16.0  0.000000\n",
       "110  1.635566e+09     9.0      0.0    12.0      0.0   16.0  0.000000\n",
       "111  1.635566e+09     9.0      0.0    12.0      0.0   15.4  0.489898\n",
       "112  1.635566e+09     9.0      0.0    12.0      0.0   16.0  0.000000\n",
       "113  1.635566e+09     9.0      0.0    12.0      0.0   16.4  0.489898\n",
       "\n",
       "[114 rows x 7 columns]"
      ]
     },
     "execution_count": 67,
     "metadata": {},
     "output_type": "execute_result"
    }
   ],
   "source": [
    "hill_AQ"
   ]
  },
  {
   "cell_type": "code",
   "execution_count": 68,
   "id": "3f3f347a",
   "metadata": {
    "scrolled": false
   },
   "outputs": [
    {
     "name": "stderr",
     "output_type": "stream",
     "text": [
      "/opt/anaconda3/lib/python3.8/site-packages/seaborn/_decorators.py:36: FutureWarning: Pass the following variables as keyword args: x, y. From version 0.12, the only valid positional argument will be `data`, and passing other arguments without an explicit keyword will result in an error or misinterpretation.\n",
      "  warnings.warn(\n"
     ]
    },
    {
     "data": {
      "image/png": "[encoded data removed]",
      "text/plain": [
       "<Figure size 432x288 with 1 Axes>"
      ]
     },
     "metadata": {
      "needs_background": "light"
     },
     "output_type": "display_data"
    }
   ],
   "source": [
    "sns.regplot(hill_AQ['PM 2.5'],hill_rad[0:len(hill_AQ)]);\n",
    "plt.title(\"PM 2.5 vs Radiation\");\n",
    "plt.xlabel('PM 2.5')\n",
    "plt.ylabel('Radiation');"
   ]
  },
  {
   "cell_type": "code",
   "execution_count": 69,
   "id": "d33eda1f",
   "metadata": {},
   "outputs": [
    {
     "name": "stderr",
     "output_type": "stream",
     "text": [
      "/opt/anaconda3/lib/python3.8/site-packages/seaborn/_decorators.py:36: FutureWarning: Pass the following variables as keyword args: x, y. From version 0.12, the only valid positional argument will be `data`, and passing other arguments without an explicit keyword will result in an error or misinterpretation.\n",
      "  warnings.warn(\n"
     ]
    },
    {
     "data": {
      "image/png": "[encoded data removed]",
      "text/plain": [
       "<Figure size 432x288 with 1 Axes>"
      ]
     },
     "metadata": {
      "needs_background": "light"
     },
     "output_type": "display_data"
    }
   ],
   "source": [
    "sns.residplot(hill_AQ['PM 2.5'],hill_rad[0:len(hill_AQ)]);\n",
    "plt.title(\"PM 2.5 vs Radiation Residuals Plot\");\n",
    "plt.xlabel('PM 2.5')\n",
    "plt.ylabel('Radiation Counts');"
   ]
  },
  {
   "cell_type": "code",
   "execution_count": 70,
   "id": "ef3a2c8b",
   "metadata": {},
   "outputs": [],
   "source": [
    "AQ_hill=pd.DataFrame()\n",
    "AQ_hill['AQ']=hill_AQ['PM 2.5']\n",
    "AQ_hill['Radiation']=hill_rad[0:len(hill_AQ)]"
   ]
  },
  {
   "cell_type": "code",
   "execution_count": 71,
   "id": "a0716b4b",
   "metadata": {
    "scrolled": false
   },
   "outputs": [
    {
     "name": "stdout",
     "output_type": "stream",
     "text": [
      "                            OLS Regression Results                            \n",
      "==============================================================================\n",
      "Dep. Variable:              Radiation   R-squared:                       0.009\n",
      "Model:                            OLS   Adj. R-squared:                 -0.000\n",
      "Method:                 Least Squares   F-statistic:                    0.9750\n",
      "Date:                Wed, 15 Dec 2021   Prob (F-statistic):              0.326\n",
      "Time:                        16:34:46   Log-Likelihood:                -468.67\n",
      "No. Observations:                 114   AIC:                             941.3\n",
      "Df Residuals:                     112   BIC:                             946.8\n",
      "Df Model:                           1                                         \n",
      "Covariance Type:            nonrobust                                         \n",
      "==============================================================================\n",
      "                 coef    std err          t      P>|t|      [0.025      0.975]\n",
      "------------------------------------------------------------------------------\n",
      "Intercept    217.2064     17.977     12.082      0.000     181.587     252.826\n",
      "AQ            -1.3277      1.345     -0.987      0.326      -3.992       1.336\n",
      "==============================================================================\n",
      "Omnibus:                        3.045   Durbin-Watson:                   1.580\n",
      "Prob(Omnibus):                  0.218   Jarque-Bera (JB):                2.710\n",
      "Skew:                          -0.191   Prob(JB):                        0.258\n",
      "Kurtosis:                       3.652   Cond. No.                         173.\n",
      "==============================================================================\n",
      "\n",
      "Notes:\n",
      "[1] Standard Errors assume that the covariance matrix of the errors is correctly specified.\n"
     ]
    }
   ],
   "source": [
    "print(smf.ols('Radiation~AQ',data=AQ_hill).fit().summary())"
   ]
  },
  {
   "cell_type": "code",
   "execution_count": 72,
   "id": "360f192c",
   "metadata": {},
   "outputs": [],
   "source": [
    "## Radiation and Temperature"
   ]
  },
  {
   "cell_type": "code",
   "execution_count": 73,
   "id": "a549f73b",
   "metadata": {
    "scrolled": true
   },
   "outputs": [
    {
     "data": {
      "text/html": [
       "<div>\n",
       "<style scoped>\n",
       "    .dataframe tbody tr th:only-of-type {\n",
       "        vertical-align: middle;\n",
       "    }\n",
       "\n",
       "    .dataframe tbody tr th {\n",
       "        vertical-align: top;\n",
       "    }\n",
       "\n",
       "    .dataframe thead th {\n",
       "        text-align: right;\n",
       "    }\n",
       "</style>\n",
       "<table border=\"1\" class=\"dataframe\">\n",
       "  <thead>\n",
       "    <tr style=\"text-align: right;\">\n",
       "      <th></th>\n",
       "      <th>Time</th>\n",
       "      <th>Temperature</th>\n",
       "      <th>T Unc.</th>\n",
       "      <th>Humidity</th>\n",
       "      <th>H Unc.</th>\n",
       "      <th>Pressure</th>\n",
       "      <th>P Unc.</th>\n",
       "    </tr>\n",
       "  </thead>\n",
       "  <tbody>\n",
       "    <tr>\n",
       "      <th>0</th>\n",
       "      <td>1.635565e+09</td>\n",
       "      <td>19.383672</td>\n",
       "      <td>0.017473</td>\n",
       "      <td>55.679554</td>\n",
       "      <td>0.664360</td>\n",
       "      <td>0.988981</td>\n",
       "      <td>0.000021</td>\n",
       "    </tr>\n",
       "    <tr>\n",
       "      <th>1</th>\n",
       "      <td>1.635565e+09</td>\n",
       "      <td>19.448789</td>\n",
       "      <td>0.021972</td>\n",
       "      <td>56.215866</td>\n",
       "      <td>0.144584</td>\n",
       "      <td>0.988965</td>\n",
       "      <td>0.000013</td>\n",
       "    </tr>\n",
       "    <tr>\n",
       "      <th>2</th>\n",
       "      <td>1.635565e+09</td>\n",
       "      <td>19.490508</td>\n",
       "      <td>0.012272</td>\n",
       "      <td>56.269130</td>\n",
       "      <td>0.272613</td>\n",
       "      <td>0.988940</td>\n",
       "      <td>0.000014</td>\n",
       "    </tr>\n",
       "    <tr>\n",
       "      <th>3</th>\n",
       "      <td>1.635565e+09</td>\n",
       "      <td>19.468125</td>\n",
       "      <td>0.038863</td>\n",
       "      <td>55.576979</td>\n",
       "      <td>0.714143</td>\n",
       "      <td>0.988862</td>\n",
       "      <td>0.000023</td>\n",
       "    </tr>\n",
       "    <tr>\n",
       "      <th>4</th>\n",
       "      <td>1.635565e+09</td>\n",
       "      <td>19.444727</td>\n",
       "      <td>0.021768</td>\n",
       "      <td>54.225954</td>\n",
       "      <td>0.232121</td>\n",
       "      <td>0.988818</td>\n",
       "      <td>0.000024</td>\n",
       "    </tr>\n",
       "    <tr>\n",
       "      <th>...</th>\n",
       "      <td>...</td>\n",
       "      <td>...</td>\n",
       "      <td>...</td>\n",
       "      <td>...</td>\n",
       "      <td>...</td>\n",
       "      <td>...</td>\n",
       "      <td>...</td>\n",
       "    </tr>\n",
       "    <tr>\n",
       "      <th>69</th>\n",
       "      <td>1.635566e+09</td>\n",
       "      <td>19.802773</td>\n",
       "      <td>0.013477</td>\n",
       "      <td>58.196000</td>\n",
       "      <td>1.043999</td>\n",
       "      <td>0.987480</td>\n",
       "      <td>0.000050</td>\n",
       "    </tr>\n",
       "    <tr>\n",
       "      <th>70</th>\n",
       "      <td>1.635566e+09</td>\n",
       "      <td>19.866875</td>\n",
       "      <td>0.021924</td>\n",
       "      <td>59.260608</td>\n",
       "      <td>0.209106</td>\n",
       "      <td>0.987574</td>\n",
       "      <td>0.000014</td>\n",
       "    </tr>\n",
       "    <tr>\n",
       "      <th>71</th>\n",
       "      <td>1.635566e+09</td>\n",
       "      <td>19.937070</td>\n",
       "      <td>0.023767</td>\n",
       "      <td>58.884413</td>\n",
       "      <td>0.113010</td>\n",
       "      <td>0.987612</td>\n",
       "      <td>0.000016</td>\n",
       "    </tr>\n",
       "    <tr>\n",
       "      <th>72</th>\n",
       "      <td>1.635566e+09</td>\n",
       "      <td>19.996055</td>\n",
       "      <td>0.015200</td>\n",
       "      <td>59.062041</td>\n",
       "      <td>0.594477</td>\n",
       "      <td>0.987664</td>\n",
       "      <td>0.000023</td>\n",
       "    </tr>\n",
       "    <tr>\n",
       "      <th>73</th>\n",
       "      <td>1.635566e+09</td>\n",
       "      <td>20.068359</td>\n",
       "      <td>0.014363</td>\n",
       "      <td>56.425706</td>\n",
       "      <td>0.648023</td>\n",
       "      <td>0.987695</td>\n",
       "      <td>0.000024</td>\n",
       "    </tr>\n",
       "  </tbody>\n",
       "</table>\n",
       "<p>74 rows × 7 columns</p>\n",
       "</div>"
      ],
      "text/plain": [
       "            Time  Temperature    T Unc.   Humidity    H Unc.  Pressure  \\\n",
       "0   1.635565e+09    19.383672  0.017473  55.679554  0.664360  0.988981   \n",
       "1   1.635565e+09    19.448789  0.021972  56.215866  0.144584  0.988965   \n",
       "2   1.635565e+09    19.490508  0.012272  56.269130  0.272613  0.988940   \n",
       "3   1.635565e+09    19.468125  0.038863  55.576979  0.714143  0.988862   \n",
       "4   1.635565e+09    19.444727  0.021768  54.225954  0.232121  0.988818   \n",
       "..           ...          ...       ...        ...       ...       ...   \n",
       "69  1.635566e+09    19.802773  0.013477  58.196000  1.043999  0.987480   \n",
       "70  1.635566e+09    19.866875  0.021924  59.260608  0.209106  0.987574   \n",
       "71  1.635566e+09    19.937070  0.023767  58.884413  0.113010  0.987612   \n",
       "72  1.635566e+09    19.996055  0.015200  59.062041  0.594477  0.987664   \n",
       "73  1.635566e+09    20.068359  0.014363  56.425706  0.648023  0.987695   \n",
       "\n",
       "      P Unc.  \n",
       "0   0.000021  \n",
       "1   0.000013  \n",
       "2   0.000014  \n",
       "3   0.000023  \n",
       "4   0.000024  \n",
       "..       ...  \n",
       "69  0.000050  \n",
       "70  0.000014  \n",
       "71  0.000016  \n",
       "72  0.000023  \n",
       "73  0.000024  \n",
       "\n",
       "[74 rows x 7 columns]"
      ]
     },
     "execution_count": 73,
     "metadata": {},
     "output_type": "execute_result"
    }
   ],
   "source": [
    "hill_P"
   ]
  },
  {
   "cell_type": "code",
   "execution_count": 74,
   "id": "bbc84b8f",
   "metadata": {
    "scrolled": false
   },
   "outputs": [
    {
     "name": "stderr",
     "output_type": "stream",
     "text": [
      "/opt/anaconda3/lib/python3.8/site-packages/seaborn/_decorators.py:36: FutureWarning: Pass the following variables as keyword args: x, y. From version 0.12, the only valid positional argument will be `data`, and passing other arguments without an explicit keyword will result in an error or misinterpretation.\n",
      "  warnings.warn(\n"
     ]
    },
    {
     "data": {
      "image/png": "[encoded data removed]",
      "text/plain": [
       "<Figure size 432x288 with 1 Axes>"
      ]
     },
     "metadata": {
      "needs_background": "light"
     },
     "output_type": "display_data"
    }
   ],
   "source": [
    "sns.regplot(hill_P['Temperature'],hill_rad[0:len(hill_P)]);\n",
    "plt.title(\"Temperature vs Radiation\");\n",
    "plt.xlabel('Temperature')\n",
    "plt.ylabel('Radiation');"
   ]
  },
  {
   "cell_type": "code",
   "execution_count": 75,
   "id": "5ded7b72",
   "metadata": {},
   "outputs": [
    {
     "name": "stderr",
     "output_type": "stream",
     "text": [
      "/opt/anaconda3/lib/python3.8/site-packages/seaborn/_decorators.py:36: FutureWarning: Pass the following variables as keyword args: x, y. From version 0.12, the only valid positional argument will be `data`, and passing other arguments without an explicit keyword will result in an error or misinterpretation.\n",
      "  warnings.warn(\n"
     ]
    },
    {
     "data": {
      "image/png": "[encoded data removed]",
      "text/plain": [
       "<Figure size 432x288 with 1 Axes>"
      ]
     },
     "metadata": {
      "needs_background": "light"
     },
     "output_type": "display_data"
    }
   ],
   "source": [
    "sns.residplot(hill_P['Temperature'],hill_rad[0:len(hill_P)]);\n",
    "plt.title(\"Temperature vs Radiation Residuals Plot\");\n",
    "plt.xlabel('Temperature')\n",
    "plt.ylabel('Radiation Counts');"
   ]
  },
  {
   "cell_type": "code",
   "execution_count": 76,
   "id": "73b5f9b6",
   "metadata": {},
   "outputs": [],
   "source": [
    "Temp_hill=pd.DataFrame()\n",
    "Temp_hill['Temp']=hill_P['Temperature']\n",
    "Temp_hill['Radiation']=hill_rad[0:len(hill_P)]"
   ]
  },
  {
   "cell_type": "code",
   "execution_count": 77,
   "id": "aa0e38e8",
   "metadata": {
    "scrolled": false
   },
   "outputs": [
    {
     "name": "stdout",
     "output_type": "stream",
     "text": [
      "                            OLS Regression Results                            \n",
      "==============================================================================\n",
      "Dep. Variable:              Radiation   R-squared:                       0.025\n",
      "Model:                            OLS   Adj. R-squared:                  0.011\n",
      "Method:                 Least Squares   F-statistic:                     1.819\n",
      "Date:                Wed, 15 Dec 2021   Prob (F-statistic):              0.182\n",
      "Time:                        16:34:47   Log-Likelihood:                -302.60\n",
      "No. Observations:                  74   AIC:                             609.2\n",
      "Df Residuals:                      72   BIC:                             613.8\n",
      "Df Model:                           1                                         \n",
      "Covariance Type:            nonrobust                                         \n",
      "==============================================================================\n",
      "                 coef    std err          t      P>|t|      [0.025      0.975]\n",
      "------------------------------------------------------------------------------\n",
      "Intercept    352.9880    113.036      3.123      0.003     127.655     578.321\n",
      "Temp          -7.8882      5.849     -1.349      0.182     -19.548       3.771\n",
      "==============================================================================\n",
      "Omnibus:                        2.116   Durbin-Watson:                   1.780\n",
      "Prob(Omnibus):                  0.347   Jarque-Bera (JB):                1.490\n",
      "Skew:                           0.135   Prob(JB):                        0.475\n",
      "Kurtosis:                       3.640   Cond. No.                     1.29e+03\n",
      "==============================================================================\n",
      "\n",
      "Notes:\n",
      "[1] Standard Errors assume that the covariance matrix of the errors is correctly specified.\n",
      "[2] The condition number is large, 1.29e+03. This might indicate that there are\n",
      "strong multicollinearity or other numerical problems.\n"
     ]
    }
   ],
   "source": [
    "print(smf.ols('Radiation~Temp',data=Temp_hill).fit().summary())"
   ]
  },
  {
   "cell_type": "code",
   "execution_count": 78,
   "id": "e8350a8d",
   "metadata": {},
   "outputs": [
    {
     "name": "stdout",
     "output_type": "stream",
     "text": [
      "                            OLS Regression Results                            \n",
      "==============================================================================\n",
      "Dep. Variable:                    Rad   R-squared:                       0.057\n",
      "Model:                            OLS   Adj. R-squared:                  0.016\n",
      "Method:                 Least Squares   F-statistic:                     1.401\n",
      "Date:                Wed, 15 Dec 2021   Prob (F-statistic):              0.250\n",
      "Time:                        16:34:47   Log-Likelihood:                -301.37\n",
      "No. Observations:                  74   AIC:                             610.7\n",
      "Df Residuals:                      70   BIC:                             619.9\n",
      "Df Model:                           3                                         \n",
      "Covariance Type:            nonrobust                                         \n",
      "==============================================================================\n",
      "                 coef    std err          t      P>|t|      [0.025      0.975]\n",
      "------------------------------------------------------------------------------\n",
      "Intercept    342.9561    121.882      2.814      0.006      99.871     586.041\n",
      "Temp          -1.7485      7.405     -0.236      0.814     -16.516      13.019\n",
      "AQ            -1.4171      1.722     -0.823      0.413      -4.852       2.018\n",
      "Humidity      -1.6654      1.160     -1.436      0.156      -3.979       0.648\n",
      "==============================================================================\n",
      "Omnibus:                        2.356   Durbin-Watson:                   1.795\n",
      "Prob(Omnibus):                  0.308   Jarque-Bera (JB):                1.856\n",
      "Skew:                           0.071   Prob(JB):                        0.395\n",
      "Kurtosis:                       3.763   Cond. No.                     4.22e+03\n",
      "==============================================================================\n",
      "\n",
      "Notes:\n",
      "[1] Standard Errors assume that the covariance matrix of the errors is correctly specified.\n",
      "[2] The condition number is large, 4.22e+03. This might indicate that there are\n",
      "strong multicollinearity or other numerical problems.\n"
     ]
    }
   ],
   "source": [
    "all_Hill=pd.DataFrame()\n",
    "all_Hill['Temp']=hill_P['Temperature']\n",
    "all_Hill['Humidity']=hill_P['Humidity']\n",
    "all_Hill['AQ']=hill_AQ['PM 2.5'][0:74]\n",
    "all_Hill['Rad']=hill_rad[0:74]\n",
    "print(smf.ols('Rad~Temp+AQ+Humidity+Temp',data=all_Hill).fit().summary())"
   ]
  },
  {
   "cell_type": "markdown",
   "id": "b2a53c09",
   "metadata": {},
   "source": [
    "## Information from Li Ka Shing"
   ]
  },
  {
   "cell_type": "code",
   "execution_count": 79,
   "id": "8bc5540e",
   "metadata": {},
   "outputs": [],
   "source": [
    "## Humidity and Radiation"
   ]
  },
  {
   "cell_type": "code",
   "execution_count": 80,
   "id": "42f7f54e",
   "metadata": {
    "scrolled": true
   },
   "outputs": [
    {
     "data": {
      "text/html": [
       "<div>\n",
       "<style scoped>\n",
       "    .dataframe tbody tr th:only-of-type {\n",
       "        vertical-align: middle;\n",
       "    }\n",
       "\n",
       "    .dataframe tbody tr th {\n",
       "        vertical-align: top;\n",
       "    }\n",
       "\n",
       "    .dataframe thead th {\n",
       "        text-align: right;\n",
       "    }\n",
       "</style>\n",
       "<table border=\"1\" class=\"dataframe\">\n",
       "  <thead>\n",
       "    <tr style=\"text-align: right;\">\n",
       "      <th></th>\n",
       "      <th>Time</th>\n",
       "      <th>Temperature</th>\n",
       "      <th>T Unc.</th>\n",
       "      <th>Humidity</th>\n",
       "      <th>H Unc.</th>\n",
       "      <th>Pressure</th>\n",
       "      <th>P Unc.</th>\n",
       "    </tr>\n",
       "  </thead>\n",
       "  <tbody>\n",
       "    <tr>\n",
       "      <th>0</th>\n",
       "      <td>1.635566e+09</td>\n",
       "      <td>17.442734</td>\n",
       "      <td>0.017708</td>\n",
       "      <td>61.384606</td>\n",
       "      <td>0.167918</td>\n",
       "      <td>0.997139</td>\n",
       "      <td>0.000011</td>\n",
       "    </tr>\n",
       "    <tr>\n",
       "      <th>1</th>\n",
       "      <td>1.635566e+09</td>\n",
       "      <td>17.477344</td>\n",
       "      <td>0.011026</td>\n",
       "      <td>62.192665</td>\n",
       "      <td>0.365659</td>\n",
       "      <td>0.997115</td>\n",
       "      <td>0.000014</td>\n",
       "    </tr>\n",
       "    <tr>\n",
       "      <th>2</th>\n",
       "      <td>1.635566e+09</td>\n",
       "      <td>17.489609</td>\n",
       "      <td>0.007943</td>\n",
       "      <td>62.726298</td>\n",
       "      <td>0.258730</td>\n",
       "      <td>0.997121</td>\n",
       "      <td>0.000016</td>\n",
       "    </tr>\n",
       "    <tr>\n",
       "      <th>3</th>\n",
       "      <td>1.635566e+09</td>\n",
       "      <td>17.474297</td>\n",
       "      <td>0.018245</td>\n",
       "      <td>61.446045</td>\n",
       "      <td>0.406065</td>\n",
       "      <td>0.997092</td>\n",
       "      <td>0.000019</td>\n",
       "    </tr>\n",
       "    <tr>\n",
       "      <th>4</th>\n",
       "      <td>1.635566e+09</td>\n",
       "      <td>17.489570</td>\n",
       "      <td>0.013332</td>\n",
       "      <td>60.734414</td>\n",
       "      <td>0.125753</td>\n",
       "      <td>0.997089</td>\n",
       "      <td>0.000016</td>\n",
       "    </tr>\n",
       "    <tr>\n",
       "      <th>...</th>\n",
       "      <td>...</td>\n",
       "      <td>...</td>\n",
       "      <td>...</td>\n",
       "      <td>...</td>\n",
       "      <td>...</td>\n",
       "      <td>...</td>\n",
       "      <td>...</td>\n",
       "    </tr>\n",
       "    <tr>\n",
       "      <th>69</th>\n",
       "      <td>1.635567e+09</td>\n",
       "      <td>17.793711</td>\n",
       "      <td>0.027888</td>\n",
       "      <td>59.000688</td>\n",
       "      <td>0.054848</td>\n",
       "      <td>0.998446</td>\n",
       "      <td>0.000040</td>\n",
       "    </tr>\n",
       "    <tr>\n",
       "      <th>70</th>\n",
       "      <td>1.635567e+09</td>\n",
       "      <td>17.825234</td>\n",
       "      <td>0.024926</td>\n",
       "      <td>59.147380</td>\n",
       "      <td>0.119103</td>\n",
       "      <td>0.998418</td>\n",
       "      <td>0.000034</td>\n",
       "    </tr>\n",
       "    <tr>\n",
       "      <th>71</th>\n",
       "      <td>1.635567e+09</td>\n",
       "      <td>17.858828</td>\n",
       "      <td>0.032624</td>\n",
       "      <td>59.291388</td>\n",
       "      <td>0.220559</td>\n",
       "      <td>0.998375</td>\n",
       "      <td>0.000016</td>\n",
       "    </tr>\n",
       "    <tr>\n",
       "      <th>72</th>\n",
       "      <td>1.635567e+09</td>\n",
       "      <td>17.941172</td>\n",
       "      <td>0.023905</td>\n",
       "      <td>58.560460</td>\n",
       "      <td>0.111295</td>\n",
       "      <td>0.998351</td>\n",
       "      <td>0.000020</td>\n",
       "    </tr>\n",
       "    <tr>\n",
       "      <th>73</th>\n",
       "      <td>1.635567e+09</td>\n",
       "      <td>18.040898</td>\n",
       "      <td>0.027176</td>\n",
       "      <td>58.415067</td>\n",
       "      <td>0.204142</td>\n",
       "      <td>0.998346</td>\n",
       "      <td>0.000016</td>\n",
       "    </tr>\n",
       "  </tbody>\n",
       "</table>\n",
       "<p>74 rows × 7 columns</p>\n",
       "</div>"
      ],
      "text/plain": [
       "            Time  Temperature    T Unc.   Humidity    H Unc.  Pressure  \\\n",
       "0   1.635566e+09    17.442734  0.017708  61.384606  0.167918  0.997139   \n",
       "1   1.635566e+09    17.477344  0.011026  62.192665  0.365659  0.997115   \n",
       "2   1.635566e+09    17.489609  0.007943  62.726298  0.258730  0.997121   \n",
       "3   1.635566e+09    17.474297  0.018245  61.446045  0.406065  0.997092   \n",
       "4   1.635566e+09    17.489570  0.013332  60.734414  0.125753  0.997089   \n",
       "..           ...          ...       ...        ...       ...       ...   \n",
       "69  1.635567e+09    17.793711  0.027888  59.000688  0.054848  0.998446   \n",
       "70  1.635567e+09    17.825234  0.024926  59.147380  0.119103  0.998418   \n",
       "71  1.635567e+09    17.858828  0.032624  59.291388  0.220559  0.998375   \n",
       "72  1.635567e+09    17.941172  0.023905  58.560460  0.111295  0.998351   \n",
       "73  1.635567e+09    18.040898  0.027176  58.415067  0.204142  0.998346   \n",
       "\n",
       "      P Unc.  \n",
       "0   0.000011  \n",
       "1   0.000014  \n",
       "2   0.000016  \n",
       "3   0.000019  \n",
       "4   0.000016  \n",
       "..       ...  \n",
       "69  0.000040  \n",
       "70  0.000034  \n",
       "71  0.000016  \n",
       "72  0.000020  \n",
       "73  0.000016  \n",
       "\n",
       "[74 rows x 7 columns]"
      ]
     },
     "execution_count": 80,
     "metadata": {},
     "output_type": "execute_result"
    }
   ],
   "source": [
    "lika_P"
   ]
  },
  {
   "cell_type": "code",
   "execution_count": 81,
   "id": "bb799722",
   "metadata": {
    "scrolled": false
   },
   "outputs": [
    {
     "name": "stderr",
     "output_type": "stream",
     "text": [
      "/opt/anaconda3/lib/python3.8/site-packages/seaborn/_decorators.py:36: FutureWarning: Pass the following variables as keyword args: x, y. From version 0.12, the only valid positional argument will be `data`, and passing other arguments without an explicit keyword will result in an error or misinterpretation.\n",
      "  warnings.warn(\n"
     ]
    },
    {
     "data": {
      "image/png": "[encoded data removed]",
      "text/plain": [
       "<Figure size 432x288 with 1 Axes>"
      ]
     },
     "metadata": {
      "needs_background": "light"
     },
     "output_type": "display_data"
    }
   ],
   "source": [
    "sns.regplot(lika_P['Humidity'],lika_rad[0:len(lika_P)]);\n",
    "plt.title(\"Humidity vs Radiation\");\n",
    "plt.xlabel('Humidity')\n",
    "plt.ylabel('Radiation Counts');"
   ]
  },
  {
   "cell_type": "code",
   "execution_count": 82,
   "id": "5498e28b",
   "metadata": {
    "scrolled": true
   },
   "outputs": [
    {
     "name": "stderr",
     "output_type": "stream",
     "text": [
      "/opt/anaconda3/lib/python3.8/site-packages/seaborn/_decorators.py:36: FutureWarning: Pass the following variables as keyword args: x, y. From version 0.12, the only valid positional argument will be `data`, and passing other arguments without an explicit keyword will result in an error or misinterpretation.\n",
      "  warnings.warn(\n"
     ]
    },
    {
     "data": {
      "image/png": "[encoded data removed]",
      "text/plain": [
       "<Figure size 432x288 with 1 Axes>"
      ]
     },
     "metadata": {
      "needs_background": "light"
     },
     "output_type": "display_data"
    }
   ],
   "source": [
    "sns.residplot(lika_P['Humidity'],lika_rad[0:len(lika_P)]);\n",
    "plt.title(\"Humidity vs Radiation Residuals Plot\");\n",
    "plt.xlabel('Humidity')\n",
    "plt.ylabel('Radiation Counts');"
   ]
  },
  {
   "cell_type": "code",
   "execution_count": 83,
   "id": "485f41f8",
   "metadata": {},
   "outputs": [],
   "source": [
    "## I make a new dataframe with the arrays from plt.scatter so I can use the smf.ols package to calculate correlation\n",
    "humidity_lika=pd.DataFrame()\n",
    "humidity_lika['Humidity']=lika_P['Humidity']\n",
    "humidity_lika['Radiation']=lika_rad[0:74]"
   ]
  },
  {
   "cell_type": "code",
   "execution_count": 84,
   "id": "c58e9301",
   "metadata": {
    "scrolled": false
   },
   "outputs": [
    {
     "name": "stdout",
     "output_type": "stream",
     "text": [
      "                            OLS Regression Results                            \n",
      "==============================================================================\n",
      "Dep. Variable:              Radiation   R-squared:                       0.005\n",
      "Model:                            OLS   Adj. R-squared:                 -0.009\n",
      "Method:                 Least Squares   F-statistic:                    0.3436\n",
      "Date:                Wed, 15 Dec 2021   Prob (F-statistic):              0.560\n",
      "Time:                        16:34:47   Log-Likelihood:                -323.51\n",
      "No. Observations:                  74   AIC:                             651.0\n",
      "Df Residuals:                      72   BIC:                             655.6\n",
      "Df Model:                           1                                         \n",
      "Covariance Type:            nonrobust                                         \n",
      "==============================================================================\n",
      "                 coef    std err          t      P>|t|      [0.025      0.975]\n",
      "------------------------------------------------------------------------------\n",
      "Intercept     60.5087    169.270      0.357      0.722    -276.924     397.942\n",
      "Humidity       1.6409      2.800      0.586      0.560      -3.940       7.222\n",
      "==============================================================================\n",
      "Omnibus:                        0.594   Durbin-Watson:                   1.127\n",
      "Prob(Omnibus):                  0.743   Jarque-Bera (JB):                0.726\n",
      "Skew:                          -0.178   Prob(JB):                        0.695\n",
      "Kurtosis:                       2.669   Cond. No.                     4.53e+03\n",
      "==============================================================================\n",
      "\n",
      "Notes:\n",
      "[1] Standard Errors assume that the covariance matrix of the errors is correctly specified.\n",
      "[2] The condition number is large, 4.53e+03. This might indicate that there are\n",
      "strong multicollinearity or other numerical problems.\n"
     ]
    }
   ],
   "source": [
    "## I use this package to determine correlation (R-squared)\n",
    "print(smf.ols('Radiation~Humidity',data=humidity_lika).fit().summary())"
   ]
  },
  {
   "cell_type": "code",
   "execution_count": 85,
   "id": "aacbdcc7",
   "metadata": {},
   "outputs": [],
   "source": [
    "## Radiation and Air Quality"
   ]
  },
  {
   "cell_type": "code",
   "execution_count": 86,
   "id": "3b8c1ed8",
   "metadata": {
    "scrolled": false
   },
   "outputs": [
    {
     "data": {
      "text/html": [
       "<div>\n",
       "<style scoped>\n",
       "    .dataframe tbody tr th:only-of-type {\n",
       "        vertical-align: middle;\n",
       "    }\n",
       "\n",
       "    .dataframe tbody tr th {\n",
       "        vertical-align: top;\n",
       "    }\n",
       "\n",
       "    .dataframe thead th {\n",
       "        text-align: right;\n",
       "    }\n",
       "</style>\n",
       "<table border=\"1\" class=\"dataframe\">\n",
       "  <thead>\n",
       "    <tr style=\"text-align: right;\">\n",
       "      <th></th>\n",
       "      <th>Time</th>\n",
       "      <th>PM 1.0</th>\n",
       "      <th>Unc 1.0</th>\n",
       "      <th>PM 2.5</th>\n",
       "      <th>Unc 2.5</th>\n",
       "      <th>PM 10</th>\n",
       "      <th>Unc. 10</th>\n",
       "    </tr>\n",
       "  </thead>\n",
       "  <tbody>\n",
       "    <tr>\n",
       "      <th>0</th>\n",
       "      <td>1.635566e+09</td>\n",
       "      <td>9.0</td>\n",
       "      <td>0.000000</td>\n",
       "      <td>12.0</td>\n",
       "      <td>0.000000</td>\n",
       "      <td>15.0</td>\n",
       "      <td>0.000000</td>\n",
       "    </tr>\n",
       "    <tr>\n",
       "      <th>1</th>\n",
       "      <td>1.635566e+09</td>\n",
       "      <td>9.0</td>\n",
       "      <td>0.000000</td>\n",
       "      <td>13.0</td>\n",
       "      <td>0.000000</td>\n",
       "      <td>15.0</td>\n",
       "      <td>0.000000</td>\n",
       "    </tr>\n",
       "    <tr>\n",
       "      <th>2</th>\n",
       "      <td>1.635566e+09</td>\n",
       "      <td>9.0</td>\n",
       "      <td>0.000000</td>\n",
       "      <td>12.4</td>\n",
       "      <td>0.489898</td>\n",
       "      <td>14.2</td>\n",
       "      <td>0.400000</td>\n",
       "    </tr>\n",
       "    <tr>\n",
       "      <th>3</th>\n",
       "      <td>1.635566e+09</td>\n",
       "      <td>8.4</td>\n",
       "      <td>0.489898</td>\n",
       "      <td>11.4</td>\n",
       "      <td>0.489898</td>\n",
       "      <td>12.6</td>\n",
       "      <td>0.489898</td>\n",
       "    </tr>\n",
       "    <tr>\n",
       "      <th>4</th>\n",
       "      <td>1.635566e+09</td>\n",
       "      <td>8.6</td>\n",
       "      <td>0.800000</td>\n",
       "      <td>11.4</td>\n",
       "      <td>0.489898</td>\n",
       "      <td>12.0</td>\n",
       "      <td>0.632456</td>\n",
       "    </tr>\n",
       "    <tr>\n",
       "      <th>...</th>\n",
       "      <td>...</td>\n",
       "      <td>...</td>\n",
       "      <td>...</td>\n",
       "      <td>...</td>\n",
       "      <td>...</td>\n",
       "      <td>...</td>\n",
       "      <td>...</td>\n",
       "    </tr>\n",
       "    <tr>\n",
       "      <th>105</th>\n",
       "      <td>1.635567e+09</td>\n",
       "      <td>8.2</td>\n",
       "      <td>0.400000</td>\n",
       "      <td>11.2</td>\n",
       "      <td>0.400000</td>\n",
       "      <td>15.0</td>\n",
       "      <td>0.000000</td>\n",
       "    </tr>\n",
       "    <tr>\n",
       "      <th>106</th>\n",
       "      <td>1.635567e+09</td>\n",
       "      <td>8.0</td>\n",
       "      <td>0.000000</td>\n",
       "      <td>11.0</td>\n",
       "      <td>0.000000</td>\n",
       "      <td>14.0</td>\n",
       "      <td>0.000000</td>\n",
       "    </tr>\n",
       "    <tr>\n",
       "      <th>107</th>\n",
       "      <td>1.635567e+09</td>\n",
       "      <td>8.0</td>\n",
       "      <td>0.000000</td>\n",
       "      <td>11.0</td>\n",
       "      <td>0.000000</td>\n",
       "      <td>14.0</td>\n",
       "      <td>0.000000</td>\n",
       "    </tr>\n",
       "    <tr>\n",
       "      <th>108</th>\n",
       "      <td>1.635567e+09</td>\n",
       "      <td>8.0</td>\n",
       "      <td>0.000000</td>\n",
       "      <td>11.0</td>\n",
       "      <td>0.000000</td>\n",
       "      <td>14.0</td>\n",
       "      <td>0.000000</td>\n",
       "    </tr>\n",
       "    <tr>\n",
       "      <th>109</th>\n",
       "      <td>1.635567e+09</td>\n",
       "      <td>8.4</td>\n",
       "      <td>0.489898</td>\n",
       "      <td>11.4</td>\n",
       "      <td>0.489898</td>\n",
       "      <td>14.0</td>\n",
       "      <td>0.000000</td>\n",
       "    </tr>\n",
       "  </tbody>\n",
       "</table>\n",
       "<p>110 rows × 7 columns</p>\n",
       "</div>"
      ],
      "text/plain": [
       "             Time  PM 1.0   Unc 1.0  PM 2.5   Unc 2.5  PM 10   Unc. 10\n",
       "0    1.635566e+09     9.0  0.000000    12.0  0.000000   15.0  0.000000\n",
       "1    1.635566e+09     9.0  0.000000    13.0  0.000000   15.0  0.000000\n",
       "2    1.635566e+09     9.0  0.000000    12.4  0.489898   14.2  0.400000\n",
       "3    1.635566e+09     8.4  0.489898    11.4  0.489898   12.6  0.489898\n",
       "4    1.635566e+09     8.6  0.800000    11.4  0.489898   12.0  0.632456\n",
       "..            ...     ...       ...     ...       ...    ...       ...\n",
       "105  1.635567e+09     8.2  0.400000    11.2  0.400000   15.0  0.000000\n",
       "106  1.635567e+09     8.0  0.000000    11.0  0.000000   14.0  0.000000\n",
       "107  1.635567e+09     8.0  0.000000    11.0  0.000000   14.0  0.000000\n",
       "108  1.635567e+09     8.0  0.000000    11.0  0.000000   14.0  0.000000\n",
       "109  1.635567e+09     8.4  0.489898    11.4  0.489898   14.0  0.000000\n",
       "\n",
       "[110 rows x 7 columns]"
      ]
     },
     "execution_count": 86,
     "metadata": {},
     "output_type": "execute_result"
    }
   ],
   "source": [
    "lika_AQ"
   ]
  },
  {
   "cell_type": "code",
   "execution_count": 87,
   "id": "357fc274",
   "metadata": {
    "scrolled": false
   },
   "outputs": [
    {
     "name": "stderr",
     "output_type": "stream",
     "text": [
      "/opt/anaconda3/lib/python3.8/site-packages/seaborn/_decorators.py:36: FutureWarning: Pass the following variables as keyword args: x, y. From version 0.12, the only valid positional argument will be `data`, and passing other arguments without an explicit keyword will result in an error or misinterpretation.\n",
      "  warnings.warn(\n"
     ]
    },
    {
     "data": {
      "image/png": "[encoded data removed]",
      "text/plain": [
       "<Figure size 432x288 with 1 Axes>"
      ]
     },
     "metadata": {
      "needs_background": "light"
     },
     "output_type": "display_data"
    }
   ],
   "source": [
    "x=lika_AQ['PM 2.5']\n",
    "y=lika_rad[0:len(lika_AQ)]\n",
    "sns.regplot(x,y);\n",
    "plt.title(\"PM 2.5 vs Radiation\");\n",
    "plt.xlabel('PM 2.5')\n",
    "plt.ylabel('Radiation');"
   ]
  },
  {
   "cell_type": "code",
   "execution_count": 88,
   "id": "fdfb6db9",
   "metadata": {},
   "outputs": [
    {
     "name": "stderr",
     "output_type": "stream",
     "text": [
      "/opt/anaconda3/lib/python3.8/site-packages/seaborn/_decorators.py:36: FutureWarning: Pass the following variables as keyword args: x, y. From version 0.12, the only valid positional argument will be `data`, and passing other arguments without an explicit keyword will result in an error or misinterpretation.\n",
      "  warnings.warn(\n"
     ]
    },
    {
     "data": {
      "image/png": "[encoded data removed]",
      "text/plain": [
       "<Figure size 432x288 with 1 Axes>"
      ]
     },
     "metadata": {
      "needs_background": "light"
     },
     "output_type": "display_data"
    }
   ],
   "source": [
    "sns.residplot(lika_AQ['PM 2.5'],lika_rad[0:len(lika_AQ)]);\n",
    "plt.title(\"PM 2.5 vs Radiation Residuals Plot\");\n",
    "plt.xlabel('PM 2.5')\n",
    "plt.ylabel('Radiation');"
   ]
  },
  {
   "cell_type": "code",
   "execution_count": 89,
   "id": "2f01d9d2",
   "metadata": {},
   "outputs": [],
   "source": [
    "AQ_lika=pd.DataFrame()\n",
    "AQ_lika['AQ']=lika_AQ['PM 2.5']\n",
    "AQ_lika['Radiation']=lika_rad[0:len(lika_AQ)]"
   ]
  },
  {
   "cell_type": "code",
   "execution_count": 90,
   "id": "f2e03381",
   "metadata": {
    "scrolled": false
   },
   "outputs": [
    {
     "name": "stdout",
     "output_type": "stream",
     "text": [
      "                            OLS Regression Results                            \n",
      "==============================================================================\n",
      "Dep. Variable:              Radiation   R-squared:                       0.000\n",
      "Model:                            OLS   Adj. R-squared:                 -0.009\n",
      "Method:                 Least Squares   F-statistic:                  0.007868\n",
      "Date:                Wed, 15 Dec 2021   Prob (F-statistic):              0.929\n",
      "Time:                        16:34:48   Log-Likelihood:                -492.70\n",
      "No. Observations:                 110   AIC:                             989.4\n",
      "Df Residuals:                     108   BIC:                             994.8\n",
      "Df Model:                           1                                         \n",
      "Covariance Type:            nonrobust                                         \n",
      "==============================================================================\n",
      "                 coef    std err          t      P>|t|      [0.025      0.975]\n",
      "------------------------------------------------------------------------------\n",
      "Intercept    155.5686     33.110      4.699      0.000      89.938     221.199\n",
      "AQ             0.2353      2.652      0.089      0.929      -5.022       5.492\n",
      "==============================================================================\n",
      "Omnibus:                        1.175   Durbin-Watson:                   0.971\n",
      "Prob(Omnibus):                  0.556   Jarque-Bera (JB):                1.167\n",
      "Skew:                          -0.133   Prob(JB):                        0.558\n",
      "Kurtosis:                       2.572   Cond. No.                         203.\n",
      "==============================================================================\n",
      "\n",
      "Notes:\n",
      "[1] Standard Errors assume that the covariance matrix of the errors is correctly specified.\n"
     ]
    }
   ],
   "source": [
    "print(smf.ols('Radiation~AQ',data=AQ_lika).fit().summary())"
   ]
  },
  {
   "cell_type": "code",
   "execution_count": 91,
   "id": "011e7715",
   "metadata": {},
   "outputs": [],
   "source": [
    "## Radiation and Temperature"
   ]
  },
  {
   "cell_type": "code",
   "execution_count": 92,
   "id": "71d2ecbe",
   "metadata": {
    "scrolled": true
   },
   "outputs": [
    {
     "data": {
      "text/html": [
       "<div>\n",
       "<style scoped>\n",
       "    .dataframe tbody tr th:only-of-type {\n",
       "        vertical-align: middle;\n",
       "    }\n",
       "\n",
       "    .dataframe tbody tr th {\n",
       "        vertical-align: top;\n",
       "    }\n",
       "\n",
       "    .dataframe thead th {\n",
       "        text-align: right;\n",
       "    }\n",
       "</style>\n",
       "<table border=\"1\" class=\"dataframe\">\n",
       "  <thead>\n",
       "    <tr style=\"text-align: right;\">\n",
       "      <th></th>\n",
       "      <th>Time</th>\n",
       "      <th>Temperature</th>\n",
       "      <th>T Unc.</th>\n",
       "      <th>Humidity</th>\n",
       "      <th>H Unc.</th>\n",
       "      <th>Pressure</th>\n",
       "      <th>P Unc.</th>\n",
       "    </tr>\n",
       "  </thead>\n",
       "  <tbody>\n",
       "    <tr>\n",
       "      <th>0</th>\n",
       "      <td>1.635566e+09</td>\n",
       "      <td>17.442734</td>\n",
       "      <td>0.017708</td>\n",
       "      <td>61.384606</td>\n",
       "      <td>0.167918</td>\n",
       "      <td>0.997139</td>\n",
       "      <td>0.000011</td>\n",
       "    </tr>\n",
       "    <tr>\n",
       "      <th>1</th>\n",
       "      <td>1.635566e+09</td>\n",
       "      <td>17.477344</td>\n",
       "      <td>0.011026</td>\n",
       "      <td>62.192665</td>\n",
       "      <td>0.365659</td>\n",
       "      <td>0.997115</td>\n",
       "      <td>0.000014</td>\n",
       "    </tr>\n",
       "    <tr>\n",
       "      <th>2</th>\n",
       "      <td>1.635566e+09</td>\n",
       "      <td>17.489609</td>\n",
       "      <td>0.007943</td>\n",
       "      <td>62.726298</td>\n",
       "      <td>0.258730</td>\n",
       "      <td>0.997121</td>\n",
       "      <td>0.000016</td>\n",
       "    </tr>\n",
       "    <tr>\n",
       "      <th>3</th>\n",
       "      <td>1.635566e+09</td>\n",
       "      <td>17.474297</td>\n",
       "      <td>0.018245</td>\n",
       "      <td>61.446045</td>\n",
       "      <td>0.406065</td>\n",
       "      <td>0.997092</td>\n",
       "      <td>0.000019</td>\n",
       "    </tr>\n",
       "    <tr>\n",
       "      <th>4</th>\n",
       "      <td>1.635566e+09</td>\n",
       "      <td>17.489570</td>\n",
       "      <td>0.013332</td>\n",
       "      <td>60.734414</td>\n",
       "      <td>0.125753</td>\n",
       "      <td>0.997089</td>\n",
       "      <td>0.000016</td>\n",
       "    </tr>\n",
       "    <tr>\n",
       "      <th>...</th>\n",
       "      <td>...</td>\n",
       "      <td>...</td>\n",
       "      <td>...</td>\n",
       "      <td>...</td>\n",
       "      <td>...</td>\n",
       "      <td>...</td>\n",
       "      <td>...</td>\n",
       "    </tr>\n",
       "    <tr>\n",
       "      <th>69</th>\n",
       "      <td>1.635567e+09</td>\n",
       "      <td>17.793711</td>\n",
       "      <td>0.027888</td>\n",
       "      <td>59.000688</td>\n",
       "      <td>0.054848</td>\n",
       "      <td>0.998446</td>\n",
       "      <td>0.000040</td>\n",
       "    </tr>\n",
       "    <tr>\n",
       "      <th>70</th>\n",
       "      <td>1.635567e+09</td>\n",
       "      <td>17.825234</td>\n",
       "      <td>0.024926</td>\n",
       "      <td>59.147380</td>\n",
       "      <td>0.119103</td>\n",
       "      <td>0.998418</td>\n",
       "      <td>0.000034</td>\n",
       "    </tr>\n",
       "    <tr>\n",
       "      <th>71</th>\n",
       "      <td>1.635567e+09</td>\n",
       "      <td>17.858828</td>\n",
       "      <td>0.032624</td>\n",
       "      <td>59.291388</td>\n",
       "      <td>0.220559</td>\n",
       "      <td>0.998375</td>\n",
       "      <td>0.000016</td>\n",
       "    </tr>\n",
       "    <tr>\n",
       "      <th>72</th>\n",
       "      <td>1.635567e+09</td>\n",
       "      <td>17.941172</td>\n",
       "      <td>0.023905</td>\n",
       "      <td>58.560460</td>\n",
       "      <td>0.111295</td>\n",
       "      <td>0.998351</td>\n",
       "      <td>0.000020</td>\n",
       "    </tr>\n",
       "    <tr>\n",
       "      <th>73</th>\n",
       "      <td>1.635567e+09</td>\n",
       "      <td>18.040898</td>\n",
       "      <td>0.027176</td>\n",
       "      <td>58.415067</td>\n",
       "      <td>0.204142</td>\n",
       "      <td>0.998346</td>\n",
       "      <td>0.000016</td>\n",
       "    </tr>\n",
       "  </tbody>\n",
       "</table>\n",
       "<p>74 rows × 7 columns</p>\n",
       "</div>"
      ],
      "text/plain": [
       "            Time  Temperature    T Unc.   Humidity    H Unc.  Pressure  \\\n",
       "0   1.635566e+09    17.442734  0.017708  61.384606  0.167918  0.997139   \n",
       "1   1.635566e+09    17.477344  0.011026  62.192665  0.365659  0.997115   \n",
       "2   1.635566e+09    17.489609  0.007943  62.726298  0.258730  0.997121   \n",
       "3   1.635566e+09    17.474297  0.018245  61.446045  0.406065  0.997092   \n",
       "4   1.635566e+09    17.489570  0.013332  60.734414  0.125753  0.997089   \n",
       "..           ...          ...       ...        ...       ...       ...   \n",
       "69  1.635567e+09    17.793711  0.027888  59.000688  0.054848  0.998446   \n",
       "70  1.635567e+09    17.825234  0.024926  59.147380  0.119103  0.998418   \n",
       "71  1.635567e+09    17.858828  0.032624  59.291388  0.220559  0.998375   \n",
       "72  1.635567e+09    17.941172  0.023905  58.560460  0.111295  0.998351   \n",
       "73  1.635567e+09    18.040898  0.027176  58.415067  0.204142  0.998346   \n",
       "\n",
       "      P Unc.  \n",
       "0   0.000011  \n",
       "1   0.000014  \n",
       "2   0.000016  \n",
       "3   0.000019  \n",
       "4   0.000016  \n",
       "..       ...  \n",
       "69  0.000040  \n",
       "70  0.000034  \n",
       "71  0.000016  \n",
       "72  0.000020  \n",
       "73  0.000016  \n",
       "\n",
       "[74 rows x 7 columns]"
      ]
     },
     "execution_count": 92,
     "metadata": {},
     "output_type": "execute_result"
    }
   ],
   "source": [
    "lika_P"
   ]
  },
  {
   "cell_type": "code",
   "execution_count": 93,
   "id": "2e70e13c",
   "metadata": {
    "scrolled": false
   },
   "outputs": [
    {
     "name": "stderr",
     "output_type": "stream",
     "text": [
      "/opt/anaconda3/lib/python3.8/site-packages/seaborn/_decorators.py:36: FutureWarning: Pass the following variables as keyword args: x, y. From version 0.12, the only valid positional argument will be `data`, and passing other arguments without an explicit keyword will result in an error or misinterpretation.\n",
      "  warnings.warn(\n"
     ]
    },
    {
     "data": {
      "image/png": "[encoded data removed]",
      "text/plain": [
       "<Figure size 432x288 with 1 Axes>"
      ]
     },
     "metadata": {
      "needs_background": "light"
     },
     "output_type": "display_data"
    }
   ],
   "source": [
    "sns.regplot(lika_P['Temperature'],lika_rad[0:len(lika_P)]);\n",
    "plt.title(\"Temperature vs Radiation\");\n",
    "plt.xlabel('Temperature')\n",
    "plt.ylabel('Radiation');"
   ]
  },
  {
   "cell_type": "code",
   "execution_count": 94,
   "id": "5a9db396",
   "metadata": {},
   "outputs": [
    {
     "name": "stderr",
     "output_type": "stream",
     "text": [
      "/opt/anaconda3/lib/python3.8/site-packages/seaborn/_decorators.py:36: FutureWarning: Pass the following variables as keyword args: x, y. From version 0.12, the only valid positional argument will be `data`, and passing other arguments without an explicit keyword will result in an error or misinterpretation.\n",
      "  warnings.warn(\n"
     ]
    },
    {
     "data": {
      "image/png": "[encoded data removed]",
      "text/plain": [
       "<Figure size 432x288 with 1 Axes>"
      ]
     },
     "metadata": {
      "needs_background": "light"
     },
     "output_type": "display_data"
    }
   ],
   "source": [
    "sns.residplot(lika_P['Temperature'],lika_rad[0:len(lika_P)]);\n",
    "plt.title(\"Temperature vs Radiation Residuals Plot\");\n",
    "plt.xlabel('Temperature')\n",
    "plt.ylabel('Radiation Counts');"
   ]
  },
  {
   "cell_type": "code",
   "execution_count": 95,
   "id": "7b5cac23",
   "metadata": {},
   "outputs": [],
   "source": [
    "Temp_lika=pd.DataFrame()\n",
    "Temp_lika['Temp']=lika_P['Temperature']\n",
    "Temp_lika['Radiation']=lika_rad[0:len(lika_P)]"
   ]
  },
  {
   "cell_type": "code",
   "execution_count": 96,
   "id": "361a8ae8",
   "metadata": {
    "scrolled": false
   },
   "outputs": [
    {
     "name": "stdout",
     "output_type": "stream",
     "text": [
      "                            OLS Regression Results                            \n",
      "==============================================================================\n",
      "Dep. Variable:              Radiation   R-squared:                       0.002\n",
      "Model:                            OLS   Adj. R-squared:                 -0.011\n",
      "Method:                 Least Squares   F-statistic:                    0.1791\n",
      "Date:                Wed, 15 Dec 2021   Prob (F-statistic):              0.673\n",
      "Time:                        16:34:48   Log-Likelihood:                -323.60\n",
      "No. Observations:                  74   AIC:                             651.2\n",
      "Df Residuals:                      72   BIC:                             655.8\n",
      "Df Model:                           1                                         \n",
      "Covariance Type:            nonrobust                                         \n",
      "==============================================================================\n",
      "                 coef    std err          t      P>|t|      [0.025      0.975]\n",
      "------------------------------------------------------------------------------\n",
      "Intercept    259.2818    235.283      1.102      0.274    -209.747     728.311\n",
      "Temp          -5.7013     13.472     -0.423      0.673     -32.557      21.155\n",
      "==============================================================================\n",
      "Omnibus:                        0.554   Durbin-Watson:                   1.116\n",
      "Prob(Omnibus):                  0.758   Jarque-Bera (JB):                0.668\n",
      "Skew:                          -0.185   Prob(JB):                        0.716\n",
      "Kurtosis:                       2.718   Cond. No.                     1.82e+03\n",
      "==============================================================================\n",
      "\n",
      "Notes:\n",
      "[1] Standard Errors assume that the covariance matrix of the errors is correctly specified.\n",
      "[2] The condition number is large, 1.82e+03. This might indicate that there are\n",
      "strong multicollinearity or other numerical problems.\n"
     ]
    }
   ],
   "source": [
    "print(smf.ols('Radiation~Temp',data=Temp_lika).fit().summary())"
   ]
  },
  {
   "cell_type": "code",
   "execution_count": 97,
   "id": "12a9dbf4",
   "metadata": {
    "scrolled": true
   },
   "outputs": [
    {
     "name": "stdout",
     "output_type": "stream",
     "text": [
      "                            OLS Regression Results                            \n",
      "==============================================================================\n",
      "Dep. Variable:                    Rad   R-squared:                       0.005\n",
      "Model:                            OLS   Adj. R-squared:                 -0.038\n",
      "Method:                 Least Squares   F-statistic:                    0.1166\n",
      "Date:                Wed, 15 Dec 2021   Prob (F-statistic):              0.950\n",
      "Time:                        16:34:48   Log-Likelihood:                -323.50\n",
      "No. Observations:                  74   AIC:                             655.0\n",
      "Df Residuals:                      70   BIC:                             664.2\n",
      "Df Model:                           3                                         \n",
      "Covariance Type:            nonrobust                                         \n",
      "==============================================================================\n",
      "                 coef    std err          t      P>|t|      [0.025      0.975]\n",
      "------------------------------------------------------------------------------\n",
      "Intercept     99.9971    591.026      0.169      0.866   -1078.766    1278.761\n",
      "Temp          -1.1213     20.306     -0.055      0.956     -41.620      39.377\n",
      "AQ            -0.4284      3.448     -0.124      0.901      -7.305       6.448\n",
      "Humidity       1.4020      4.292      0.327      0.745      -7.157       9.961\n",
      "==============================================================================\n",
      "Omnibus:                        0.554   Durbin-Watson:                   1.123\n",
      "Prob(Omnibus):                  0.758   Jarque-Bera (JB):                0.698\n",
      "Skew:                          -0.160   Prob(JB):                        0.705\n",
      "Kurtosis:                       2.647   Cond. No.                     1.66e+04\n",
      "==============================================================================\n",
      "\n",
      "Notes:\n",
      "[1] Standard Errors assume that the covariance matrix of the errors is correctly specified.\n",
      "[2] The condition number is large, 1.66e+04. This might indicate that there are\n",
      "strong multicollinearity or other numerical problems.\n"
     ]
    }
   ],
   "source": [
    "all_lika=pd.DataFrame()\n",
    "all_lika['Temp']=lika_P['Temperature']\n",
    "all_lika['Humidity']=lika_P['Humidity']\n",
    "all_lika['AQ']=lika_AQ['PM 2.5'][0:74]\n",
    "all_lika['Rad']=lika_rad[0:74]\n",
    "print(smf.ols('Rad~Temp+AQ+Humidity+Temp',data=all_lika).fit().summary())"
   ]
  },
  {
   "cell_type": "code",
   "execution_count": 98,
   "id": "9a946e4c",
   "metadata": {},
   "outputs": [],
   "source": [
    "## Difference Between Grove and Hill"
   ]
  },
  {
   "cell_type": "code",
   "execution_count": 99,
   "id": "b27d5448",
   "metadata": {
    "scrolled": true
   },
   "outputs": [],
   "source": [
    "all_Hill['Dummy']=[1] * len(all_Hill)"
   ]
  },
  {
   "cell_type": "code",
   "execution_count": 100,
   "id": "79caff1f",
   "metadata": {},
   "outputs": [],
   "source": [
    "all_lika['Dummy']=[0] * len(all_lika)"
   ]
  },
  {
   "cell_type": "code",
   "execution_count": 101,
   "id": "4b910b1e",
   "metadata": {
    "scrolled": false
   },
   "outputs": [
    {
     "data": {
      "text/html": [
       "<div>\n",
       "<style scoped>\n",
       "    .dataframe tbody tr th:only-of-type {\n",
       "        vertical-align: middle;\n",
       "    }\n",
       "\n",
       "    .dataframe tbody tr th {\n",
       "        vertical-align: top;\n",
       "    }\n",
       "\n",
       "    .dataframe thead th {\n",
       "        text-align: right;\n",
       "    }\n",
       "</style>\n",
       "<table border=\"1\" class=\"dataframe\">\n",
       "  <thead>\n",
       "    <tr style=\"text-align: right;\">\n",
       "      <th></th>\n",
       "      <th>Temp</th>\n",
       "      <th>Humidity</th>\n",
       "      <th>AQ</th>\n",
       "      <th>Rad</th>\n",
       "      <th>Dummy</th>\n",
       "    </tr>\n",
       "  </thead>\n",
       "  <tbody>\n",
       "    <tr>\n",
       "      <th>0</th>\n",
       "      <td>19.383672</td>\n",
       "      <td>55.679554</td>\n",
       "      <td>13.0</td>\n",
       "      <td>181</td>\n",
       "      <td>1</td>\n",
       "    </tr>\n",
       "    <tr>\n",
       "      <th>1</th>\n",
       "      <td>19.448789</td>\n",
       "      <td>56.215866</td>\n",
       "      <td>13.0</td>\n",
       "      <td>170</td>\n",
       "      <td>1</td>\n",
       "    </tr>\n",
       "    <tr>\n",
       "      <th>2</th>\n",
       "      <td>19.490508</td>\n",
       "      <td>56.269130</td>\n",
       "      <td>13.0</td>\n",
       "      <td>204</td>\n",
       "      <td>1</td>\n",
       "    </tr>\n",
       "    <tr>\n",
       "      <th>3</th>\n",
       "      <td>19.468125</td>\n",
       "      <td>55.576979</td>\n",
       "      <td>13.0</td>\n",
       "      <td>183</td>\n",
       "      <td>1</td>\n",
       "    </tr>\n",
       "    <tr>\n",
       "      <th>4</th>\n",
       "      <td>19.444727</td>\n",
       "      <td>54.225954</td>\n",
       "      <td>13.0</td>\n",
       "      <td>198</td>\n",
       "      <td>1</td>\n",
       "    </tr>\n",
       "    <tr>\n",
       "      <th>...</th>\n",
       "      <td>...</td>\n",
       "      <td>...</td>\n",
       "      <td>...</td>\n",
       "      <td>...</td>\n",
       "      <td>...</td>\n",
       "    </tr>\n",
       "    <tr>\n",
       "      <th>143</th>\n",
       "      <td>17.793711</td>\n",
       "      <td>59.000688</td>\n",
       "      <td>13.0</td>\n",
       "      <td>152</td>\n",
       "      <td>0</td>\n",
       "    </tr>\n",
       "    <tr>\n",
       "      <th>144</th>\n",
       "      <td>17.825234</td>\n",
       "      <td>59.147380</td>\n",
       "      <td>12.4</td>\n",
       "      <td>145</td>\n",
       "      <td>0</td>\n",
       "    </tr>\n",
       "    <tr>\n",
       "      <th>145</th>\n",
       "      <td>17.858828</td>\n",
       "      <td>59.291388</td>\n",
       "      <td>12.0</td>\n",
       "      <td>156</td>\n",
       "      <td>0</td>\n",
       "    </tr>\n",
       "    <tr>\n",
       "      <th>146</th>\n",
       "      <td>17.941172</td>\n",
       "      <td>58.560460</td>\n",
       "      <td>12.0</td>\n",
       "      <td>137</td>\n",
       "      <td>0</td>\n",
       "    </tr>\n",
       "    <tr>\n",
       "      <th>147</th>\n",
       "      <td>18.040898</td>\n",
       "      <td>58.415067</td>\n",
       "      <td>12.6</td>\n",
       "      <td>147</td>\n",
       "      <td>0</td>\n",
       "    </tr>\n",
       "  </tbody>\n",
       "</table>\n",
       "<p>148 rows × 5 columns</p>\n",
       "</div>"
      ],
      "text/plain": [
       "          Temp   Humidity    AQ  Rad  Dummy\n",
       "0    19.383672  55.679554  13.0  181      1\n",
       "1    19.448789  56.215866  13.0  170      1\n",
       "2    19.490508  56.269130  13.0  204      1\n",
       "3    19.468125  55.576979  13.0  183      1\n",
       "4    19.444727  54.225954  13.0  198      1\n",
       "..         ...        ...   ...  ...    ...\n",
       "143  17.793711  59.000688  13.0  152      0\n",
       "144  17.825234  59.147380  12.4  145      0\n",
       "145  17.858828  59.291388  12.0  156      0\n",
       "146  17.941172  58.560460  12.0  137      0\n",
       "147  18.040898  58.415067  12.6  147      0\n",
       "\n",
       "[148 rows x 5 columns]"
      ]
     },
     "execution_count": 101,
     "metadata": {},
     "output_type": "execute_result"
    }
   ],
   "source": [
    "lika_and_hill=pd.concat([all_Hill,all_lika],ignore_index=True)\n",
    "lika_and_hill\n",
    "## Hill if Dummy=1"
   ]
  },
  {
   "cell_type": "code",
   "execution_count": 102,
   "id": "80ec5117",
   "metadata": {
    "scrolled": false
   },
   "outputs": [
    {
     "name": "stdout",
     "output_type": "stream",
     "text": [
      "                            OLS Regression Results                            \n",
      "==============================================================================\n",
      "Dep. Variable:                    Rad   R-squared:                       0.571\n",
      "Model:                            OLS   Adj. R-squared:                  0.562\n",
      "Method:                 Least Squares   F-statistic:                     63.87\n",
      "Date:                Wed, 15 Dec 2021   Prob (F-statistic):           2.54e-26\n",
      "Time:                        16:34:48   Log-Likelihood:                -633.04\n",
      "No. Observations:                 148   AIC:                             1274.\n",
      "Df Residuals:                     144   BIC:                             1286.\n",
      "Df Model:                           3                                         \n",
      "Covariance Type:            nonrobust                                         \n",
      "==============================================================================\n",
      "                 coef    std err          t      P>|t|      [0.025      0.975]\n",
      "------------------------------------------------------------------------------\n",
      "Intercept    184.4028    112.664      1.637      0.104     -38.285     407.091\n",
      "Humidity      -3.0709      0.920     -3.337      0.001      -4.890      -1.252\n",
      "Temp          10.8364      3.604      3.007      0.003       3.713      17.960\n",
      "AQ            -2.1536      1.557     -1.383      0.169      -5.231       0.924\n",
      "==============================================================================\n",
      "Omnibus:                        0.594   Durbin-Watson:                   1.265\n",
      "Prob(Omnibus):                  0.743   Jarque-Bera (JB):                0.262\n",
      "Skew:                          -0.010   Prob(JB):                        0.877\n",
      "Kurtosis:                       3.205   Cond. No.                     4.77e+03\n",
      "==============================================================================\n",
      "\n",
      "Notes:\n",
      "[1] Standard Errors assume that the covariance matrix of the errors is correctly specified.\n",
      "[2] The condition number is large, 4.77e+03. This might indicate that there are\n",
      "strong multicollinearity or other numerical problems.\n"
     ]
    }
   ],
   "source": [
    "print(smf.ols('Rad~Humidity+Temp+AQ',data=lika_and_hill).fit().summary())"
   ]
  },
  {
   "cell_type": "code",
   "execution_count": 103,
   "id": "c0780929",
   "metadata": {
    "scrolled": false
   },
   "outputs": [
    {
     "name": "stdout",
     "output_type": "stream",
     "text": [
      "                            OLS Regression Results                            \n",
      "==============================================================================\n",
      "Dep. Variable:                    Rad   R-squared:                       0.596\n",
      "Model:                            OLS   Adj. R-squared:                  0.585\n",
      "Method:                 Least Squares   F-statistic:                     52.77\n",
      "Date:                Wed, 15 Dec 2021   Prob (F-statistic):           3.06e-27\n",
      "Time:                        16:34:48   Log-Likelihood:                -628.56\n",
      "No. Observations:                 148   AIC:                             1267.\n",
      "Df Residuals:                     143   BIC:                             1282.\n",
      "Df Model:                           4                                         \n",
      "Covariance Type:            nonrobust                                         \n",
      "==============================================================================\n",
      "                 coef    std err          t      P>|t|      [0.025      0.975]\n",
      "------------------------------------------------------------------------------\n",
      "Intercept    325.6017    119.445      2.726      0.007      89.497     561.707\n",
      "Humidity      -1.0109      1.131     -0.894      0.373      -3.246       1.224\n",
      "Temp          -5.2635      6.432     -0.818      0.415     -17.979       7.452\n",
      "AQ            -1.0074      1.564     -0.644      0.520      -4.098       2.083\n",
      "Dummy         44.5843     14.929      2.986      0.003      15.074      74.095\n",
      "==============================================================================\n",
      "Omnibus:                        0.556   Durbin-Watson:                   1.350\n",
      "Prob(Omnibus):                  0.757   Jarque-Bera (JB):                0.262\n",
      "Skew:                          -0.067   Prob(JB):                        0.877\n",
      "Kurtosis:                       3.158   Cond. No.                     5.20e+03\n",
      "==============================================================================\n",
      "\n",
      "Notes:\n",
      "[1] Standard Errors assume that the covariance matrix of the errors is correctly specified.\n",
      "[2] The condition number is large, 5.2e+03. This might indicate that there are\n",
      "strong multicollinearity or other numerical problems.\n"
     ]
    }
   ],
   "source": [
    "print(smf.ols('Rad~Humidity+Temp+AQ+Dummy',data=lika_and_hill).fit().summary())"
   ]
  },
  {
   "cell_type": "code",
   "execution_count": 104,
   "id": "5a942340",
   "metadata": {},
   "outputs": [],
   "source": [
    "## Clustering"
   ]
  },
  {
   "cell_type": "code",
   "execution_count": 105,
   "id": "5a76349e",
   "metadata": {},
   "outputs": [],
   "source": [
    "all_grove['Dummy']=2"
   ]
  },
  {
   "cell_type": "code",
   "execution_count": 106,
   "id": "39922791",
   "metadata": {},
   "outputs": [],
   "source": [
    "all_grove['Name']='Grove'"
   ]
  },
  {
   "cell_type": "code",
   "execution_count": 107,
   "id": "93b0e9f6",
   "metadata": {},
   "outputs": [],
   "source": [
    "all_lika['Name']='Li Ka Shing'"
   ]
  },
  {
   "cell_type": "code",
   "execution_count": 108,
   "id": "30e73ade",
   "metadata": {},
   "outputs": [],
   "source": [
    "all_Hill['Name']='Hill'"
   ]
  },
  {
   "cell_type": "code",
   "execution_count": 109,
   "id": "c8a08083",
   "metadata": {
    "scrolled": true
   },
   "outputs": [
    {
     "data": {
      "text/html": [
       "<div>\n",
       "<style scoped>\n",
       "    .dataframe tbody tr th:only-of-type {\n",
       "        vertical-align: middle;\n",
       "    }\n",
       "\n",
       "    .dataframe tbody tr th {\n",
       "        vertical-align: top;\n",
       "    }\n",
       "\n",
       "    .dataframe thead th {\n",
       "        text-align: right;\n",
       "    }\n",
       "</style>\n",
       "<table border=\"1\" class=\"dataframe\">\n",
       "  <thead>\n",
       "    <tr style=\"text-align: right;\">\n",
       "      <th></th>\n",
       "      <th>Temp</th>\n",
       "      <th>Humidity</th>\n",
       "      <th>AQ</th>\n",
       "      <th>Rad</th>\n",
       "      <th>Dummy</th>\n",
       "      <th>Name</th>\n",
       "    </tr>\n",
       "  </thead>\n",
       "  <tbody>\n",
       "    <tr>\n",
       "      <th>0</th>\n",
       "      <td>19.383672</td>\n",
       "      <td>55.679554</td>\n",
       "      <td>13.0</td>\n",
       "      <td>181</td>\n",
       "      <td>1</td>\n",
       "      <td>Hill</td>\n",
       "    </tr>\n",
       "    <tr>\n",
       "      <th>1</th>\n",
       "      <td>19.448789</td>\n",
       "      <td>56.215866</td>\n",
       "      <td>13.0</td>\n",
       "      <td>170</td>\n",
       "      <td>1</td>\n",
       "      <td>Hill</td>\n",
       "    </tr>\n",
       "    <tr>\n",
       "      <th>2</th>\n",
       "      <td>19.490508</td>\n",
       "      <td>56.269130</td>\n",
       "      <td>13.0</td>\n",
       "      <td>204</td>\n",
       "      <td>1</td>\n",
       "      <td>Hill</td>\n",
       "    </tr>\n",
       "    <tr>\n",
       "      <th>3</th>\n",
       "      <td>19.468125</td>\n",
       "      <td>55.576979</td>\n",
       "      <td>13.0</td>\n",
       "      <td>183</td>\n",
       "      <td>1</td>\n",
       "      <td>Hill</td>\n",
       "    </tr>\n",
       "    <tr>\n",
       "      <th>4</th>\n",
       "      <td>19.444727</td>\n",
       "      <td>54.225954</td>\n",
       "      <td>13.0</td>\n",
       "      <td>198</td>\n",
       "      <td>1</td>\n",
       "      <td>Hill</td>\n",
       "    </tr>\n",
       "    <tr>\n",
       "      <th>...</th>\n",
       "      <td>...</td>\n",
       "      <td>...</td>\n",
       "      <td>...</td>\n",
       "      <td>...</td>\n",
       "      <td>...</td>\n",
       "      <td>...</td>\n",
       "    </tr>\n",
       "    <tr>\n",
       "      <th>217</th>\n",
       "      <td>18.134531</td>\n",
       "      <td>58.420484</td>\n",
       "      <td>12.0</td>\n",
       "      <td>163</td>\n",
       "      <td>2</td>\n",
       "      <td>Grove</td>\n",
       "    </tr>\n",
       "    <tr>\n",
       "      <th>218</th>\n",
       "      <td>18.240273</td>\n",
       "      <td>58.119218</td>\n",
       "      <td>12.0</td>\n",
       "      <td>139</td>\n",
       "      <td>2</td>\n",
       "      <td>Grove</td>\n",
       "    </tr>\n",
       "    <tr>\n",
       "      <th>219</th>\n",
       "      <td>18.268789</td>\n",
       "      <td>58.152310</td>\n",
       "      <td>12.0</td>\n",
       "      <td>147</td>\n",
       "      <td>2</td>\n",
       "      <td>Grove</td>\n",
       "    </tr>\n",
       "    <tr>\n",
       "      <th>220</th>\n",
       "      <td>18.237266</td>\n",
       "      <td>57.996559</td>\n",
       "      <td>12.0</td>\n",
       "      <td>167</td>\n",
       "      <td>2</td>\n",
       "      <td>Grove</td>\n",
       "    </tr>\n",
       "    <tr>\n",
       "      <th>221</th>\n",
       "      <td>18.153828</td>\n",
       "      <td>57.656249</td>\n",
       "      <td>12.0</td>\n",
       "      <td>158</td>\n",
       "      <td>2</td>\n",
       "      <td>Grove</td>\n",
       "    </tr>\n",
       "  </tbody>\n",
       "</table>\n",
       "<p>222 rows × 6 columns</p>\n",
       "</div>"
      ],
      "text/plain": [
       "          Temp   Humidity    AQ  Rad  Dummy   Name\n",
       "0    19.383672  55.679554  13.0  181      1   Hill\n",
       "1    19.448789  56.215866  13.0  170      1   Hill\n",
       "2    19.490508  56.269130  13.0  204      1   Hill\n",
       "3    19.468125  55.576979  13.0  183      1   Hill\n",
       "4    19.444727  54.225954  13.0  198      1   Hill\n",
       "..         ...        ...   ...  ...    ...    ...\n",
       "217  18.134531  58.420484  12.0  163      2  Grove\n",
       "218  18.240273  58.119218  12.0  139      2  Grove\n",
       "219  18.268789  58.152310  12.0  147      2  Grove\n",
       "220  18.237266  57.996559  12.0  167      2  Grove\n",
       "221  18.153828  57.656249  12.0  158      2  Grove\n",
       "\n",
       "[222 rows x 6 columns]"
      ]
     },
     "execution_count": 109,
     "metadata": {},
     "output_type": "execute_result"
    }
   ],
   "source": [
    "all_datasets=pd.concat([all_Hill,all_lika,all_grove],ignore_index=True)\n",
    "all_datasets"
   ]
  },
  {
   "cell_type": "code",
   "execution_count": 150,
   "id": "bef87aea",
   "metadata": {},
   "outputs": [
    {
     "name": "stdout",
     "output_type": "stream",
     "text": [
      "                            OLS Regression Results                            \n",
      "==============================================================================\n",
      "Dep. Variable:                    Rad   R-squared:                       0.526\n",
      "Model:                            OLS   Adj. R-squared:                  0.518\n",
      "Method:                 Least Squares   F-statistic:                     60.28\n",
      "Date:                Wed, 15 Dec 2021   Prob (F-statistic):           3.59e-34\n",
      "Time:                        17:00:25   Log-Likelihood:                -963.15\n",
      "No. Observations:                 222   AIC:                             1936.\n",
      "Df Residuals:                     217   BIC:                             1953.\n",
      "Df Model:                           4                                         \n",
      "Covariance Type:            nonrobust                                         \n",
      "==============================================================================\n",
      "                 coef    std err          t      P>|t|      [0.025      0.975]\n",
      "------------------------------------------------------------------------------\n",
      "Intercept    105.5839    118.925      0.888      0.376    -128.811     339.979\n",
      "Humidity      -3.0814      0.933     -3.303      0.001      -4.920      -1.243\n",
      "Temp          13.6718      4.008      3.411      0.001       5.771      21.572\n",
      "AQ             0.1901      1.390      0.137      0.891      -2.550       2.930\n",
      "Dummy         -7.8397      2.207     -3.552      0.000     -12.190      -3.489\n",
      "==============================================================================\n",
      "Omnibus:                       11.142   Durbin-Watson:                   1.094\n",
      "Prob(Omnibus):                  0.004   Jarque-Bera (JB):               12.440\n",
      "Skew:                           0.438   Prob(JB):                      0.00199\n",
      "Kurtosis:                       3.759   Cond. No.                     5.85e+03\n",
      "==============================================================================\n",
      "\n",
      "Notes:\n",
      "[1] Standard Errors assume that the covariance matrix of the errors is correctly specified.\n",
      "[2] The condition number is large, 5.85e+03. This might indicate that there are\n",
      "strong multicollinearity or other numerical problems.\n"
     ]
    }
   ],
   "source": [
    "print(smf.ols('Rad~Humidity+Temp+AQ+Dummy',data=all_datasets).fit().summary())"
   ]
  },
  {
   "cell_type": "code",
   "execution_count": 110,
   "id": "24616fe0",
   "metadata": {},
   "outputs": [
    {
     "data": {
      "image/png": "[encoded data removed]",
      "text/plain": [
       "<Figure size 432x288 with 1 Axes>"
      ]
     },
     "metadata": {
      "needs_background": "light"
     },
     "output_type": "display_data"
    }
   ],
   "source": [
    "sns.scatterplot(x='Temp',y='Rad',hue='Name',data=all_datasets);"
   ]
  },
  {
   "cell_type": "code",
   "execution_count": 135,
   "id": "22ff36c5",
   "metadata": {},
   "outputs": [
    {
     "data": {
      "image/png": "[encoded data removed]",
      "text/plain": [
       "<Figure size 864x432 with 1 Axes>"
      ]
     },
     "metadata": {
      "needs_background": "light"
     },
     "output_type": "display_data"
    }
   ],
   "source": [
    "plt.figure(figsize=(12,6))\n",
    "sns.scatterplot(x='Humidity',y='Rad',hue='Name',data=all_datasets);\n",
    "plt.title('Radiation vs Humidity');"
   ]
  },
  {
   "cell_type": "code",
   "execution_count": 138,
   "id": "e352c110",
   "metadata": {},
   "outputs": [
    {
     "data": {
      "image/png": "[encoded data removed]",
      "text/plain": [
       "<Figure size 864x432 with 1 Axes>"
      ]
     },
     "metadata": {
      "needs_background": "light"
     },
     "output_type": "display_data"
    }
   ],
   "source": [
    "plt.figure(figsize=(12,6))\n",
    "sns.regplot(x='Humidity',y='Rad',data=all_datasets);\n",
    "plt.title('Radiation vs Humidity');"
   ]
  },
  {
   "cell_type": "code",
   "execution_count": 141,
   "id": "052cf646",
   "metadata": {},
   "outputs": [
    {
     "name": "stdout",
     "output_type": "stream",
     "text": [
      "                            OLS Regression Results                            \n",
      "==============================================================================\n",
      "Dep. Variable:                    Rad   R-squared:                       0.547\n",
      "Model:                            OLS   Adj. R-squared:                  0.541\n",
      "Method:                 Least Squares   F-statistic:                     87.72\n",
      "Date:                Wed, 15 Dec 2021   Prob (F-statistic):           2.91e-37\n",
      "Time:                        16:46:14   Log-Likelihood:                -958.21\n",
      "No. Observations:                 222   AIC:                             1924.\n",
      "Df Residuals:                     218   BIC:                             1938.\n",
      "Df Model:                           3                                         \n",
      "Covariance Type:            nonrobust                                         \n",
      "=======================================================================================\n",
      "                          coef    std err          t      P>|t|      [0.025      0.975]\n",
      "---------------------------------------------------------------------------------------\n",
      "Intercept             249.4158     59.920      4.162      0.000     131.319     367.513\n",
      "Name[T.Hill]           35.0753      6.068      5.781      0.000      23.116      47.034\n",
      "Name[T.Li Ka Shing]     4.8035      3.408      1.409      0.160      -1.914      11.521\n",
      "Humidity               -1.5631      1.017     -1.537      0.126      -3.568       0.441\n",
      "==============================================================================\n",
      "Omnibus:                       12.785   Durbin-Watson:                   1.128\n",
      "Prob(Omnibus):                  0.002   Jarque-Bera (JB):               14.481\n",
      "Skew:                           0.484   Prob(JB):                     0.000717\n",
      "Kurtosis:                       3.793   Cond. No.                     2.83e+03\n",
      "==============================================================================\n",
      "\n",
      "Notes:\n",
      "[1] Standard Errors assume that the covariance matrix of the errors is correctly specified.\n",
      "[2] The condition number is large, 2.83e+03. This might indicate that there are\n",
      "strong multicollinearity or other numerical problems.\n"
     ]
    }
   ],
   "source": [
    "print(smf.ols('Rad~Humidity+Name',data=all_datasets).fit().summary())"
   ]
  },
  {
   "cell_type": "code",
   "execution_count": 112,
   "id": "a4fe8bd0",
   "metadata": {
    "scrolled": true
   },
   "outputs": [
    {
     "data": {
      "image/png": "[encoded data removed]",
      "text/plain": [
       "<Figure size 432x288 with 1 Axes>"
      ]
     },
     "metadata": {
      "needs_background": "light"
     },
     "output_type": "display_data"
    }
   ],
   "source": [
    "sns.scatterplot(x='AQ',y='Rad',hue='Name',data=all_datasets);"
   ]
  },
  {
   "cell_type": "code",
   "execution_count": 149,
   "id": "ad4ae974",
   "metadata": {
    "scrolled": false
   },
   "outputs": [
    {
     "data": {
      "image/png": "[encoded data removed]",
      "text/plain": [
       "<Figure size 864x432 with 1 Axes>"
      ]
     },
     "metadata": {
      "needs_background": "light"
     },
     "output_type": "display_data"
    }
   ],
   "source": [
    "plt.figure(figsize=(12,6))\n",
    "plt.plot(all_grove['Rad'],label='Grove');\n",
    "plt.plot(all_Hill['Rad'],label='Hill');\n",
    "plt.plot(all_lika['Rad'],label='Li Ka Shing');\n",
    "plt.legend(loc='upper right');\n",
    "plt.xlabel('Time')\n",
    "plt.ylabel('Radiation (Counts)')\n",
    "plt.title('Radiation vs Time');"
   ]
  },
  {
   "cell_type": "code",
   "execution_count": 127,
   "id": "a6be3b38",
   "metadata": {},
   "outputs": [
    {
     "data": {
      "image/png": "[encoded data removed]",
      "text/plain": [
       "<Figure size 432x288 with 1 Axes>"
      ]
     },
     "metadata": {
      "needs_background": "light"
     },
     "output_type": "display_data"
    }
   ],
   "source": [
    "plt.plot(all_Hill['Rad']);"
   ]
  },
  {
   "cell_type": "code",
   "execution_count": 128,
   "id": "e97b4a5a",
   "metadata": {},
   "outputs": [
    {
     "data": {
      "image/png": "[encoded data removed]",
      "text/plain": [
       "<Figure size 432x288 with 1 Axes>"
      ]
     },
     "metadata": {
      "needs_background": "light"
     },
     "output_type": "display_data"
    }
   ],
   "source": [
    "plt.plot(all_lika['Rad']);"
   ]
  }
 ],
 "metadata": {
  "kernelspec": {
   "display_name": "Python 3 (ipykernel)",
   "language": "python",
   "name": "python3"
  },
  "language_info": {
   "codemirror_mode": {
    "name": "ipython",
    "version": 3
   },
   "file_extension": ".py",
   "mimetype": "text/x-python",
   "name": "python",
   "nbconvert_exporter": "python",
   "pygments_lexer": "ipython3",
   "version": "3.8.12"
  }
 },
 "nbformat": 4,
 "nbformat_minor": 5
}
